{
 "cells": [
  {
   "cell_type": "code",
   "execution_count": 3,
   "id": "a8a7afef-0d95-4d4c-ad5a-fc2f15bbf981",
   "metadata": {},
   "outputs": [
    {
     "name": "stdout",
     "output_type": "stream",
     "text": [
      "hello machine learning\n"
     ]
    }
   ],
   "source": [
    "print(\"hello machine learning\")"
   ]
  },
  {
   "cell_type": "markdown",
   "id": "f9073381-790a-410f-8e67-ca5d0e619c68",
   "metadata": {},
   "source": [
    "This is a markdown cell"
   ]
  },
  {
   "cell_type": "code",
   "execution_count": null,
   "id": "fc09c1bb-3158-4067-ab98-2cf39aa51fd6",
   "metadata": {},
   "outputs": [],
   "source": [
    "4 + 1\n",
    "5 - 3"
   ]
  },
  {
   "cell_type": "code",
   "execution_count": 14,
   "id": "eee52da7-72da-49cc-9f03-fc098315d20e",
   "metadata": {},
   "outputs": [
    {
     "name": "stdout",
     "output_type": "stream",
     "text": [
      "hi\n"
     ]
    }
   ],
   "source": [
    "print('hi')"
   ]
  },
  {
   "cell_type": "markdown",
   "id": "d4b82cc5-a455-4709-b574-93fb606cb50d",
   "metadata": {},
   "source": [
    "$$\\sum_i$$"
   ]
  },
  {
   "cell_type": "code",
   "execution_count": null,
   "id": "6acc627b-3e87-4691-a46b-7cf8a9d2caa7",
   "metadata": {},
   "outputs": [],
   "source": []
  }
 ],
 "metadata": {
  "kernelspec": {
   "display_name": "Python 3 (ipykernel)",
   "language": "python",
   "name": "python3"
  },
  "language_info": {
   "codemirror_mode": {
    "name": "ipython",
    "version": 3
   },
   "file_extension": ".py",
   "mimetype": "text/x-python",
   "name": "python",
   "nbconvert_exporter": "python",
   "pygments_lexer": "ipython3",
   "version": "3.12.8"
  }
 },
 "nbformat": 4,
 "nbformat_minor": 5
}
