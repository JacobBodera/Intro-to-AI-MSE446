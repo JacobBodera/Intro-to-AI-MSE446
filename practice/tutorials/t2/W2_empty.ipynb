{
 "cells": [
  {
   "cell_type": "markdown",
   "id": "317a5de3",
   "metadata": {},
   "source": [
    "# Week 3: Exercises"
   ]
  },
  {
   "cell_type": "code",
   "execution_count": 25,
   "id": "0be04c28",
   "metadata": {},
   "outputs": [],
   "source": [
    "import numpy as np\n",
    "import pandas as pd\n",
    "\n",
    "from sklearn import preprocessing \n",
    "import matplotlib.pyplot as plt\n",
    "import seaborn as sns\n",
    "\n",
    "%matplotlib inline"
   ]
  },
  {
   "cell_type": "markdown",
   "id": "0c0781f5",
   "metadata": {},
   "source": [
    "Let's import and explore the data file \"heart_failure.csv\":"
   ]
  },
  {
   "cell_type": "code",
   "execution_count": 19,
   "id": "78668b92",
   "metadata": {},
   "outputs": [
    {
     "data": {
      "text/html": [
       "<div>\n",
       "<style scoped>\n",
       "    .dataframe tbody tr th:only-of-type {\n",
       "        vertical-align: middle;\n",
       "    }\n",
       "\n",
       "    .dataframe tbody tr th {\n",
       "        vertical-align: top;\n",
       "    }\n",
       "\n",
       "    .dataframe thead th {\n",
       "        text-align: right;\n",
       "    }\n",
       "</style>\n",
       "<table border=\"1\" class=\"dataframe\">\n",
       "  <thead>\n",
       "    <tr style=\"text-align: right;\">\n",
       "      <th></th>\n",
       "      <th>age</th>\n",
       "      <th>anaemia</th>\n",
       "      <th>creatinine_phosphokinase</th>\n",
       "      <th>diabetes</th>\n",
       "      <th>ejection_fraction</th>\n",
       "      <th>high_blood_pressure</th>\n",
       "      <th>platelets</th>\n",
       "      <th>serum_creatinine</th>\n",
       "      <th>serum_sodium</th>\n",
       "      <th>sex</th>\n",
       "      <th>smoking</th>\n",
       "      <th>time</th>\n",
       "      <th>DEATH_EVENT</th>\n",
       "    </tr>\n",
       "  </thead>\n",
       "  <tbody>\n",
       "    <tr>\n",
       "      <th>0</th>\n",
       "      <td>75.0</td>\n",
       "      <td>0</td>\n",
       "      <td>582</td>\n",
       "      <td>0</td>\n",
       "      <td>20</td>\n",
       "      <td>1</td>\n",
       "      <td>265000.00</td>\n",
       "      <td>1.9</td>\n",
       "      <td>130</td>\n",
       "      <td>1</td>\n",
       "      <td>0</td>\n",
       "      <td>4</td>\n",
       "      <td>1</td>\n",
       "    </tr>\n",
       "    <tr>\n",
       "      <th>1</th>\n",
       "      <td>55.0</td>\n",
       "      <td>0</td>\n",
       "      <td>7861</td>\n",
       "      <td>0</td>\n",
       "      <td>38</td>\n",
       "      <td>0</td>\n",
       "      <td>263358.03</td>\n",
       "      <td>1.1</td>\n",
       "      <td>136</td>\n",
       "      <td>1</td>\n",
       "      <td>0</td>\n",
       "      <td>6</td>\n",
       "      <td>1</td>\n",
       "    </tr>\n",
       "    <tr>\n",
       "      <th>2</th>\n",
       "      <td>65.0</td>\n",
       "      <td>0</td>\n",
       "      <td>146</td>\n",
       "      <td>0</td>\n",
       "      <td>20</td>\n",
       "      <td>0</td>\n",
       "      <td>162000.00</td>\n",
       "      <td>1.3</td>\n",
       "      <td>129</td>\n",
       "      <td>1</td>\n",
       "      <td>1</td>\n",
       "      <td>7</td>\n",
       "      <td>1</td>\n",
       "    </tr>\n",
       "    <tr>\n",
       "      <th>3</th>\n",
       "      <td>50.0</td>\n",
       "      <td>1</td>\n",
       "      <td>111</td>\n",
       "      <td>0</td>\n",
       "      <td>20</td>\n",
       "      <td>0</td>\n",
       "      <td>210000.00</td>\n",
       "      <td>1.9</td>\n",
       "      <td>137</td>\n",
       "      <td>1</td>\n",
       "      <td>0</td>\n",
       "      <td>7</td>\n",
       "      <td>1</td>\n",
       "    </tr>\n",
       "    <tr>\n",
       "      <th>4</th>\n",
       "      <td>65.0</td>\n",
       "      <td>1</td>\n",
       "      <td>160</td>\n",
       "      <td>1</td>\n",
       "      <td>20</td>\n",
       "      <td>0</td>\n",
       "      <td>327000.00</td>\n",
       "      <td>2.7</td>\n",
       "      <td>116</td>\n",
       "      <td>0</td>\n",
       "      <td>0</td>\n",
       "      <td>8</td>\n",
       "      <td>1</td>\n",
       "    </tr>\n",
       "  </tbody>\n",
       "</table>\n",
       "</div>"
      ],
      "text/plain": [
       "    age  anaemia  creatinine_phosphokinase  diabetes  ejection_fraction  \\\n",
       "0  75.0        0                       582         0                 20   \n",
       "1  55.0        0                      7861         0                 38   \n",
       "2  65.0        0                       146         0                 20   \n",
       "3  50.0        1                       111         0                 20   \n",
       "4  65.0        1                       160         1                 20   \n",
       "\n",
       "   high_blood_pressure  platelets  serum_creatinine  serum_sodium  sex  \\\n",
       "0                    1  265000.00               1.9           130    1   \n",
       "1                    0  263358.03               1.1           136    1   \n",
       "2                    0  162000.00               1.3           129    1   \n",
       "3                    0  210000.00               1.9           137    1   \n",
       "4                    0  327000.00               2.7           116    0   \n",
       "\n",
       "   smoking  time  DEATH_EVENT  \n",
       "0        0     4            1  \n",
       "1        0     6            1  \n",
       "2        1     7            1  \n",
       "3        0     7            1  \n",
       "4        0     8            1  "
      ]
     },
     "execution_count": 19,
     "metadata": {},
     "output_type": "execute_result"
    }
   ],
   "source": [
    "heart = pd.read_csv('heart_failure1.csv')\n",
    "heart.head()"
   ]
  },
  {
   "cell_type": "markdown",
   "id": "8c865383-7171-49c1-952e-ed2da5c426d5",
   "metadata": {},
   "source": [
    "Let's see if you still remember how to check missing values and look at data summaries."
   ]
  },
  {
   "cell_type": "markdown",
   "id": "951abe4b",
   "metadata": {},
   "source": [
    ">__Task 1__\n",
    ">\n",
    ">Find out the columns with missing values and data summaries"
   ]
  },
  {
   "cell_type": "code",
   "execution_count": 20,
   "id": "cad49c81",
   "metadata": {},
   "outputs": [
    {
     "data": {
      "text/plain": [
       "age                         0\n",
       "anaemia                     0\n",
       "creatinine_phosphokinase    0\n",
       "diabetes                    0\n",
       "ejection_fraction           0\n",
       "high_blood_pressure         0\n",
       "platelets                   0\n",
       "serum_creatinine            0\n",
       "serum_sodium                0\n",
       "sex                         0\n",
       "smoking                     0\n",
       "time                        0\n",
       "DEATH_EVENT                 0\n",
       "dtype: int64"
      ]
     },
     "execution_count": 20,
     "metadata": {},
     "output_type": "execute_result"
    }
   ],
   "source": [
    "# Find missing values\n",
    "heart.isna().sum()"
   ]
  },
  {
   "cell_type": "code",
   "execution_count": 21,
   "id": "4533191e",
   "metadata": {},
   "outputs": [
    {
     "data": {
      "text/html": [
       "<div>\n",
       "<style scoped>\n",
       "    .dataframe tbody tr th:only-of-type {\n",
       "        vertical-align: middle;\n",
       "    }\n",
       "\n",
       "    .dataframe tbody tr th {\n",
       "        vertical-align: top;\n",
       "    }\n",
       "\n",
       "    .dataframe thead th {\n",
       "        text-align: right;\n",
       "    }\n",
       "</style>\n",
       "<table border=\"1\" class=\"dataframe\">\n",
       "  <thead>\n",
       "    <tr style=\"text-align: right;\">\n",
       "      <th></th>\n",
       "      <th>age</th>\n",
       "      <th>anaemia</th>\n",
       "      <th>creatinine_phosphokinase</th>\n",
       "      <th>diabetes</th>\n",
       "      <th>ejection_fraction</th>\n",
       "      <th>high_blood_pressure</th>\n",
       "      <th>platelets</th>\n",
       "      <th>serum_creatinine</th>\n",
       "      <th>serum_sodium</th>\n",
       "      <th>sex</th>\n",
       "      <th>smoking</th>\n",
       "      <th>time</th>\n",
       "      <th>DEATH_EVENT</th>\n",
       "    </tr>\n",
       "  </thead>\n",
       "  <tbody>\n",
       "    <tr>\n",
       "      <th>count</th>\n",
       "      <td>299.000000</td>\n",
       "      <td>299.000000</td>\n",
       "      <td>299.000000</td>\n",
       "      <td>299.000000</td>\n",
       "      <td>299.000000</td>\n",
       "      <td>299.000000</td>\n",
       "      <td>299.000000</td>\n",
       "      <td>299.00000</td>\n",
       "      <td>299.000000</td>\n",
       "      <td>299.000000</td>\n",
       "      <td>299.00000</td>\n",
       "      <td>299.000000</td>\n",
       "      <td>299.00000</td>\n",
       "    </tr>\n",
       "    <tr>\n",
       "      <th>mean</th>\n",
       "      <td>60.833893</td>\n",
       "      <td>0.431438</td>\n",
       "      <td>581.839465</td>\n",
       "      <td>0.418060</td>\n",
       "      <td>38.083612</td>\n",
       "      <td>0.351171</td>\n",
       "      <td>263358.029264</td>\n",
       "      <td>1.39388</td>\n",
       "      <td>136.625418</td>\n",
       "      <td>0.648829</td>\n",
       "      <td>0.32107</td>\n",
       "      <td>130.260870</td>\n",
       "      <td>0.32107</td>\n",
       "    </tr>\n",
       "    <tr>\n",
       "      <th>std</th>\n",
       "      <td>11.894809</td>\n",
       "      <td>0.496107</td>\n",
       "      <td>970.287881</td>\n",
       "      <td>0.494067</td>\n",
       "      <td>11.834841</td>\n",
       "      <td>0.478136</td>\n",
       "      <td>97804.236869</td>\n",
       "      <td>1.03451</td>\n",
       "      <td>4.412477</td>\n",
       "      <td>0.478136</td>\n",
       "      <td>0.46767</td>\n",
       "      <td>77.614208</td>\n",
       "      <td>0.46767</td>\n",
       "    </tr>\n",
       "    <tr>\n",
       "      <th>min</th>\n",
       "      <td>40.000000</td>\n",
       "      <td>0.000000</td>\n",
       "      <td>23.000000</td>\n",
       "      <td>0.000000</td>\n",
       "      <td>14.000000</td>\n",
       "      <td>0.000000</td>\n",
       "      <td>25100.000000</td>\n",
       "      <td>0.50000</td>\n",
       "      <td>113.000000</td>\n",
       "      <td>0.000000</td>\n",
       "      <td>0.00000</td>\n",
       "      <td>4.000000</td>\n",
       "      <td>0.00000</td>\n",
       "    </tr>\n",
       "    <tr>\n",
       "      <th>25%</th>\n",
       "      <td>51.000000</td>\n",
       "      <td>0.000000</td>\n",
       "      <td>116.500000</td>\n",
       "      <td>0.000000</td>\n",
       "      <td>30.000000</td>\n",
       "      <td>0.000000</td>\n",
       "      <td>212500.000000</td>\n",
       "      <td>0.90000</td>\n",
       "      <td>134.000000</td>\n",
       "      <td>0.000000</td>\n",
       "      <td>0.00000</td>\n",
       "      <td>73.000000</td>\n",
       "      <td>0.00000</td>\n",
       "    </tr>\n",
       "    <tr>\n",
       "      <th>50%</th>\n",
       "      <td>60.000000</td>\n",
       "      <td>0.000000</td>\n",
       "      <td>250.000000</td>\n",
       "      <td>0.000000</td>\n",
       "      <td>38.000000</td>\n",
       "      <td>0.000000</td>\n",
       "      <td>262000.000000</td>\n",
       "      <td>1.10000</td>\n",
       "      <td>137.000000</td>\n",
       "      <td>1.000000</td>\n",
       "      <td>0.00000</td>\n",
       "      <td>115.000000</td>\n",
       "      <td>0.00000</td>\n",
       "    </tr>\n",
       "    <tr>\n",
       "      <th>75%</th>\n",
       "      <td>70.000000</td>\n",
       "      <td>1.000000</td>\n",
       "      <td>582.000000</td>\n",
       "      <td>1.000000</td>\n",
       "      <td>45.000000</td>\n",
       "      <td>1.000000</td>\n",
       "      <td>303500.000000</td>\n",
       "      <td>1.40000</td>\n",
       "      <td>140.000000</td>\n",
       "      <td>1.000000</td>\n",
       "      <td>1.00000</td>\n",
       "      <td>203.000000</td>\n",
       "      <td>1.00000</td>\n",
       "    </tr>\n",
       "    <tr>\n",
       "      <th>max</th>\n",
       "      <td>95.000000</td>\n",
       "      <td>1.000000</td>\n",
       "      <td>7861.000000</td>\n",
       "      <td>1.000000</td>\n",
       "      <td>80.000000</td>\n",
       "      <td>1.000000</td>\n",
       "      <td>850000.000000</td>\n",
       "      <td>9.40000</td>\n",
       "      <td>148.000000</td>\n",
       "      <td>1.000000</td>\n",
       "      <td>1.00000</td>\n",
       "      <td>285.000000</td>\n",
       "      <td>1.00000</td>\n",
       "    </tr>\n",
       "  </tbody>\n",
       "</table>\n",
       "</div>"
      ],
      "text/plain": [
       "              age     anaemia  creatinine_phosphokinase    diabetes  \\\n",
       "count  299.000000  299.000000                299.000000  299.000000   \n",
       "mean    60.833893    0.431438                581.839465    0.418060   \n",
       "std     11.894809    0.496107                970.287881    0.494067   \n",
       "min     40.000000    0.000000                 23.000000    0.000000   \n",
       "25%     51.000000    0.000000                116.500000    0.000000   \n",
       "50%     60.000000    0.000000                250.000000    0.000000   \n",
       "75%     70.000000    1.000000                582.000000    1.000000   \n",
       "max     95.000000    1.000000               7861.000000    1.000000   \n",
       "\n",
       "       ejection_fraction  high_blood_pressure      platelets  \\\n",
       "count         299.000000           299.000000     299.000000   \n",
       "mean           38.083612             0.351171  263358.029264   \n",
       "std            11.834841             0.478136   97804.236869   \n",
       "min            14.000000             0.000000   25100.000000   \n",
       "25%            30.000000             0.000000  212500.000000   \n",
       "50%            38.000000             0.000000  262000.000000   \n",
       "75%            45.000000             1.000000  303500.000000   \n",
       "max            80.000000             1.000000  850000.000000   \n",
       "\n",
       "       serum_creatinine  serum_sodium         sex    smoking        time  \\\n",
       "count         299.00000    299.000000  299.000000  299.00000  299.000000   \n",
       "mean            1.39388    136.625418    0.648829    0.32107  130.260870   \n",
       "std             1.03451      4.412477    0.478136    0.46767   77.614208   \n",
       "min             0.50000    113.000000    0.000000    0.00000    4.000000   \n",
       "25%             0.90000    134.000000    0.000000    0.00000   73.000000   \n",
       "50%             1.10000    137.000000    1.000000    0.00000  115.000000   \n",
       "75%             1.40000    140.000000    1.000000    1.00000  203.000000   \n",
       "max             9.40000    148.000000    1.000000    1.00000  285.000000   \n",
       "\n",
       "       DEATH_EVENT  \n",
       "count    299.00000  \n",
       "mean       0.32107  \n",
       "std        0.46767  \n",
       "min        0.00000  \n",
       "25%        0.00000  \n",
       "50%        0.00000  \n",
       "75%        1.00000  \n",
       "max        1.00000  "
      ]
     },
     "execution_count": 21,
     "metadata": {},
     "output_type": "execute_result"
    }
   ],
   "source": [
    "# Check the summary statistics of the data set\n",
    "heart.describe()"
   ]
  },
  {
   "cell_type": "markdown",
   "id": "9ce6dc36-eef7-4eba-b954-6d52e235bad8",
   "metadata": {},
   "source": [
    "***"
   ]
  },
  {
   "cell_type": "markdown",
   "id": "8a83551e",
   "metadata": {
    "tags": []
   },
   "source": [
    "## Plotting with Pandas"
   ]
  },
  {
   "cell_type": "markdown",
   "id": "6d9a3cdc",
   "metadata": {},
   "source": [
    "### Line Plot\n",
    "\n",
    "Let's count the number of patients by follow-up days (__time__ column) in the dataset:"
   ]
  },
  {
   "cell_type": "code",
   "execution_count": 27,
   "id": "2844c340",
   "metadata": {},
   "outputs": [
    {
     "ename": "NameError",
     "evalue": "name 'plot' is not defined",
     "output_type": "error",
     "traceback": [
      "\u001b[0;31m---------------------------------------------------------------------------\u001b[0m",
      "\u001b[0;31mNameError\u001b[0m                                 Traceback (most recent call last)",
      "Cell \u001b[0;32mIn[27], line 2\u001b[0m\n\u001b[1;32m      1\u001b[0m heart[\u001b[38;5;124m\"\u001b[39m\u001b[38;5;124mtime\u001b[39m\u001b[38;5;124m\"\u001b[39m]\u001b[38;5;241m.\u001b[39mvalue_counts()\u001b[38;5;241m.\u001b[39msort_index()\u001b[38;5;241m.\u001b[39mplot()\n\u001b[0;32m----> 2\u001b[0m plot\u001b[38;5;241m.\u001b[39mshow()\n",
      "\u001b[0;31mNameError\u001b[0m: name 'plot' is not defined"
     ]
    }
   ],
   "source": [
    "heart[\"time\"].value_counts().sort_index().plot()"
   ]
  },
  {
   "cell_type": "markdown",
   "id": "fe11053e",
   "metadata": {},
   "source": [
    ">__Task 2__\n",
    ">\n",
    ">Use a line plot to visualize the number of patients by follow-up days. Note that the __time__ column is not a date that automatic sorted. Try the `.sort_index()` method."
   ]
  },
  {
   "cell_type": "code",
   "execution_count": null,
   "id": "7a2f219d",
   "metadata": {},
   "outputs": [],
   "source": [
    "..."
   ]
  },
  {
   "cell_type": "markdown",
   "id": "bcb9a08b",
   "metadata": {},
   "source": [
    "### Bar Plot\n",
    "\n",
    "Let's visualize the diabetes conditions of patients from the data set. First, count the number of patients by diabetes column: "
   ]
  },
  {
   "cell_type": "markdown",
   "id": "6aab0d3b",
   "metadata": {},
   "source": [
    ">__Task 3__\n",
    ">\n",
    ">Use a horizontal bar plot to visualize the diabetes conditions of patentis\n",
    ">- Adjust the transparency of bars to 60%\n",
    ">- Set figure size to (10,5)\n",
    ">- Set rotation to 20"
   ]
  },
  {
   "cell_type": "code",
   "execution_count": 14,
   "id": "f0a41a69",
   "metadata": {},
   "outputs": [
    {
     "ename": "AttributeError",
     "evalue": "Line2D.set() got an unexpected keyword argument 'kiznd'",
     "output_type": "error",
     "traceback": [
      "\u001b[0;31m---------------------------------------------------------------------------\u001b[0m",
      "\u001b[0;31mAttributeError\u001b[0m                            Traceback (most recent call last)",
      "Cell \u001b[0;32mIn[14], line 1\u001b[0m\n\u001b[0;32m----> 1\u001b[0m heart[\u001b[38;5;124m'\u001b[39m\u001b[38;5;124mdiabetes\u001b[39m\u001b[38;5;124m'\u001b[39m]\u001b[38;5;241m.\u001b[39mvalue_counts()\u001b[38;5;241m.\u001b[39mplot(kiznd\u001b[38;5;241m=\u001b[39m\u001b[38;5;124m'\u001b[39m\u001b[38;5;124mbarh\u001b[39m\u001b[38;5;124m'\u001b[39m, alpha\u001b[38;5;241m=\u001b[39m\u001b[38;5;241m.6\u001b[39m, figsize\u001b[38;5;241m=\u001b[39m(\u001b[38;5;241m10\u001b[39m,\u001b[38;5;241m5\u001b[39m), rot\u001b[38;5;241m=\u001b[39m\u001b[38;5;241m20\u001b[39m)\n",
      "File \u001b[0;32m/opt/anaconda3/envs/MSE446/lib/python3.12/site-packages/pandas/plotting/_core.py:1030\u001b[0m, in \u001b[0;36mPlotAccessor.__call__\u001b[0;34m(self, *args, **kwargs)\u001b[0m\n\u001b[1;32m   1027\u001b[0m             label_name \u001b[38;5;241m=\u001b[39m label_kw \u001b[38;5;129;01mor\u001b[39;00m data\u001b[38;5;241m.\u001b[39mcolumns\n\u001b[1;32m   1028\u001b[0m             data\u001b[38;5;241m.\u001b[39mcolumns \u001b[38;5;241m=\u001b[39m label_name\n\u001b[0;32m-> 1030\u001b[0m \u001b[38;5;28;01mreturn\u001b[39;00m plot_backend\u001b[38;5;241m.\u001b[39mplot(data, kind\u001b[38;5;241m=\u001b[39mkind, \u001b[38;5;241m*\u001b[39m\u001b[38;5;241m*\u001b[39mkwargs)\n",
      "File \u001b[0;32m/opt/anaconda3/envs/MSE446/lib/python3.12/site-packages/pandas/plotting/_matplotlib/__init__.py:71\u001b[0m, in \u001b[0;36mplot\u001b[0;34m(data, kind, **kwargs)\u001b[0m\n\u001b[1;32m     69\u001b[0m         kwargs[\u001b[38;5;124m\"\u001b[39m\u001b[38;5;124max\u001b[39m\u001b[38;5;124m\"\u001b[39m] \u001b[38;5;241m=\u001b[39m \u001b[38;5;28mgetattr\u001b[39m(ax, \u001b[38;5;124m\"\u001b[39m\u001b[38;5;124mleft_ax\u001b[39m\u001b[38;5;124m\"\u001b[39m, ax)\n\u001b[1;32m     70\u001b[0m plot_obj \u001b[38;5;241m=\u001b[39m PLOT_CLASSES[kind](data, \u001b[38;5;241m*\u001b[39m\u001b[38;5;241m*\u001b[39mkwargs)\n\u001b[0;32m---> 71\u001b[0m plot_obj\u001b[38;5;241m.\u001b[39mgenerate()\n\u001b[1;32m     72\u001b[0m plot_obj\u001b[38;5;241m.\u001b[39mdraw()\n\u001b[1;32m     73\u001b[0m \u001b[38;5;28;01mreturn\u001b[39;00m plot_obj\u001b[38;5;241m.\u001b[39mresult\n",
      "File \u001b[0;32m/opt/anaconda3/envs/MSE446/lib/python3.12/site-packages/pandas/plotting/_matplotlib/core.py:501\u001b[0m, in \u001b[0;36mMPLPlot.generate\u001b[0;34m(self)\u001b[0m\n\u001b[1;32m    499\u001b[0m \u001b[38;5;28mself\u001b[39m\u001b[38;5;241m.\u001b[39m_compute_plot_data()\n\u001b[1;32m    500\u001b[0m fig \u001b[38;5;241m=\u001b[39m \u001b[38;5;28mself\u001b[39m\u001b[38;5;241m.\u001b[39mfig\n\u001b[0;32m--> 501\u001b[0m \u001b[38;5;28mself\u001b[39m\u001b[38;5;241m.\u001b[39m_make_plot(fig)\n\u001b[1;32m    502\u001b[0m \u001b[38;5;28mself\u001b[39m\u001b[38;5;241m.\u001b[39m_add_table()\n\u001b[1;32m    503\u001b[0m \u001b[38;5;28mself\u001b[39m\u001b[38;5;241m.\u001b[39m_make_legend()\n",
      "File \u001b[0;32m/opt/anaconda3/envs/MSE446/lib/python3.12/site-packages/pandas/plotting/_matplotlib/core.py:1550\u001b[0m, in \u001b[0;36mLinePlot._make_plot\u001b[0;34m(self, fig)\u001b[0m\n\u001b[1;32m   1547\u001b[0m label \u001b[38;5;241m=\u001b[39m \u001b[38;5;28mself\u001b[39m\u001b[38;5;241m.\u001b[39m_mark_right_label(label, index\u001b[38;5;241m=\u001b[39mi)\n\u001b[1;32m   1548\u001b[0m kwds[\u001b[38;5;124m\"\u001b[39m\u001b[38;5;124mlabel\u001b[39m\u001b[38;5;124m\"\u001b[39m] \u001b[38;5;241m=\u001b[39m label\n\u001b[0;32m-> 1550\u001b[0m newlines \u001b[38;5;241m=\u001b[39m plotf(\n\u001b[1;32m   1551\u001b[0m     ax,\n\u001b[1;32m   1552\u001b[0m     x,\n\u001b[1;32m   1553\u001b[0m     y,\n\u001b[1;32m   1554\u001b[0m     style\u001b[38;5;241m=\u001b[39mstyle,\n\u001b[1;32m   1555\u001b[0m     column_num\u001b[38;5;241m=\u001b[39mi,\n\u001b[1;32m   1556\u001b[0m     stacking_id\u001b[38;5;241m=\u001b[39mstacking_id,\n\u001b[1;32m   1557\u001b[0m     is_errorbar\u001b[38;5;241m=\u001b[39mis_errorbar,\n\u001b[1;32m   1558\u001b[0m     \u001b[38;5;241m*\u001b[39m\u001b[38;5;241m*\u001b[39mkwds,\n\u001b[1;32m   1559\u001b[0m )\n\u001b[1;32m   1560\u001b[0m \u001b[38;5;28mself\u001b[39m\u001b[38;5;241m.\u001b[39m_append_legend_handles_labels(newlines[\u001b[38;5;241m0\u001b[39m], label)\n\u001b[1;32m   1562\u001b[0m \u001b[38;5;28;01mif\u001b[39;00m \u001b[38;5;28mself\u001b[39m\u001b[38;5;241m.\u001b[39m_is_ts_plot():\n\u001b[1;32m   1563\u001b[0m     \u001b[38;5;66;03m# reset of xlim should be used for ts data\u001b[39;00m\n\u001b[1;32m   1564\u001b[0m     \u001b[38;5;66;03m# TODO: GH28021, should find a way to change view limit on xaxis\u001b[39;00m\n",
      "File \u001b[0;32m/opt/anaconda3/envs/MSE446/lib/python3.12/site-packages/pandas/plotting/_matplotlib/core.py:1586\u001b[0m, in \u001b[0;36mLinePlot._plot\u001b[0;34m(cls, ax, x, y, style, column_num, stacking_id, **kwds)\u001b[0m\n\u001b[1;32m   1584\u001b[0m     \u001b[38;5;28mcls\u001b[39m\u001b[38;5;241m.\u001b[39m_initialize_stacker(ax, stacking_id, \u001b[38;5;28mlen\u001b[39m(y))\n\u001b[1;32m   1585\u001b[0m y_values \u001b[38;5;241m=\u001b[39m \u001b[38;5;28mcls\u001b[39m\u001b[38;5;241m.\u001b[39m_get_stacked_values(ax, stacking_id, y, kwds[\u001b[38;5;124m\"\u001b[39m\u001b[38;5;124mlabel\u001b[39m\u001b[38;5;124m\"\u001b[39m])\n\u001b[0;32m-> 1586\u001b[0m lines \u001b[38;5;241m=\u001b[39m MPLPlot\u001b[38;5;241m.\u001b[39m_plot(ax, x, y_values, style\u001b[38;5;241m=\u001b[39mstyle, \u001b[38;5;241m*\u001b[39m\u001b[38;5;241m*\u001b[39mkwds)\n\u001b[1;32m   1587\u001b[0m \u001b[38;5;28mcls\u001b[39m\u001b[38;5;241m.\u001b[39m_update_stacker(ax, stacking_id, y)\n\u001b[1;32m   1588\u001b[0m \u001b[38;5;28;01mreturn\u001b[39;00m lines\n",
      "File \u001b[0;32m/opt/anaconda3/envs/MSE446/lib/python3.12/site-packages/pandas/plotting/_matplotlib/converter.py:95\u001b[0m, in \u001b[0;36mregister_pandas_matplotlib_converters.<locals>.wrapper\u001b[0;34m(*args, **kwargs)\u001b[0m\n\u001b[1;32m     92\u001b[0m \u001b[38;5;129m@functools\u001b[39m\u001b[38;5;241m.\u001b[39mwraps(func)\n\u001b[1;32m     93\u001b[0m \u001b[38;5;28;01mdef\u001b[39;00m \u001b[38;5;21mwrapper\u001b[39m(\u001b[38;5;241m*\u001b[39margs, \u001b[38;5;241m*\u001b[39m\u001b[38;5;241m*\u001b[39mkwargs):\n\u001b[1;32m     94\u001b[0m     \u001b[38;5;28;01mwith\u001b[39;00m pandas_converters():\n\u001b[0;32m---> 95\u001b[0m         \u001b[38;5;28;01mreturn\u001b[39;00m func(\u001b[38;5;241m*\u001b[39margs, \u001b[38;5;241m*\u001b[39m\u001b[38;5;241m*\u001b[39mkwargs)\n",
      "File \u001b[0;32m/opt/anaconda3/envs/MSE446/lib/python3.12/site-packages/pandas/plotting/_matplotlib/core.py:981\u001b[0m, in \u001b[0;36mMPLPlot._plot\u001b[0;34m(cls, ax, x, y, style, is_errorbar, **kwds)\u001b[0m\n\u001b[1;32m    978\u001b[0m \u001b[38;5;28;01melse\u001b[39;00m:\n\u001b[1;32m    979\u001b[0m     \u001b[38;5;66;03m# prevent style kwarg from going to errorbar, where it is unsupported\u001b[39;00m\n\u001b[1;32m    980\u001b[0m     args \u001b[38;5;241m=\u001b[39m (x, y, style) \u001b[38;5;28;01mif\u001b[39;00m style \u001b[38;5;129;01mis\u001b[39;00m \u001b[38;5;129;01mnot\u001b[39;00m \u001b[38;5;28;01mNone\u001b[39;00m \u001b[38;5;28;01melse\u001b[39;00m (x, y)\n\u001b[0;32m--> 981\u001b[0m     \u001b[38;5;28;01mreturn\u001b[39;00m ax\u001b[38;5;241m.\u001b[39mplot(\u001b[38;5;241m*\u001b[39margs, \u001b[38;5;241m*\u001b[39m\u001b[38;5;241m*\u001b[39mkwds)\n",
      "File \u001b[0;32m/opt/anaconda3/envs/MSE446/lib/python3.12/site-packages/matplotlib/axes/_axes.py:1777\u001b[0m, in \u001b[0;36mAxes.plot\u001b[0;34m(self, scalex, scaley, data, *args, **kwargs)\u001b[0m\n\u001b[1;32m   1534\u001b[0m \u001b[38;5;250m\u001b[39m\u001b[38;5;124;03m\"\"\"\u001b[39;00m\n\u001b[1;32m   1535\u001b[0m \u001b[38;5;124;03mPlot y versus x as lines and/or markers.\u001b[39;00m\n\u001b[1;32m   1536\u001b[0m \n\u001b[0;32m   (...)\u001b[0m\n\u001b[1;32m   1774\u001b[0m \u001b[38;5;124;03m(``'green'``) or hex strings (``'#008000'``).\u001b[39;00m\n\u001b[1;32m   1775\u001b[0m \u001b[38;5;124;03m\"\"\"\u001b[39;00m\n\u001b[1;32m   1776\u001b[0m kwargs \u001b[38;5;241m=\u001b[39m cbook\u001b[38;5;241m.\u001b[39mnormalize_kwargs(kwargs, mlines\u001b[38;5;241m.\u001b[39mLine2D)\n\u001b[0;32m-> 1777\u001b[0m lines \u001b[38;5;241m=\u001b[39m [\u001b[38;5;241m*\u001b[39m\u001b[38;5;28mself\u001b[39m\u001b[38;5;241m.\u001b[39m_get_lines(\u001b[38;5;28mself\u001b[39m, \u001b[38;5;241m*\u001b[39margs, data\u001b[38;5;241m=\u001b[39mdata, \u001b[38;5;241m*\u001b[39m\u001b[38;5;241m*\u001b[39mkwargs)]\n\u001b[1;32m   1778\u001b[0m \u001b[38;5;28;01mfor\u001b[39;00m line \u001b[38;5;129;01min\u001b[39;00m lines:\n\u001b[1;32m   1779\u001b[0m     \u001b[38;5;28mself\u001b[39m\u001b[38;5;241m.\u001b[39madd_line(line)\n",
      "File \u001b[0;32m/opt/anaconda3/envs/MSE446/lib/python3.12/site-packages/matplotlib/axes/_base.py:297\u001b[0m, in \u001b[0;36m_process_plot_var_args.__call__\u001b[0;34m(self, axes, data, return_kwargs, *args, **kwargs)\u001b[0m\n\u001b[1;32m    295\u001b[0m     this \u001b[38;5;241m+\u001b[39m\u001b[38;5;241m=\u001b[39m args[\u001b[38;5;241m0\u001b[39m],\n\u001b[1;32m    296\u001b[0m     args \u001b[38;5;241m=\u001b[39m args[\u001b[38;5;241m1\u001b[39m:]\n\u001b[0;32m--> 297\u001b[0m \u001b[38;5;28;01myield from\u001b[39;00m \u001b[38;5;28mself\u001b[39m\u001b[38;5;241m.\u001b[39m_plot_args(\n\u001b[1;32m    298\u001b[0m     axes, this, kwargs, ambiguous_fmt_datakey\u001b[38;5;241m=\u001b[39mambiguous_fmt_datakey,\n\u001b[1;32m    299\u001b[0m     return_kwargs\u001b[38;5;241m=\u001b[39mreturn_kwargs\n\u001b[1;32m    300\u001b[0m )\n",
      "File \u001b[0;32m/opt/anaconda3/envs/MSE446/lib/python3.12/site-packages/matplotlib/axes/_base.py:546\u001b[0m, in \u001b[0;36m_process_plot_var_args._plot_args\u001b[0;34m(self, axes, tup, kwargs, return_kwargs, ambiguous_fmt_datakey)\u001b[0m\n\u001b[1;32m    544\u001b[0m     \u001b[38;5;28;01mreturn\u001b[39;00m \u001b[38;5;28mlist\u001b[39m(result)\n\u001b[1;32m    545\u001b[0m \u001b[38;5;28;01melse\u001b[39;00m:\n\u001b[0;32m--> 546\u001b[0m     \u001b[38;5;28;01mreturn\u001b[39;00m [l[\u001b[38;5;241m0\u001b[39m] \u001b[38;5;28;01mfor\u001b[39;00m l \u001b[38;5;129;01min\u001b[39;00m result]\n",
      "File \u001b[0;32m/opt/anaconda3/envs/MSE446/lib/python3.12/site-packages/matplotlib/axes/_base.py:539\u001b[0m, in \u001b[0;36m<genexpr>\u001b[0;34m(.0)\u001b[0m\n\u001b[1;32m    534\u001b[0m \u001b[38;5;28;01melse\u001b[39;00m:\n\u001b[1;32m    535\u001b[0m     \u001b[38;5;28;01mraise\u001b[39;00m \u001b[38;5;167;01mValueError\u001b[39;00m(\n\u001b[1;32m    536\u001b[0m         \u001b[38;5;124mf\u001b[39m\u001b[38;5;124m\"\u001b[39m\u001b[38;5;124mlabel must be scalar or have the same length as the input \u001b[39m\u001b[38;5;124m\"\u001b[39m\n\u001b[1;32m    537\u001b[0m         \u001b[38;5;124mf\u001b[39m\u001b[38;5;124m\"\u001b[39m\u001b[38;5;124mdata, but found \u001b[39m\u001b[38;5;132;01m{\u001b[39;00m\u001b[38;5;28mlen\u001b[39m(label)\u001b[38;5;132;01m}\u001b[39;00m\u001b[38;5;124m for \u001b[39m\u001b[38;5;132;01m{\u001b[39;00mn_datasets\u001b[38;5;132;01m}\u001b[39;00m\u001b[38;5;124m datasets.\u001b[39m\u001b[38;5;124m\"\u001b[39m)\n\u001b[0;32m--> 539\u001b[0m result \u001b[38;5;241m=\u001b[39m (make_artist(axes, x[:, j \u001b[38;5;241m%\u001b[39m ncx], y[:, j \u001b[38;5;241m%\u001b[39m ncy], kw,\n\u001b[1;32m    540\u001b[0m                       {\u001b[38;5;241m*\u001b[39m\u001b[38;5;241m*\u001b[39mkwargs, \u001b[38;5;124m'\u001b[39m\u001b[38;5;124mlabel\u001b[39m\u001b[38;5;124m'\u001b[39m: label})\n\u001b[1;32m    541\u001b[0m           \u001b[38;5;28;01mfor\u001b[39;00m j, label \u001b[38;5;129;01min\u001b[39;00m \u001b[38;5;28menumerate\u001b[39m(labels))\n\u001b[1;32m    543\u001b[0m \u001b[38;5;28;01mif\u001b[39;00m return_kwargs:\n\u001b[1;32m    544\u001b[0m     \u001b[38;5;28;01mreturn\u001b[39;00m \u001b[38;5;28mlist\u001b[39m(result)\n",
      "File \u001b[0;32m/opt/anaconda3/envs/MSE446/lib/python3.12/site-packages/matplotlib/axes/_base.py:338\u001b[0m, in \u001b[0;36m_process_plot_var_args._make_line\u001b[0;34m(self, axes, x, y, kw, kwargs)\u001b[0m\n\u001b[1;32m    336\u001b[0m kw \u001b[38;5;241m=\u001b[39m {\u001b[38;5;241m*\u001b[39m\u001b[38;5;241m*\u001b[39mkw, \u001b[38;5;241m*\u001b[39m\u001b[38;5;241m*\u001b[39mkwargs}  \u001b[38;5;66;03m# Don't modify the original kw.\u001b[39;00m\n\u001b[1;32m    337\u001b[0m \u001b[38;5;28mself\u001b[39m\u001b[38;5;241m.\u001b[39m_setdefaults(\u001b[38;5;28mself\u001b[39m\u001b[38;5;241m.\u001b[39m_getdefaults(kw), kw)\n\u001b[0;32m--> 338\u001b[0m seg \u001b[38;5;241m=\u001b[39m mlines\u001b[38;5;241m.\u001b[39mLine2D(x, y, \u001b[38;5;241m*\u001b[39m\u001b[38;5;241m*\u001b[39mkw)\n\u001b[1;32m    339\u001b[0m \u001b[38;5;28;01mreturn\u001b[39;00m seg, kw\n",
      "File \u001b[0;32m/opt/anaconda3/envs/MSE446/lib/python3.12/site-packages/matplotlib/lines.py:407\u001b[0m, in \u001b[0;36mLine2D.__init__\u001b[0;34m(self, xdata, ydata, linewidth, linestyle, color, gapcolor, marker, markersize, markeredgewidth, markeredgecolor, markerfacecolor, markerfacecoloralt, fillstyle, antialiased, dash_capstyle, solid_capstyle, dash_joinstyle, solid_joinstyle, pickradius, drawstyle, markevery, **kwargs)\u001b[0m\n\u001b[1;32m    403\u001b[0m \u001b[38;5;28mself\u001b[39m\u001b[38;5;241m.\u001b[39mset_markeredgewidth(markeredgewidth)\n\u001b[1;32m    405\u001b[0m \u001b[38;5;66;03m# update kwargs before updating data to give the caller a\u001b[39;00m\n\u001b[1;32m    406\u001b[0m \u001b[38;5;66;03m# chance to init axes (and hence unit support)\u001b[39;00m\n\u001b[0;32m--> 407\u001b[0m \u001b[38;5;28mself\u001b[39m\u001b[38;5;241m.\u001b[39m_internal_update(kwargs)\n\u001b[1;32m    408\u001b[0m \u001b[38;5;28mself\u001b[39m\u001b[38;5;241m.\u001b[39mpickradius \u001b[38;5;241m=\u001b[39m pickradius\n\u001b[1;32m    409\u001b[0m \u001b[38;5;28mself\u001b[39m\u001b[38;5;241m.\u001b[39mind_offset \u001b[38;5;241m=\u001b[39m \u001b[38;5;241m0\u001b[39m\n",
      "File \u001b[0;32m/opt/anaconda3/envs/MSE446/lib/python3.12/site-packages/matplotlib/artist.py:1233\u001b[0m, in \u001b[0;36mArtist._internal_update\u001b[0;34m(self, kwargs)\u001b[0m\n\u001b[1;32m   1226\u001b[0m \u001b[38;5;28;01mdef\u001b[39;00m \u001b[38;5;21m_internal_update\u001b[39m(\u001b[38;5;28mself\u001b[39m, kwargs):\n\u001b[1;32m   1227\u001b[0m \u001b[38;5;250m    \u001b[39m\u001b[38;5;124;03m\"\"\"\u001b[39;00m\n\u001b[1;32m   1228\u001b[0m \u001b[38;5;124;03m    Update artist properties without prenormalizing them, but generating\u001b[39;00m\n\u001b[1;32m   1229\u001b[0m \u001b[38;5;124;03m    errors as if calling `set`.\u001b[39;00m\n\u001b[1;32m   1230\u001b[0m \n\u001b[1;32m   1231\u001b[0m \u001b[38;5;124;03m    The lack of prenormalization is to maintain backcompatibility.\u001b[39;00m\n\u001b[1;32m   1232\u001b[0m \u001b[38;5;124;03m    \"\"\"\u001b[39;00m\n\u001b[0;32m-> 1233\u001b[0m     \u001b[38;5;28;01mreturn\u001b[39;00m \u001b[38;5;28mself\u001b[39m\u001b[38;5;241m.\u001b[39m_update_props(\n\u001b[1;32m   1234\u001b[0m         kwargs, \u001b[38;5;124m\"\u001b[39m\u001b[38;5;132;01m{cls.__name__}\u001b[39;00m\u001b[38;5;124m.set() got an unexpected keyword argument \u001b[39m\u001b[38;5;124m\"\u001b[39m\n\u001b[1;32m   1235\u001b[0m         \u001b[38;5;124m\"\u001b[39m\u001b[38;5;132;01m{prop_name!r}\u001b[39;00m\u001b[38;5;124m\"\u001b[39m)\n",
      "File \u001b[0;32m/opt/anaconda3/envs/MSE446/lib/python3.12/site-packages/matplotlib/artist.py:1206\u001b[0m, in \u001b[0;36mArtist._update_props\u001b[0;34m(self, props, errfmt)\u001b[0m\n\u001b[1;32m   1204\u001b[0m             func \u001b[38;5;241m=\u001b[39m \u001b[38;5;28mgetattr\u001b[39m(\u001b[38;5;28mself\u001b[39m, \u001b[38;5;124mf\u001b[39m\u001b[38;5;124m\"\u001b[39m\u001b[38;5;124mset_\u001b[39m\u001b[38;5;132;01m{\u001b[39;00mk\u001b[38;5;132;01m}\u001b[39;00m\u001b[38;5;124m\"\u001b[39m, \u001b[38;5;28;01mNone\u001b[39;00m)\n\u001b[1;32m   1205\u001b[0m             \u001b[38;5;28;01mif\u001b[39;00m \u001b[38;5;129;01mnot\u001b[39;00m \u001b[38;5;28mcallable\u001b[39m(func):\n\u001b[0;32m-> 1206\u001b[0m                 \u001b[38;5;28;01mraise\u001b[39;00m \u001b[38;5;167;01mAttributeError\u001b[39;00m(\n\u001b[1;32m   1207\u001b[0m                     errfmt\u001b[38;5;241m.\u001b[39mformat(\u001b[38;5;28mcls\u001b[39m\u001b[38;5;241m=\u001b[39m\u001b[38;5;28mtype\u001b[39m(\u001b[38;5;28mself\u001b[39m), prop_name\u001b[38;5;241m=\u001b[39mk),\n\u001b[1;32m   1208\u001b[0m                     name\u001b[38;5;241m=\u001b[39mk)\n\u001b[1;32m   1209\u001b[0m             ret\u001b[38;5;241m.\u001b[39mappend(func(v))\n\u001b[1;32m   1210\u001b[0m \u001b[38;5;28;01mif\u001b[39;00m ret:\n",
      "\u001b[0;31mAttributeError\u001b[0m: Line2D.set() got an unexpected keyword argument 'kiznd'"
     ]
    }
   ],
   "source": [
    "heart['diabetes'].value_counts().plot(kiznd='barh', alpha=.6, figsize=(10,5), rot=20)"
   ]
  },
  {
   "cell_type": "markdown",
   "id": "f8c17387",
   "metadata": {},
   "source": [
    "### Histogram\n",
    "\n",
    "Let's visualize the age distribution of patients:"
   ]
  },
  {
   "cell_type": "code",
   "execution_count": null,
   "id": "15ac6038",
   "metadata": {},
   "outputs": [],
   "source": [
    "heart['age'] ..."
   ]
  },
  {
   "cell_type": "markdown",
   "id": "fdf7346c",
   "metadata": {},
   "source": [
    "If we pass a categorical variable, we can compare different distributions corresponding to these categories as well."
   ]
  },
  {
   "cell_type": "markdown",
   "id": "e624af2f",
   "metadata": {},
   "source": [
    ">__Task 4__\n",
    ">\n",
    ">Plot age distribution by sex\n",
    ">\n",
    ">- Set 20 bins for a more detailed output\n",
    ">- Define the categories by adding `by=heart['sex']` \n",
    ">- Set the layout of subplots by adding `layout=(heart['sex'].nunique(),1)`"
   ]
  },
  {
   "cell_type": "code",
   "execution_count": null,
   "id": "cff30da3",
   "metadata": {},
   "outputs": [],
   "source": [
    "heart['age'].hist(bins=...,by=...,layout=(2,1))"
   ]
  },
  {
   "cell_type": "markdown",
   "id": "0f4c2697",
   "metadata": {
    "tags": []
   },
   "source": [
    "### Box Plot\n",
    "\n",
    "Let us use a box plot to check quantiles and outliers of the __creatinine_phosphokinase__ column:"
   ]
  },
  {
   "cell_type": "code",
   "execution_count": null,
   "id": "aaf7a04d",
   "metadata": {},
   "outputs": [],
   "source": [
    "box_col = ['creatinine_phosphokinase']\n",
    "heart.boxplot(column=box_col)"
   ]
  },
  {
   "cell_type": "markdown",
   "id": "8a50ab4a",
   "metadata": {},
   "source": [
    ">__Task 5__\n",
    ">\n",
    ">Plot a box plot of the __creatinine_phosphokinase__ column based on outcome __DEATH_EVENT__.\n",
    ">\n",
    ">- Draw horizontal boxes\n",
    ">- Set rotation to 45\n",
    ">- Add a `by` paremter to set the __DEATH_EVENT__ column"
   ]
  },
  {
   "cell_type": "code",
   "execution_count": null,
   "id": "99316235",
   "metadata": {},
   "outputs": [],
   "source": [
    "box_col = ['creatinine_phosphokinase']\n",
    "heart.boxplot(column=box_col, vert=..., rot=..., by=...)"
   ]
  },
  {
   "cell_type": "markdown",
   "id": "607779b5",
   "metadata": {},
   "source": [
    "### Density Plot"
   ]
  },
  {
   "cell_type": "markdown",
   "id": "01f13b7d-0a3b-42f3-a6d8-9e4b20c2c22c",
   "metadata": {},
   "source": [
    ">__Task 6__\n",
    ">\n",
    ">Plot the KDE of the __creatinine_phosphokinase__ column\n",
    ">\n",
    ">- Set the figure size to (7,4)\n",
    ">- Set the bandwidth to 0.8"
   ]
  },
  {
   "cell_type": "code",
   "execution_count": null,
   "id": "026d7930",
   "metadata": {},
   "outputs": [],
   "source": [
    "# heart['creatinine_phosphokinase'].plot.kde(figsize=(7,4), bw_method=.8)"
   ]
  },
  {
   "cell_type": "markdown",
   "id": "ba6cace1-691b-4704-ba8f-88c456bf2c89",
   "metadata": {},
   "source": [
    "### Area Plot"
   ]
  },
  {
   "cell_type": "markdown",
   "id": "a0cc5f14",
   "metadata": {},
   "source": [
    ">__Task 7__\n",
    ">\n",
    ">Use area plot to visualize the number of patients by __time__. Do not forget to sort the days."
   ]
  },
  {
   "cell_type": "code",
   "execution_count": null,
   "id": "b0aed796",
   "metadata": {},
   "outputs": [],
   "source": [
    "heart['time'].value_counts().sort_index().plot.area()"
   ]
  },
  {
   "cell_type": "markdown",
   "id": "148012c1-b7ba-4bf7-a518-ba7762dc2879",
   "metadata": {},
   "source": [
    "### Pie Plot"
   ]
  },
  {
   "cell_type": "markdown",
   "id": "356626a7",
   "metadata": {},
   "source": [
    ">__Task 8__\n",
    ">\n",
    ">Use pie plot to show the composition of the __smoking__ column"
   ]
  },
  {
   "cell_type": "code",
   "execution_count": null,
   "id": "f7296bc3",
   "metadata": {},
   "outputs": [],
   "source": [
    "# value_counts() and plot.pie\n",
    "..."
   ]
  },
  {
   "cell_type": "markdown",
   "id": "5249cfde",
   "metadata": {},
   "source": [
    "### Scatter Plots\n",
    "\n",
    "A scatter plots needs `x` and `y` values specified. We cannot overlap multiple variables as we did in a line plot."
   ]
  },
  {
   "cell_type": "markdown",
   "id": "ec069647",
   "metadata": {},
   "source": [
    ">__Task 9__\n",
    ">\n",
    ">Look at the relathionships between __age__ and __ejection_fraction__ (percentage of blood leaving the heart at each contraction) vs __age__ and __platelets__\n",
    ">\n",
    ">- In the first plot, map __age__ to x-axis and __ejection_fraction__ to y-axis, and give a colour `steelblue`\n",
    ">- In the second plot, map __age__ to x-axis and __platelets__ to y-axis,  and give a colour `darkolivegreen` and set transparency to 0.2"
   ]
  },
  {
   "cell_type": "code",
   "execution_count": null,
   "id": "0571bb31",
   "metadata": {},
   "outputs": [],
   "source": [
    "# Compare age and ejection fraction\n",
    "heart.plot.scatter(x='age', y='ejection_fraction', alpha=.2, c='steelblue')\n"
   ]
  },
  {
   "cell_type": "code",
   "execution_count": null,
   "id": "6795e629",
   "metadata": {},
   "outputs": [],
   "source": [
    "# Compare age and platelets\n",
    "# heart.plot.scatter(x='age', y='platelets', alpha=.2, c='darkolivegreen')"
   ]
  },
  {
   "cell_type": "markdown",
   "id": "5729ddf2-8a67-4288-b8a2-111f2493d3a4",
   "metadata": {},
   "source": [
    "***"
   ]
  },
  {
   "cell_type": "markdown",
   "id": "7dbb7fd7",
   "metadata": {
    "tags": []
   },
   "source": [
    "## Plotting with Matplotlib"
   ]
  },
  {
   "cell_type": "markdown",
   "id": "da66c4e7-00aa-4889-8b05-3fbfdae83d41",
   "metadata": {},
   "source": [
    "Let's redo the number of patients by time, but using `matplotlib.pyplot.plot()` instead. The chart should have follow-up days on x-axis and the number of paients on y-axis:"
   ]
  },
  {
   "cell_type": "code",
   "execution_count": 29,
   "id": "6fa95c54-5c21-46a3-a15a-8eedaa0bb728",
   "metadata": {},
   "outputs": [
    {
     "data": {
      "image/png": "[encoded data removed]",
      "text/plain": [
       "<Figure size 1000x500 with 1 Axes>"
      ]
     },
     "metadata": {},
     "output_type": "display_data"
    }
   ],
   "source": [
    "heart['time'].value_counts().sort_index().plot()\n",
    "plt.legend()\n",
    "plt.xlabel('Day of Follow-up')\n",
    "plt.ylabel('Number of Patients')\n",
    "plt.title('Number of Patients at Follow-up Days')\n",
    "plt.show()"
   ]
  },
  {
   "cell_type": "markdown",
   "id": "d98ced93",
   "metadata": {},
   "source": [
    "Do you find any issues with the plot? The line chart does not show the trend as expected. What went wrong? \n",
    "\n",
    "`plt.plot()` will not automatically sort the data points by x-axis (by integer in our case). Although the x-axis shows numbers in the chronical order, the points are not plotted in this order. Rather, the method will plot from the first data point to the last data point. Let's fix this issue by using `.sort_index()`."
   ]
  },
  {
   "cell_type": "markdown",
   "id": "078e9f9d-1211-4ccb-b308-f095ac5e8f8d",
   "metadata": {},
   "source": [
    ">__Task 10__\n",
    ">\n",
    ">Create a line chart with correct order of the data points and make the chart more self-explainatory by:\n",
    ">\n",
    ">- Setting a line style to dash-dotted\n",
    ">- Setting a marker to `o`\n",
    ">- Adding a legend as \"Number of Patients Followed-up\"\n",
    ">- Adding a x-axis label as \"Day of Follow-up\"\n",
    ">- Adding a y-axis label as \"Number of Patients\"\n",
    ">- Adding a title \"Number of Patients at Follow-up Days\""
   ]
  },
  {
   "cell_type": "code",
   "execution_count": null,
   "id": "75933700",
   "metadata": {},
   "outputs": [],
   "source": [
    "plt.plot(heart['time'].value_counts().sort_index(),ls='-.', marker='o', label= 'Number of Patients Followed-up')\n",
    "plt.legend()\n",
    "plt.xlabel('Day of Follow-up')\n",
    "plt.ylabel('Number of Patients')\n",
    "plt.title('Number of Patients at Follow-up Days')"
   ]
  },
  {
   "cell_type": "markdown",
   "id": "5585668d",
   "metadata": {},
   "source": [
    ">__Task 11__\n",
    ">\n",
    ">Draw a scatter plot of __age__ vs __ejection_fraction__\n",
    ">\n",
    ">- Set colour to `green`\n",
    ">- Set size of data points to 40 px\n",
    ">- Set transparency to 0.4\n",
    ">- Set marker to `x`"
   ]
  },
  {
   "cell_type": "code",
   "execution_count": null,
   "id": "c6333f47",
   "metadata": {},
   "outputs": [],
   "source": [
    "plt.scatter(x='age',y='ejection_fraction', data=heart, alpha=.4, marker='x', s=40, c='green')"
   ]
  },
  {
   "cell_type": "markdown",
   "id": "d247ec6c",
   "metadata": {},
   "source": [
    "### Subplots\n",
    "\n",
    "To have multiple figures arranged, first, we need to create grid properties to locate subplots. Then we want to add plots to the empty places."
   ]
  },
  {
   "cell_type": "markdown",
   "id": "3f34c716",
   "metadata": {},
   "source": [
    ">__Task 12__\n",
    ">\n",
    ">Create a 2×2 figure using the `figure()` function\n",
    ">\n",
    ">- Add a scatter plot __age__ vs __creatinine_phosphokinase__ in `plot1`\n",
    ">- Add a scatter plot __age__ vs __platelets__ in `plot2`\n",
    ">- Add a scatter plot __age__ vs __serum_creatinine__ in `plot3`\n",
    ">- Add a scatter plot __age__ vs __serum_sodium__ in `plot4`\n",
    ">- Set transparency of all plots to 0.5\n",
    ">- Add y labels as column names to each of the plots\n",
    ">- Add x labels as \"age\" to plots 3 and 4"
   ]
  },
  {
   "cell_type": "code",
   "execution_count": null,
   "id": "af91d7a4",
   "metadata": {},
   "outputs": [],
   "source": [
    "fig = plt.figure()\n",
    "\n",
    "plot1 = fig.add_subplot(2,2,1)\n",
    "plot2 = fig.add_subplot(2,2,2)\n",
    "plot3 = fig.add_subplot(2,2,3)\n",
    "plot4 = fig.add_subplot(2,2,4)\n",
    "\n",
    "plot1.scatter(x=..., y='creatinine_phosphokinase', data=...)\n",
    "plot2.scatter(x=..., y='platelets', data=...)\n",
    "plot3.scatter(x=..., y='serum_creatinine', data=...)\n",
    "plot4.scatter(x=..., y='serum_sodium', data=...)\n",
    "\n",
    "plot3.set_xlabel(...)\n",
    "plot4.set_xlabel(...)\n",
    "\n",
    "plot1.set_ylabel('creatinine_phosphokinase')\n",
    "plot2.set_ylabel('platelets')\n",
    "plot3.set_ylabel('serum_creatinine')\n",
    "plot4.set_ylabel('serum_sodium')\n",
    "\n",
    "fig.savefig('name.png', dpi=400)"
   ]
  },
  {
   "cell_type": "markdown",
   "id": "e5df4040",
   "metadata": {},
   "source": [
    "Alternatively, the `plt.subplots` method can also help create a grid-form figure with the desired subplot objects:"
   ]
  },
  {
   "cell_type": "markdown",
   "id": "dd6e9561",
   "metadata": {},
   "source": [
    ">__Task 13__\n",
    ">\n",
    ">Create a similar 2×2 figure using the `subplots()` function\n",
    ">\n",
    ">- Add a scatter plot __age__ vs __creatinine_phosphokinase__ in `plot1`\n",
    ">- Add a scatter plot __age__ vs __platelets__ in `plot2` with yellow color\n",
    ">- Add a scatter plot __age__ vs __serum_creatinine__ in `plot3` with green color\n",
    ">- Add a scatter plot __age__ vs __serum_sodium__ in `plot4` with red color\n",
    ">- Set transparency of all plots to 0.5\n",
    ">- Add y labels as column names to each of the plots\n",
    ">- Add x labels as \"age\" to plots 3 and 4\n",
    ">- Share the x-axis as they are all age\n",
    ">- Remove the height space"
   ]
  },
  {
   "cell_type": "code",
   "execution_count": null,
   "id": "4e451092",
   "metadata": {
    "scrolled": true
   },
   "outputs": [],
   "source": [
    "..."
   ]
  },
  {
   "cell_type": "markdown",
   "id": "27ae394e",
   "metadata": {},
   "source": [
    "### Saving Plot Files"
   ]
  },
  {
   "cell_type": "markdown",
   "id": "ee7959f9-9dde-445c-8116-c4b434382d8d",
   "metadata": {},
   "source": [
    ">__Task 14__\n",
    ">\n",
    ">Save the figure from the previous task to \"multiplot_by_age.png\" with dpi of 400"
   ]
  },
  {
   "cell_type": "code",
   "execution_count": null,
   "id": "9aabf954",
   "metadata": {},
   "outputs": [],
   "source": [
    "..."
   ]
  },
  {
   "cell_type": "markdown",
   "id": "7715cb20-035c-4d85-90dd-6b06825b0282",
   "metadata": {},
   "source": [
    "***"
   ]
  },
  {
   "cell_type": "markdown",
   "id": "3b35d458",
   "metadata": {},
   "source": [
    "## Plotting with Seaborn"
   ]
  },
  {
   "cell_type": "markdown",
   "id": "564081b4",
   "metadata": {},
   "source": [
    "### Distribution Plots\n",
    "\n",
    "In Seaborn, we use the default `sns.distplot()` method to plot histograms:"
   ]
  },
  {
   "cell_type": "code",
   "execution_count": null,
   "id": "980d88a2",
   "metadata": {},
   "outputs": [],
   "source": [
    "# sns.displot(heart, x='age')"
   ]
  },
  {
   "cell_type": "markdown",
   "id": "9b776cca",
   "metadata": {},
   "source": [
    "If we reduce the number of bins, the input range will be split into less bins, the width of each bin will increase and there will be more point fallen into that range. We can do it by changing `bins` parameter."
   ]
  },
  {
   "cell_type": "markdown",
   "id": "3d864ce3",
   "metadata": {},
   "source": [
    ">__Task 15__\n",
    ">\n",
    ">Plot histograms to see the distribution of __age__\n",
    ">\n",
    ">- In the first plot, set number of bins to 20\n",
    ">- In the second plot, set `bins` to `range(0,100,5)` and add a density curve on top "
   ]
  },
  {
   "cell_type": "code",
   "execution_count": null,
   "id": "3f98c5b2",
   "metadata": {},
   "outputs": [],
   "source": [
    "# First plot\n",
    "# sns.displot(heart, x='age', bins=20)"
   ]
  },
  {
   "cell_type": "code",
   "execution_count": null,
   "id": "dbe29b7d",
   "metadata": {},
   "outputs": [],
   "source": [
    "# Second plot\n",
    "# sns.displot(heart, x='age', bins=range(0,100,5), kde=True)"
   ]
  },
  {
   "cell_type": "markdown",
   "id": "ee7d51b5",
   "metadata": {
    "tags": []
   },
   "source": [
    "### Compare Distributions"
   ]
  },
  {
   "cell_type": "markdown",
   "id": "6476e09c",
   "metadata": {},
   "source": [
    ">__Task 16__\n",
    ">\n",
    ">Plot a overlapperd histogram of the __creatinine_phosphokinase__ column and the outcome column __DEATH_EVENT__\n",
    ">\n",
    ">- Set `hue` to __DEATH_EVENT__\n",
    ">- Set `bins` to 25\n",
    ">- Set y-axis as `density`"
   ]
  },
  {
   "cell_type": "code",
   "execution_count": null,
   "id": "606ed3ca",
   "metadata": {},
   "outputs": [],
   "source": [
    "# sns.displot(heart, x='creatinine_phosphokinase', hue='DEATH_EVENT', bins=25, stat='density')"
   ]
  },
  {
   "cell_type": "markdown",
   "id": "96ab9689",
   "metadata": {},
   "source": [
    "Faceting is another way to compare distributions, which refers to plotting each plot separately. `col` or `row` arguments can be used to control the output."
   ]
  },
  {
   "cell_type": "markdown",
   "id": "e8367b9a-56d1-4677-821d-913ae4a2ea58",
   "metadata": {},
   "source": [
    ">__Task 17__\n",
    ">\n",
    ">Plot the distribution of __creatinine_phosphokinase__ based on the outcome __DEATH_EVENT__\n",
    ">\n",
    ">- Map the outcome of __DEATH_EVENT__ to column\n",
    ">- Map the outcome of __DEATH_EVENT__ to row"
   ]
  },
  {
   "cell_type": "code",
   "execution_count": null,
   "id": "2c72757f",
   "metadata": {},
   "outputs": [],
   "source": [
    "# Map y to col\n",
    "# sns.displot(heart, x='creatinine_phosphokinase', col='DEATH_EVENT')"
   ]
  },
  {
   "cell_type": "code",
   "execution_count": null,
   "id": "4efc970d-38ad-4712-9688-02b1443b1b74",
   "metadata": {},
   "outputs": [],
   "source": [
    "# Map y to row\n",
    "# sns.displot(heart, x='creatinine_phosphokinase', row='DEATH_EVENT')"
   ]
  },
  {
   "cell_type": "markdown",
   "id": "0b2b38e7",
   "metadata": {},
   "source": [
    "### Joint and Marginal Distributions\n",
    "\n",
    "`sns.jointplot()` is a combined plot:"
   ]
  },
  {
   "cell_type": "code",
   "execution_count": null,
   "id": "4a73d6d2",
   "metadata": {},
   "outputs": [],
   "source": [
    "# sns.jointplot(data=heart, x='creatinine_phosphokinase', y='serum_creatinine') "
   ]
  },
  {
   "cell_type": "markdown",
   "id": "dbe6b9da-03fa-4ca8-a036-989fd14f6cde",
   "metadata": {},
   "source": [
    "We can also plot the joint distributions by categories to examine the distribution in each category."
   ]
  },
  {
   "cell_type": "markdown",
   "id": "a7c26794",
   "metadata": {},
   "source": [
    ">__Task 18__\n",
    ">\n",
    ">Draw a plot of two variables __creatinine_phosphokinase__ and __serum_creatinine__ with groups from the __sex__ column\n",
    ">\n",
    ">- Display density plots on the marginal axes"
   ]
  },
  {
   "cell_type": "code",
   "execution_count": null,
   "id": "c262d61b",
   "metadata": {},
   "outputs": [],
   "source": [
    "# sns.jointplot(data=heart, x='creatinine_phosphokinase', y='serum_creatinine', hue='sex', kind='kde') "
   ]
  },
  {
   "cell_type": "markdown",
   "id": "b53a6d8f",
   "metadata": {},
   "source": [
    "In a broader view, `pairplot()` displays all pairwise relationships in our data."
   ]
  },
  {
   "cell_type": "markdown",
   "id": "0879e4ed-0927-4404-b5a8-43906b2902b0",
   "metadata": {},
   "source": [
    ">__Task 19__\n",
    ">\n",
    ">Draw a pair plot to compare variables __creatinine_phosphokinase__, __serum_creatinine__ and __serum_sodium__ variables"
   ]
  },
  {
   "cell_type": "code",
   "execution_count": null,
   "id": "a312b032",
   "metadata": {},
   "outputs": [],
   "source": [
    "# sns.pairplot(data=heart, vars=['creatinine_phosphokinase', 'serum_creatinine', 'serum_sodium'])"
   ]
  },
  {
   "cell_type": "markdown",
   "id": "91d436a4",
   "metadata": {},
   "source": [
    "### Plots for categorical data\n",
    "\n",
    "To visualize categorical variables, we need a data set that consists of categorical data. If we don't have categories, we should preprocess the data to have one."
   ]
  },
  {
   "cell_type": "markdown",
   "id": "2a1e807a-c528-4371-9f20-de7b33191d83",
   "metadata": {},
   "source": [
    ">__Task 20__\n",
    ">\n",
    ">Use a bar plot to show the total number of high blood pressure conditions\n",
    ">\n",
    ">- Option 1: Convert `heart['high_blood_pressure'].value_counts()` to a data frame by `reset_index()`\n",
    ">- Option 2: Use `heart['high_blood_pressure'].value_counts()` directly as a series, indicate `heart['high_blood_pressure'].value_counts().values` as y-axis, and `heart['high_blood_pressure'].value_counts().index` as x-axis"
   ]
  },
  {
   "cell_type": "code",
   "execution_count": null,
   "id": "d532f661",
   "metadata": {},
   "outputs": [],
   "source": [
    "# Option 1\n",
    "temp_df = heart['high_blood_pressure'].value_counts().reset_index()\n",
    "\n",
    "sns.barplot(data=temp_df, y='high_blood_pressure', x='index')\n",
    "\n",
    "# Rotate the x labels for a better look\n",
    "plt.xticks(rotation=45)"
   ]
  },
  {
   "cell_type": "code",
   "execution_count": null,
   "id": "946e1bfc",
   "metadata": {},
   "outputs": [],
   "source": [
    "# Option 2\n",
    "sns.barplot(y=heart['high_blood_pressure'].value_counts().values, x=heart['high_blood_pressure'].value_counts().index)\n",
    "\n",
    "# Rotate the x labels for a better look\n",
    "plt.xticks(rotation=45)"
   ]
  },
  {
   "cell_type": "markdown",
   "id": "87e2bec6",
   "metadata": {},
   "source": [
    "In the above example, we explicitly calculated the count for each category of __high_blood_pressure__. There is also a one-step Seaborn method to implement this, which is `countplot()`."
   ]
  },
  {
   "cell_type": "markdown",
   "id": "59f3904c-938f-498e-9424-b863e6981e86",
   "metadata": {},
   "source": [
    ">__Task 21__\n",
    ">\n",
    ">Use `countplot()` to draw bar graphs showing the count by __high_blood_pressure__ categories\n",
    ">\n",
    ">- Rotate the x labels to 45 for a better look"
   ]
  },
  {
   "cell_type": "code",
   "execution_count": null,
   "id": "1ebbfcff",
   "metadata": {},
   "outputs": [],
   "source": [
    "# sns.countplot(data=heart, x='high_blood_pressure')\n",
    "# plt.xticks(rotation=45)"
   ]
  },
  {
   "cell_type": "markdown",
   "id": "6eeb5aec-ca1c-49fe-9d61-cfa2932257b9",
   "metadata": {},
   "source": [
    "Note the count above is not sorted. We can sort the plot from highest to lowest count by adding an `order` parameter:"
   ]
  },
  {
   "cell_type": "code",
   "execution_count": null,
   "id": "6e03461d",
   "metadata": {},
   "outputs": [],
   "source": [
    "sns.countplot(data=heart, x='high_blood_pressure', order=heart['high_blood_pressure'].value_counts().index)\n",
    "plt.xticks(rotation=45)"
   ]
  },
  {
   "cell_type": "markdown",
   "id": "3d819f97",
   "metadata": {},
   "source": [
    "#### Box Plot and Violin Plot"
   ]
  },
  {
   "cell_type": "markdown",
   "id": "fa9b3015-04bd-4d78-8f79-ded2e39d13ce",
   "metadata": {},
   "source": [
    ">__Task 22__\n",
    ">\n",
    ">Visualize the distribution of __age__ (y-axis) based on __sex__ (x-axis) using `boxplot` and `violinplot`"
   ]
  },
  {
   "cell_type": "code",
   "execution_count": null,
   "id": "02464fb8",
   "metadata": {},
   "outputs": [],
   "source": [
    "# Draw a box plot\n",
    "# sns.boxplot(data=heart, x='sex', y='age')"
   ]
  },
  {
   "cell_type": "code",
   "execution_count": null,
   "id": "16561f83",
   "metadata": {},
   "outputs": [],
   "source": [
    "# Draw a violin plot\n",
    "..."
   ]
  }
 ],
 "metadata": {
  "kernelspec": {
   "display_name": "Python 3 (ipykernel)",
   "language": "python",
   "name": "python3"
  },
  "language_info": {
   "codemirror_mode": {
    "name": "ipython",
    "version": 3
   },
   "file_extension": ".py",
   "mimetype": "text/x-python",
   "name": "python",
   "nbconvert_exporter": "python",
   "pygments_lexer": "ipython3",
   "version": "3.12.8"
  },
  "vscode": {
   "interpreter": {
    "hash": "40d3a090f54c6569ab1632332b64b2c03c39dcf918b08424e98f38b5ae0af88f"
   }
  }
 },
 "nbformat": 4,
 "nbformat_minor": 5
}
