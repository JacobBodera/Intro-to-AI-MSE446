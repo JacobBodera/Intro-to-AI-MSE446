{
 "cells": [
  {
   "cell_type": "markdown",
   "metadata": {},
   "source": [
    "# Team Members\n",
    "\n",
    "Jacob Bodera, Caleb Ng, Russell Chow, Sammi Jiang, Brianna Le"
   ]
  },
  {
   "cell_type": "markdown",
   "metadata": {},
   "source": [
    "# Assignment 1\n",
    "\n",
    "1. The assignment is done and submitted as groups.\n",
    "2. One representative will upload the submission on Dropbox.\n",
    "3. Make sure you installed all packages that are imported in the file before you run the codes.\n",
    "4. Cheating is not allowed!"
   ]
  },
  {
   "cell_type": "markdown",
   "metadata": {},
   "source": [
    "In this data project, we will focus on exploratory data analysis of obesity levels.\n",
    "\n",
    "Let's first load all libraries or packages needed:"
   ]
  },
  {
   "cell_type": "code",
   "execution_count": 56,
   "metadata": {},
   "outputs": [],
   "source": [
    "import pandas as pd\n",
    "import numpy as np\n",
    "import datetime\n",
    "from sklearn.preprocessing import OneHotEncoder\n",
    "%matplotlib inline"
   ]
  },
  {
   "cell_type": "markdown",
   "metadata": {},
   "source": [
    "## Read the Data"
   ]
  },
  {
   "cell_type": "markdown",
   "metadata": {},
   "source": [
    ">__Task 1__\n",
    ">\n",
    ">- Import the data file \"obesity_level.csv\"\n",
    ">- Check metadata using `info()`"
   ]
  },
  {
   "cell_type": "code",
   "execution_count": 57,
   "metadata": {},
   "outputs": [
    {
     "name": "stdout",
     "output_type": "stream",
     "text": [
      "<class 'pandas.core.frame.DataFrame'>\n",
      "RangeIndex: 2120 entries, 0 to 2119\n",
      "Data columns (total 20 columns):\n",
      " #   Column                          Non-Null Count  Dtype  \n",
      "---  ------                          --------------  -----  \n",
      " 0   year                            2120 non-null   int64  \n",
      " 1   month                           2120 non-null   int64  \n",
      " 2   day                             2120 non-null   int64  \n",
      " 3   gender                          2111 non-null   object \n",
      " 4   age                             2120 non-null   float64\n",
      " 5   height                          2111 non-null   float64\n",
      " 6   weight                          2111 non-null   float64\n",
      " 7   family_history_with_overweight  2111 non-null   object \n",
      " 8   FAVC                            2111 non-null   object \n",
      " 9   FCVC                            2111 non-null   float64\n",
      " 10  NCP                             2111 non-null   float64\n",
      " 11  CAEC                            2111 non-null   object \n",
      " 12  SMOKE                           2111 non-null   object \n",
      " 13  CH2O                            2111 non-null   float64\n",
      " 14  SCC                             2111 non-null   object \n",
      " 15  FAF                             2111 non-null   float64\n",
      " 16  TUE                             2111 non-null   float64\n",
      " 17  CALC                            2111 non-null   object \n",
      " 18  MTRANS                          2111 non-null   object \n",
      " 19  NObeyesdad                      2111 non-null   object \n",
      "dtypes: float64(8), int64(3), object(9)\n",
      "memory usage: 331.4+ KB\n"
     ]
    }
   ],
   "source": [
    "obs_df = pd.read_csv(\"obesity_level.csv\")\n",
    "obs_df.info()"
   ]
  },
  {
   "cell_type": "markdown",
   "metadata": {},
   "source": [
    ">__Task 2__\n",
    ">\n",
    ">Check the top 10 rows of the obesity data frame"
   ]
  },
  {
   "cell_type": "code",
   "execution_count": 58,
   "metadata": {},
   "outputs": [
    {
     "data": {
      "text/html": [
       "<div>\n",
       "<style scoped>\n",
       "    .dataframe tbody tr th:only-of-type {\n",
       "        vertical-align: middle;\n",
       "    }\n",
       "\n",
       "    .dataframe tbody tr th {\n",
       "        vertical-align: top;\n",
       "    }\n",
       "\n",
       "    .dataframe thead th {\n",
       "        text-align: right;\n",
       "    }\n",
       "</style>\n",
       "<table border=\"1\" class=\"dataframe\">\n",
       "  <thead>\n",
       "    <tr style=\"text-align: right;\">\n",
       "      <th></th>\n",
       "      <th>year</th>\n",
       "      <th>month</th>\n",
       "      <th>day</th>\n",
       "      <th>gender</th>\n",
       "      <th>age</th>\n",
       "      <th>height</th>\n",
       "      <th>weight</th>\n",
       "      <th>family_history_with_overweight</th>\n",
       "      <th>FAVC</th>\n",
       "      <th>FCVC</th>\n",
       "      <th>NCP</th>\n",
       "      <th>CAEC</th>\n",
       "      <th>SMOKE</th>\n",
       "      <th>CH2O</th>\n",
       "      <th>SCC</th>\n",
       "      <th>FAF</th>\n",
       "      <th>TUE</th>\n",
       "      <th>CALC</th>\n",
       "      <th>MTRANS</th>\n",
       "      <th>NObeyesdad</th>\n",
       "    </tr>\n",
       "  </thead>\n",
       "  <tbody>\n",
       "    <tr>\n",
       "      <th>0</th>\n",
       "      <td>2015</td>\n",
       "      <td>9</td>\n",
       "      <td>22</td>\n",
       "      <td>Female</td>\n",
       "      <td>21.0</td>\n",
       "      <td>1.62</td>\n",
       "      <td>64.0</td>\n",
       "      <td>yes</td>\n",
       "      <td>no</td>\n",
       "      <td>2.0</td>\n",
       "      <td>3.0</td>\n",
       "      <td>Sometimes</td>\n",
       "      <td>no</td>\n",
       "      <td>2.0</td>\n",
       "      <td>no</td>\n",
       "      <td>0.0</td>\n",
       "      <td>1.0</td>\n",
       "      <td>no</td>\n",
       "      <td>Public_Transportation</td>\n",
       "      <td>Normal_Weight</td>\n",
       "    </tr>\n",
       "    <tr>\n",
       "      <th>1</th>\n",
       "      <td>2015</td>\n",
       "      <td>10</td>\n",
       "      <td>19</td>\n",
       "      <td>Female</td>\n",
       "      <td>21.0</td>\n",
       "      <td>1.52</td>\n",
       "      <td>56.0</td>\n",
       "      <td>yes</td>\n",
       "      <td>no</td>\n",
       "      <td>3.0</td>\n",
       "      <td>3.0</td>\n",
       "      <td>Sometimes</td>\n",
       "      <td>yes</td>\n",
       "      <td>3.0</td>\n",
       "      <td>yes</td>\n",
       "      <td>3.0</td>\n",
       "      <td>0.0</td>\n",
       "      <td>Sometimes</td>\n",
       "      <td>Public_Transportation</td>\n",
       "      <td>Normal_Weight</td>\n",
       "    </tr>\n",
       "    <tr>\n",
       "      <th>2</th>\n",
       "      <td>2015</td>\n",
       "      <td>1</td>\n",
       "      <td>19</td>\n",
       "      <td>Male</td>\n",
       "      <td>23.0</td>\n",
       "      <td>1.80</td>\n",
       "      <td>77.0</td>\n",
       "      <td>yes</td>\n",
       "      <td>no</td>\n",
       "      <td>2.0</td>\n",
       "      <td>3.0</td>\n",
       "      <td>Sometimes</td>\n",
       "      <td>no</td>\n",
       "      <td>2.0</td>\n",
       "      <td>no</td>\n",
       "      <td>2.0</td>\n",
       "      <td>1.0</td>\n",
       "      <td>Frequently</td>\n",
       "      <td>Public_Transportation</td>\n",
       "      <td>Normal_Weight</td>\n",
       "    </tr>\n",
       "    <tr>\n",
       "      <th>3</th>\n",
       "      <td>2015</td>\n",
       "      <td>11</td>\n",
       "      <td>17</td>\n",
       "      <td>Male</td>\n",
       "      <td>27.0</td>\n",
       "      <td>1.80</td>\n",
       "      <td>87.0</td>\n",
       "      <td>no</td>\n",
       "      <td>no</td>\n",
       "      <td>3.0</td>\n",
       "      <td>3.0</td>\n",
       "      <td>Sometimes</td>\n",
       "      <td>no</td>\n",
       "      <td>2.0</td>\n",
       "      <td>no</td>\n",
       "      <td>2.0</td>\n",
       "      <td>0.0</td>\n",
       "      <td>Frequently</td>\n",
       "      <td>Walking</td>\n",
       "      <td>Overweight_Level_I</td>\n",
       "    </tr>\n",
       "    <tr>\n",
       "      <th>4</th>\n",
       "      <td>2015</td>\n",
       "      <td>2</td>\n",
       "      <td>24</td>\n",
       "      <td>Male</td>\n",
       "      <td>22.0</td>\n",
       "      <td>1.78</td>\n",
       "      <td>89.8</td>\n",
       "      <td>no</td>\n",
       "      <td>no</td>\n",
       "      <td>2.0</td>\n",
       "      <td>1.0</td>\n",
       "      <td>Sometimes</td>\n",
       "      <td>no</td>\n",
       "      <td>2.0</td>\n",
       "      <td>no</td>\n",
       "      <td>0.0</td>\n",
       "      <td>0.0</td>\n",
       "      <td>Sometimes</td>\n",
       "      <td>Public_Transportation</td>\n",
       "      <td>Overweight_Level_II</td>\n",
       "    </tr>\n",
       "    <tr>\n",
       "      <th>5</th>\n",
       "      <td>2015</td>\n",
       "      <td>5</td>\n",
       "      <td>4</td>\n",
       "      <td>Male</td>\n",
       "      <td>29.0</td>\n",
       "      <td>1.62</td>\n",
       "      <td>53.0</td>\n",
       "      <td>no</td>\n",
       "      <td>yes</td>\n",
       "      <td>2.0</td>\n",
       "      <td>3.0</td>\n",
       "      <td>Sometimes</td>\n",
       "      <td>no</td>\n",
       "      <td>2.0</td>\n",
       "      <td>no</td>\n",
       "      <td>0.0</td>\n",
       "      <td>0.0</td>\n",
       "      <td>Sometimes</td>\n",
       "      <td>Automobile</td>\n",
       "      <td>Normal_Weight</td>\n",
       "    </tr>\n",
       "    <tr>\n",
       "      <th>6</th>\n",
       "      <td>2016</td>\n",
       "      <td>2</td>\n",
       "      <td>22</td>\n",
       "      <td>Female</td>\n",
       "      <td>23.0</td>\n",
       "      <td>1.50</td>\n",
       "      <td>55.0</td>\n",
       "      <td>yes</td>\n",
       "      <td>yes</td>\n",
       "      <td>3.0</td>\n",
       "      <td>3.0</td>\n",
       "      <td>Sometimes</td>\n",
       "      <td>no</td>\n",
       "      <td>2.0</td>\n",
       "      <td>no</td>\n",
       "      <td>1.0</td>\n",
       "      <td>0.0</td>\n",
       "      <td>Sometimes</td>\n",
       "      <td>Motorbike</td>\n",
       "      <td>Normal_Weight</td>\n",
       "    </tr>\n",
       "    <tr>\n",
       "      <th>7</th>\n",
       "      <td>2016</td>\n",
       "      <td>8</td>\n",
       "      <td>14</td>\n",
       "      <td>Male</td>\n",
       "      <td>22.0</td>\n",
       "      <td>1.64</td>\n",
       "      <td>53.0</td>\n",
       "      <td>no</td>\n",
       "      <td>no</td>\n",
       "      <td>2.0</td>\n",
       "      <td>3.0</td>\n",
       "      <td>Sometimes</td>\n",
       "      <td>no</td>\n",
       "      <td>2.0</td>\n",
       "      <td>no</td>\n",
       "      <td>3.0</td>\n",
       "      <td>0.0</td>\n",
       "      <td>Sometimes</td>\n",
       "      <td>Public_Transportation</td>\n",
       "      <td>Normal_Weight</td>\n",
       "    </tr>\n",
       "    <tr>\n",
       "      <th>8</th>\n",
       "      <td>2015</td>\n",
       "      <td>4</td>\n",
       "      <td>13</td>\n",
       "      <td>Male</td>\n",
       "      <td>24.0</td>\n",
       "      <td>1.78</td>\n",
       "      <td>64.0</td>\n",
       "      <td>yes</td>\n",
       "      <td>yes</td>\n",
       "      <td>3.0</td>\n",
       "      <td>3.0</td>\n",
       "      <td>Sometimes</td>\n",
       "      <td>no</td>\n",
       "      <td>2.0</td>\n",
       "      <td>no</td>\n",
       "      <td>1.0</td>\n",
       "      <td>1.0</td>\n",
       "      <td>Frequently</td>\n",
       "      <td>Public_Transportation</td>\n",
       "      <td>Normal_Weight</td>\n",
       "    </tr>\n",
       "    <tr>\n",
       "      <th>9</th>\n",
       "      <td>2016</td>\n",
       "      <td>5</td>\n",
       "      <td>20</td>\n",
       "      <td>Male</td>\n",
       "      <td>22.0</td>\n",
       "      <td>1.72</td>\n",
       "      <td>68.0</td>\n",
       "      <td>yes</td>\n",
       "      <td>yes</td>\n",
       "      <td>2.0</td>\n",
       "      <td>3.0</td>\n",
       "      <td>Sometimes</td>\n",
       "      <td>no</td>\n",
       "      <td>2.0</td>\n",
       "      <td>no</td>\n",
       "      <td>1.0</td>\n",
       "      <td>1.0</td>\n",
       "      <td>no</td>\n",
       "      <td>Public_Transportation</td>\n",
       "      <td>Normal_Weight</td>\n",
       "    </tr>\n",
       "  </tbody>\n",
       "</table>\n",
       "</div>"
      ],
      "text/plain": [
       "   year  month  day  gender   age  height  weight  \\\n",
       "0  2015      9   22  Female  21.0    1.62    64.0   \n",
       "1  2015     10   19  Female  21.0    1.52    56.0   \n",
       "2  2015      1   19    Male  23.0    1.80    77.0   \n",
       "3  2015     11   17    Male  27.0    1.80    87.0   \n",
       "4  2015      2   24    Male  22.0    1.78    89.8   \n",
       "5  2015      5    4    Male  29.0    1.62    53.0   \n",
       "6  2016      2   22  Female  23.0    1.50    55.0   \n",
       "7  2016      8   14    Male  22.0    1.64    53.0   \n",
       "8  2015      4   13    Male  24.0    1.78    64.0   \n",
       "9  2016      5   20    Male  22.0    1.72    68.0   \n",
       "\n",
       "  family_history_with_overweight FAVC  FCVC  NCP       CAEC SMOKE  CH2O  SCC  \\\n",
       "0                            yes   no   2.0  3.0  Sometimes    no   2.0   no   \n",
       "1                            yes   no   3.0  3.0  Sometimes   yes   3.0  yes   \n",
       "2                            yes   no   2.0  3.0  Sometimes    no   2.0   no   \n",
       "3                             no   no   3.0  3.0  Sometimes    no   2.0   no   \n",
       "4                             no   no   2.0  1.0  Sometimes    no   2.0   no   \n",
       "5                             no  yes   2.0  3.0  Sometimes    no   2.0   no   \n",
       "6                            yes  yes   3.0  3.0  Sometimes    no   2.0   no   \n",
       "7                             no   no   2.0  3.0  Sometimes    no   2.0   no   \n",
       "8                            yes  yes   3.0  3.0  Sometimes    no   2.0   no   \n",
       "9                            yes  yes   2.0  3.0  Sometimes    no   2.0   no   \n",
       "\n",
       "   FAF  TUE        CALC                 MTRANS           NObeyesdad  \n",
       "0  0.0  1.0          no  Public_Transportation        Normal_Weight  \n",
       "1  3.0  0.0   Sometimes  Public_Transportation        Normal_Weight  \n",
       "2  2.0  1.0  Frequently  Public_Transportation        Normal_Weight  \n",
       "3  2.0  0.0  Frequently                Walking   Overweight_Level_I  \n",
       "4  0.0  0.0   Sometimes  Public_Transportation  Overweight_Level_II  \n",
       "5  0.0  0.0   Sometimes             Automobile        Normal_Weight  \n",
       "6  1.0  0.0   Sometimes              Motorbike        Normal_Weight  \n",
       "7  3.0  0.0   Sometimes  Public_Transportation        Normal_Weight  \n",
       "8  1.0  1.0  Frequently  Public_Transportation        Normal_Weight  \n",
       "9  1.0  1.0          no  Public_Transportation        Normal_Weight  "
      ]
     },
     "execution_count": 58,
     "metadata": {},
     "output_type": "execute_result"
    }
   ],
   "source": [
    "obs_df.head(10)"
   ]
  },
  {
   "cell_type": "markdown",
   "metadata": {},
   "source": [
    "Do you know which columns contain date information? The first three columns (i.e., __year__, __month__, __day__) are integers, shown as `int64` from the metadata above."
   ]
  },
  {
   "cell_type": "markdown",
   "metadata": {},
   "source": [
    ">__Task 3__\n",
    ">\n",
    ">- Combine and convert these three columns to `date` column, which contains `datetime` type\n",
    ">- Confirm the result by printing its data type"
   ]
  },
  {
   "cell_type": "markdown",
   "metadata": {},
   "source": [
    "It looks the date is not read as date"
   ]
  },
  {
   "cell_type": "code",
   "execution_count": 59,
   "metadata": {},
   "outputs": [
    {
     "data": {
      "text/plain": [
       "0      2015-09-22\n",
       "1      2015-10-19\n",
       "2      2015-01-19\n",
       "3      2015-11-17\n",
       "4      2015-02-24\n",
       "          ...    \n",
       "2115   2015-06-26\n",
       "2116   2015-07-22\n",
       "2117   2016-05-04\n",
       "2118   2015-12-02\n",
       "2119   2015-01-25\n",
       "Name: date, Length: 2120, dtype: datetime64[ns]"
      ]
     },
     "execution_count": 59,
     "metadata": {},
     "output_type": "execute_result"
    }
   ],
   "source": [
    "obs_df['date'] = pd.to_datetime(obs_df[['day', 'month', 'year']])\n",
    "\n",
    "# Call the column to see results\n",
    "obs_df['date']"
   ]
  },
  {
   "cell_type": "code",
   "execution_count": 60,
   "metadata": {},
   "outputs": [
    {
     "name": "stdout",
     "output_type": "stream",
     "text": [
      "datetime64[ns]\n"
     ]
    }
   ],
   "source": [
    "# Print data type\n",
    "print(obs_df['date'].dtype)"
   ]
  },
  {
   "cell_type": "markdown",
   "metadata": {},
   "source": [
    "Now, let's look at the last column __NObeyesdad__, which has the obesity levels."
   ]
  },
  {
   "cell_type": "markdown",
   "metadata": {},
   "source": [
    ">__Task 4__\n",
    ">\n",
    "> Find the unique entries in __NObeyesdad__ column.\n"
   ]
  },
  {
   "cell_type": "code",
   "execution_count": 61,
   "metadata": {},
   "outputs": [
    {
     "data": {
      "text/plain": [
       "array(['Normal_Weight', 'Overweight_Level_I', 'Overweight_Level_II',\n",
       "       'Obesity_Type_I', 'Insufficient_Weight', 'Obesity_Type_II',\n",
       "       'Obesity_Type_III', nan], dtype=object)"
      ]
     },
     "execution_count": 61,
     "metadata": {},
     "output_type": "execute_result"
    }
   ],
   "source": [
    "obs_df['NObeyesdad'].unique()"
   ]
  },
  {
   "cell_type": "markdown",
   "metadata": {},
   "source": [
    "## Data Cleansing"
   ]
  },
  {
   "cell_type": "markdown",
   "metadata": {},
   "source": [
    ">__Task 5__\n",
    ">\n",
    ">- Print the min and max date in the dataset"
   ]
  },
  {
   "cell_type": "code",
   "execution_count": 62,
   "metadata": {},
   "outputs": [
    {
     "data": {
      "text/plain": [
       "'Min date: 2015-01-01 00:00:00'"
      ]
     },
     "metadata": {},
     "output_type": "display_data"
    },
    {
     "data": {
      "text/plain": [
       "'Max date: 2016-12-27 00:00:00'"
      ]
     },
     "metadata": {},
     "output_type": "display_data"
    }
   ],
   "source": [
    "display(f'Min date: {obs_df['date'].min()}')\n",
    "display(f'Max date: {obs_df['date'].max()}')"
   ]
  },
  {
   "cell_type": "markdown",
   "metadata": {},
   "source": [
    "Now, we want to find out if there's any missing values in the data."
   ]
  },
  {
   "cell_type": "markdown",
   "metadata": {},
   "source": [
    ">__Task 6__\n",
    ">\n",
    ">- Find the number of missing values in each column\n",
    ">- Retrieve rows with missing values"
   ]
  },
  {
   "cell_type": "code",
   "execution_count": 63,
   "metadata": {},
   "outputs": [
    {
     "data": {
      "text/plain": [
       "year                              0\n",
       "month                             0\n",
       "day                               0\n",
       "gender                            9\n",
       "age                               0\n",
       "height                            9\n",
       "weight                            9\n",
       "family_history_with_overweight    9\n",
       "FAVC                              9\n",
       "FCVC                              9\n",
       "NCP                               9\n",
       "CAEC                              9\n",
       "SMOKE                             9\n",
       "CH2O                              9\n",
       "SCC                               9\n",
       "FAF                               9\n",
       "TUE                               9\n",
       "CALC                              9\n",
       "MTRANS                            9\n",
       "NObeyesdad                        9\n",
       "date                              0\n",
       "dtype: int64"
      ]
     },
     "execution_count": 63,
     "metadata": {},
     "output_type": "execute_result"
    }
   ],
   "source": [
    "# Find the number of missing values in columns\n",
    "obs_df.isna().sum()"
   ]
  },
  {
   "cell_type": "code",
   "execution_count": 64,
   "metadata": {},
   "outputs": [
    {
     "data": {
      "text/plain": [
       "0        0\n",
       "1        0\n",
       "2        0\n",
       "3        0\n",
       "4        0\n",
       "        ..\n",
       "2115    16\n",
       "2116    16\n",
       "2117    16\n",
       "2118    16\n",
       "2119    16\n",
       "Length: 2120, dtype: int64"
      ]
     },
     "execution_count": 64,
     "metadata": {},
     "output_type": "execute_result"
    }
   ],
   "source": [
    "# Retrieve missing values in rows\n",
    "obs_df.isna().sum(axis=1)"
   ]
  },
  {
   "cell_type": "markdown",
   "metadata": {},
   "source": [
    "Looks like some records only contain age data on file and have missing values in all the other essential columns."
   ]
  },
  {
   "cell_type": "markdown",
   "metadata": {},
   "source": [
    "> __Task 7__\n",
    ">\n",
    "> Handle missing values. What is your suggestion? Removing all rows with NA or removing the column if it has NA? One is the correct answer."
   ]
  },
  {
   "cell_type": "code",
   "execution_count": 65,
   "metadata": {},
   "outputs": [
    {
     "data": {
      "text/plain": [
       "'Number of rows with at least 16 NAs: 9'"
      ]
     },
     "metadata": {},
     "output_type": "display_data"
    },
    {
     "data": {
      "text/plain": [
       "'Number of rows with at least 1 NA: 9'"
      ]
     },
     "metadata": {},
     "output_type": "display_data"
    },
    {
     "data": {
      "text/plain": [
       "'Number of rows in data set: 2120'"
      ]
     },
     "metadata": {},
     "output_type": "display_data"
    },
    {
     "data": {
      "text/plain": [
       "'Shape after dropping NA rows: (2111, 21)'"
      ]
     },
     "metadata": {},
     "output_type": "display_data"
    }
   ],
   "source": [
    "display(f'Number of rows with at least 16 NAs: {(obs_df.isna().sum(axis=1) >= 16).sum()}')\n",
    "display(f'Number of rows with at least 1 NA: {(obs_df.isna().sum(axis=1) > 0).sum()}')\n",
    "display(f'Number of rows in data set: {obs_df.shape[0]}')\n",
    "\n",
    "'''\n",
    "There are only 9 rows which contain any NA values, and with 2120 rows, removing these doesn't make a large different.\n",
    "Removing the columns would essentially remove all features from the data - very bad\n",
    "'''\n",
    "\n",
    "obs_df.dropna(axis=0, how=\"any\", inplace=True)\n",
    "display(f'Shape after dropping NA rows: {obs_df.shape}')"
   ]
  },
  {
   "cell_type": "code",
   "execution_count": 66,
   "metadata": {},
   "outputs": [
    {
     "data": {
      "text/plain": [
       "'Number of columns with any NAs: 0'"
      ]
     },
     "metadata": {},
     "output_type": "display_data"
    },
    {
     "data": {
      "text/plain": [
       "'Number of rows with any NAs: 0'"
      ]
     },
     "metadata": {},
     "output_type": "display_data"
    }
   ],
   "source": [
    "# Find the number of missing variables again\n",
    "display(f'Number of columns with any NAs: {obs_df.isna().sum().sum()}')\n",
    "display(f'Number of rows with any NAs: {obs_df.isna().sum(axis=1).sum()}')"
   ]
  },
  {
   "cell_type": "markdown",
   "metadata": {},
   "source": [
    "Also, we want to find out if there's any duplicated values. Note that this data set does not have an id column. So, we need to be cautious and infer duplicates by including ALL the values (not just a few columns)."
   ]
  },
  {
   "cell_type": "markdown",
   "metadata": {},
   "source": [
    ">__Task 8__\n",
    ">\n",
    ">Check if there is any duplicates in the data set. Do you need to remove duplicates?"
   ]
  },
  {
   "cell_type": "code",
   "execution_count": 67,
   "metadata": {},
   "outputs": [
    {
     "data": {
      "text/plain": [
       "0"
      ]
     },
     "execution_count": 67,
     "metadata": {},
     "output_type": "execute_result"
    }
   ],
   "source": [
    "'''\n",
    "There are no duplicated rows. Even if there were a few duplicated rows, this would not be too improbable for \n",
    "two people to have the same health data and would not cause much bias in the data\n",
    "'''\n",
    "obs_df.duplicated().sum()"
   ]
  },
  {
   "cell_type": "markdown",
   "metadata": {},
   "source": [
    "## Data Analysis and Preprocessing"
   ]
  },
  {
   "cell_type": "markdown",
   "metadata": {},
   "source": [
    "Let's explore the data more. Most of the columns in the data set describe the attributes of eating habits and physical conditions, i.e., __FAVC__, __FCVC__, __NCP__, __CAEC__, __SMOKE__, __CH2O__, __SCC__, __FAF__, __TUE__, __CALC__, __MTRANS__. We will dive into a few attributes."
   ]
  },
  {
   "cell_type": "markdown",
   "metadata": {},
   "source": [
    ">__Task 9__\n",
    ">\n",
    ">- Check the min, max, and average values of the __age__ column\n",
    ">- Find out how many data points are in each gender group"
   ]
  },
  {
   "cell_type": "code",
   "execution_count": 68,
   "metadata": {},
   "outputs": [
    {
     "data": {
      "text/plain": [
       "'Age min: 14.0'"
      ]
     },
     "metadata": {},
     "output_type": "display_data"
    },
    {
     "data": {
      "text/plain": [
       "'Age max: 61.0'"
      ]
     },
     "metadata": {},
     "output_type": "display_data"
    },
    {
     "data": {
      "text/plain": [
       "'Age mean: 24.312599908574136'"
      ]
     },
     "metadata": {},
     "output_type": "display_data"
    }
   ],
   "source": [
    "# Check values\n",
    "display(f'Age min: {obs_df['age'].min()}')\n",
    "display(f'Age max: {obs_df['age'].max()}')\n",
    "display(f'Age mean: {obs_df['age'].mean()}')"
   ]
  },
  {
   "cell_type": "code",
   "execution_count": 69,
   "metadata": {},
   "outputs": [
    {
     "data": {
      "text/plain": [
       "'1043 female data points'"
      ]
     },
     "metadata": {},
     "output_type": "display_data"
    },
    {
     "data": {
      "text/plain": [
       "'1068 male data points'"
      ]
     },
     "metadata": {},
     "output_type": "display_data"
    }
   ],
   "source": [
    "# Count values\n",
    "display(f'{(obs_df[\"gender\"] == \"Female\").sum()} female data points')\n",
    "display(f'{(obs_df[\"gender\"] == \"Male\").sum()} male data points')"
   ]
  },
  {
   "cell_type": "markdown",
   "metadata": {},
   "source": [
    ">__Task 10__\n",
    ">\n",
    ">- Find out what are the values and the corresponding counts in the __NObeyesdad__ column. Is it a ordinal or nominal variable?\n",
    ">   - You can count the values in the column\n",
    ">   - It seems like there is an order between different levels of obesity, ain't it?\n",
    ">- Depending on which is the correct variable type (nominal or ordinal) convert the `NObesity_encoded` column to numeric using an encoder or map function."
   ]
  },
  {
   "cell_type": "code",
   "execution_count": 70,
   "metadata": {},
   "outputs": [
    {
     "data": {
      "text/plain": [
       "NObeyesdad\n",
       "Obesity_Type_I         351\n",
       "Obesity_Type_III       324\n",
       "Obesity_Type_II        297\n",
       "Overweight_Level_I     290\n",
       "Overweight_Level_II    290\n",
       "Normal_Weight          287\n",
       "Insufficient_Weight    272\n",
       "Name: count, dtype: int64"
      ]
     },
     "execution_count": 70,
     "metadata": {},
     "output_type": "execute_result"
    }
   ],
   "source": [
    "# Count values\n",
    "'''\n",
    "The \"NObeyesdad\" column is ordinal because there is an inherent order to the unique weight values.\n",
    "Insufficient -> Normal -> Overweight -> Obese\n",
    "'''\n",
    "obs_df[\"NObeyesdad\"].value_counts()"
   ]
  },
  {
   "cell_type": "code",
   "execution_count": 71,
   "metadata": {},
   "outputs": [],
   "source": [
    "nobeyesdad_dict = {\n",
    "    \"Insufficient_Weight\": -1,\n",
    "    \"Normal_Weight\": 0,\n",
    "    \"Overweight_Level_II\": 1,\n",
    "    \"Overweight_Level_I\": 2,\n",
    "    \"Obesity_Type_III\": 3,\n",
    "    \"Obesity_Type_II\": 4,\n",
    "    \"Obesity_Type_I\": 5,\n",
    "}\n",
    "\n",
    "obs_df[\"NObesity_encoded\"] = obs_df[\"NObeyesdad\"].map(nobeyesdad_dict)"
   ]
  },
  {
   "cell_type": "markdown",
   "metadata": {},
   "source": [
    ">__Task 11__\n",
    ">\n",
    ">- Check the values of __CAEC__ (consumption of food between meals) and __CALC__ (consumption of alcohol). Do they have same categorical values?\n",
    ">- Convert each of the two variables to numeric: `CAEC_encoded` and `CALC_encoded`. Pay attention to the ordinal or nominal type."
   ]
  },
  {
   "cell_type": "code",
   "execution_count": 72,
   "metadata": {},
   "outputs": [
    {
     "data": {
      "text/plain": [
       "CAEC\n",
       "no              51\n",
       "Sometimes     1765\n",
       "Frequently     242\n",
       "Always          53\n",
       "Name: count, dtype: int64"
      ]
     },
     "execution_count": 72,
     "metadata": {},
     "output_type": "execute_result"
    }
   ],
   "source": [
    "# Check the values of CAEC\n",
    "obs_df[\"CAEC\"].value_counts().sort_index(ascending=False)"
   ]
  },
  {
   "cell_type": "code",
   "execution_count": 73,
   "metadata": {},
   "outputs": [
    {
     "data": {
      "text/plain": [
       "CALC\n",
       "no             639\n",
       "Sometimes     1401\n",
       "Frequently      70\n",
       "Always           1\n",
       "Name: count, dtype: int64"
      ]
     },
     "execution_count": 73,
     "metadata": {},
     "output_type": "execute_result"
    }
   ],
   "source": [
    "# Check the values of CALC \n",
    "obs_df[\"CALC\"].value_counts().sort_index(ascending=False)"
   ]
  },
  {
   "cell_type": "code",
   "execution_count": 74,
   "metadata": {},
   "outputs": [],
   "source": [
    "'''\n",
    "CAEC and CALC have the same values and describe the frequency of each of these actions occuring. These are ordinal value because they\n",
    "do have an order to them: no -> sometimes -> frequently -> always\n",
    "'''\n",
    "frequency_dict = {\n",
    "    \"no\": 0,\n",
    "    \"Sometimes\": 1,\n",
    "    \"Frequently\": 2,\n",
    "    \"Always\": 3\n",
    "}\n",
    "\n",
    "obs_df[\"CAEC_encoded\"] = obs_df[\"CAEC\"].map(frequency_dict)\n",
    "obs_df[\"CALC_encoded\"] = obs_df[\"CALC\"].map(frequency_dict)"
   ]
  },
  {
   "cell_type": "code",
   "execution_count": 75,
   "metadata": {},
   "outputs": [
    {
     "name": "stdout",
     "output_type": "stream",
     "text": [
      "CAEC_encoded\n",
      "0      51\n",
      "1    1765\n",
      "2     242\n",
      "3      53\n",
      "Name: count, dtype: int64\n",
      "CALC_encoded\n",
      "0     639\n",
      "1    1401\n",
      "2      70\n",
      "3       1\n",
      "Name: count, dtype: int64\n"
     ]
    }
   ],
   "source": [
    "# Check whether the encoding works\n",
    "print(obs_df['CAEC_encoded'].value_counts().sort_index())\n",
    "print(obs_df['CALC_encoded'].value_counts().sort_index())"
   ]
  },
  {
   "cell_type": "markdown",
   "metadata": {},
   "source": [
    ">__Task 12__\n",
    ">\n",
    ">- Check the values of transportation used (__MTRANS__ column). It is nominal variable.\n",
    ">- Convert it to numeric using one-hot encoding and use the value as the new column names, e.g., `Automobile` and `Bike`. Hint: you can use either `get_dummies` from pandas or `OneHotEncoder` from sklearn. The latter will require some extra steps to merge back to the original dataset."
   ]
  },
  {
   "cell_type": "code",
   "execution_count": 76,
   "metadata": {},
   "outputs": [
    {
     "name": "stdout",
     "output_type": "stream",
     "text": [
      "MTRANS\n",
      "Automobile                457\n",
      "Bike                        7\n",
      "Motorbike                  11\n",
      "Public_Transportation    1580\n",
      "Walking                    56\n",
      "Name: count, dtype: int64\n"
     ]
    }
   ],
   "source": [
    "# Check the values\n",
    "print(obs_df['MTRANS'].value_counts().sort_index())"
   ]
  },
  {
   "cell_type": "code",
   "execution_count": 77,
   "metadata": {},
   "outputs": [],
   "source": [
    "ohe = OneHotEncoder(sparse_output=False)\n",
    "mtrans_encoded = ohe.fit_transform(obs_df[[\"MTRANS\"]])\n",
    "cols = [\"Automobile\", \"Bike\", \"Motorbike\", \"Public_Transportation\", \"Walking\"]\n",
    "\n",
    "df = pd.DataFrame(mtrans_encoded, columns=cols)\n",
    "obs_df = obs_df.join(df)"
   ]
  },
  {
   "cell_type": "markdown",
   "metadata": {},
   "source": [
    "There are several binary variables in the dataset: __family_history_with_overweight__, __FAVC__ (frequency of consumption of vegetables), __SMOKE__, __SCC__ (calories consumption monitoring). Let's transform these variables."
   ]
  },
  {
   "cell_type": "markdown",
   "metadata": {},
   "source": [
    ">__Task 13__\n",
    ">\n",
    ">- Check the values of __family_history_with_overweight__, __FAVC__, __SMOKE__, __SCC__ \n",
    ">- Convert them to numeric with 1 for `yes` and 0 for `no`. The new columns are names with suffix `_encoded`, e.g., `family_history_with_overweight_encoded`."
   ]
  },
  {
   "cell_type": "code",
   "execution_count": 78,
   "metadata": {},
   "outputs": [
    {
     "data": {
      "text/plain": [
       "family_history_with_overweight\n",
       "no      385\n",
       "yes    1726\n",
       "Name: count, dtype: int64"
      ]
     },
     "metadata": {},
     "output_type": "display_data"
    },
    {
     "data": {
      "text/plain": [
       "FAVC\n",
       "no      245\n",
       "yes    1866\n",
       "Name: count, dtype: int64"
      ]
     },
     "metadata": {},
     "output_type": "display_data"
    },
    {
     "data": {
      "text/plain": [
       "SMOKE\n",
       "no     2067\n",
       "yes      44\n",
       "Name: count, dtype: int64"
      ]
     },
     "metadata": {},
     "output_type": "display_data"
    },
    {
     "data": {
      "text/plain": [
       "SCC\n",
       "no     2015\n",
       "yes      96\n",
       "Name: count, dtype: int64"
      ]
     },
     "metadata": {},
     "output_type": "display_data"
    }
   ],
   "source": [
    "cols = [\"family_history_with_overweight\", \"FAVC\", \"SMOKE\", \"SCC\"]\n",
    "# Check the values\n",
    "for col in cols:\n",
    "    display(obs_df[col].value_counts().sort_index())\n"
   ]
  },
  {
   "cell_type": "code",
   "execution_count": 79,
   "metadata": {},
   "outputs": [
    {
     "data": {
      "text/plain": [
       "family_history_with_overweight_encoded\n",
       "0     385\n",
       "1    1726\n",
       "Name: count, dtype: int64"
      ]
     },
     "metadata": {},
     "output_type": "display_data"
    },
    {
     "data": {
      "text/plain": [
       "FAVC_encoded\n",
       "0     245\n",
       "1    1866\n",
       "Name: count, dtype: int64"
      ]
     },
     "metadata": {},
     "output_type": "display_data"
    },
    {
     "data": {
      "text/plain": [
       "SMOKE_encoded\n",
       "0    2067\n",
       "1      44\n",
       "Name: count, dtype: int64"
      ]
     },
     "metadata": {},
     "output_type": "display_data"
    },
    {
     "data": {
      "text/plain": [
       "SCC_encoded\n",
       "0    2015\n",
       "1      96\n",
       "Name: count, dtype: int64"
      ]
     },
     "metadata": {},
     "output_type": "display_data"
    }
   ],
   "source": [
    "# Convert to numeric\n",
    "binary_encoding_map = {'yes':1, 'no':0}\n",
    "for col in cols:\n",
    "    obs_df[col + \"_encoded\"] = obs_df[col].map(binary_encoding_map)\n",
    "    display(obs_df[col + \"_encoded\"].value_counts().sort_index())"
   ]
  },
  {
   "cell_type": "markdown",
   "metadata": {},
   "source": [
    "You can run the following `for` loop to check the results:"
   ]
  },
  {
   "cell_type": "markdown",
   "metadata": {},
   "source": [
    ">__Task 14__\n",
    ">\n",
    ">Retrieve rows where values are outliers in the __weight__ column\n",
    ">\n",
    ">- Calculate mean, 3 std above the mean and 3 std below the mean \n",
    ">- Create a filter (a boolean vector) that returns true if values are less than `mean-3*sd` or greater than `mean+3*sd`\n",
    ">- Use this filter to retrieve the outliers"
   ]
  },
  {
   "cell_type": "code",
   "execution_count": 80,
   "metadata": {},
   "outputs": [
    {
     "name": "stdout",
     "output_type": "stream",
     "text": [
      "8.012542890866285 86.58605812648035 165.15957336209442\n"
     ]
    }
   ],
   "source": [
    "# Find the upper bound, mean, and lower bound\n",
    "weight = obs_df[\"weight\"]\n",
    "mean   = weight.mean()\n",
    "sd     = weight.std()\n",
    "\n",
    "lower_bound = mean - 3*sd\n",
    "upper_bound = mean + 3*sd\n",
    "\n",
    "print(lower_bound, mean, upper_bound)"
   ]
  },
  {
   "cell_type": "code",
   "execution_count": 81,
   "metadata": {},
   "outputs": [
    {
     "data": {
      "text/html": [
       "<div>\n",
       "<style scoped>\n",
       "    .dataframe tbody tr th:only-of-type {\n",
       "        vertical-align: middle;\n",
       "    }\n",
       "\n",
       "    .dataframe tbody tr th {\n",
       "        vertical-align: top;\n",
       "    }\n",
       "\n",
       "    .dataframe thead th {\n",
       "        text-align: right;\n",
       "    }\n",
       "</style>\n",
       "<table border=\"1\" class=\"dataframe\">\n",
       "  <thead>\n",
       "    <tr style=\"text-align: right;\">\n",
       "      <th></th>\n",
       "      <th>year</th>\n",
       "      <th>month</th>\n",
       "      <th>day</th>\n",
       "      <th>gender</th>\n",
       "      <th>age</th>\n",
       "      <th>height</th>\n",
       "      <th>weight</th>\n",
       "      <th>family_history_with_overweight</th>\n",
       "      <th>FAVC</th>\n",
       "      <th>FCVC</th>\n",
       "      <th>...</th>\n",
       "      <th>CALC_encoded</th>\n",
       "      <th>Automobile</th>\n",
       "      <th>Bike</th>\n",
       "      <th>Motorbike</th>\n",
       "      <th>Public_Transportation</th>\n",
       "      <th>Walking</th>\n",
       "      <th>family_history_with_overweight_encoded</th>\n",
       "      <th>FAVC_encoded</th>\n",
       "      <th>SMOKE_encoded</th>\n",
       "      <th>SCC_encoded</th>\n",
       "    </tr>\n",
       "  </thead>\n",
       "  <tbody>\n",
       "    <tr>\n",
       "      <th>344</th>\n",
       "      <td>2016</td>\n",
       "      <td>1</td>\n",
       "      <td>5</td>\n",
       "      <td>Male</td>\n",
       "      <td>18.0</td>\n",
       "      <td>1.87</td>\n",
       "      <td>173.0</td>\n",
       "      <td>yes</td>\n",
       "      <td>yes</td>\n",
       "      <td>3.0</td>\n",
       "      <td>...</td>\n",
       "      <td>1</td>\n",
       "      <td>0.0</td>\n",
       "      <td>0.0</td>\n",
       "      <td>0.0</td>\n",
       "      <td>1.0</td>\n",
       "      <td>0.0</td>\n",
       "      <td>1</td>\n",
       "      <td>1</td>\n",
       "      <td>0</td>\n",
       "      <td>0</td>\n",
       "    </tr>\n",
       "  </tbody>\n",
       "</table>\n",
       "<p>1 rows × 33 columns</p>\n",
       "</div>"
      ],
      "text/plain": [
       "     year  month  day gender   age  height  weight  \\\n",
       "344  2016      1    5   Male  18.0    1.87   173.0   \n",
       "\n",
       "    family_history_with_overweight FAVC  FCVC  ...  CALC_encoded Automobile  \\\n",
       "344                            yes  yes   3.0  ...             1        0.0   \n",
       "\n",
       "    Bike  Motorbike Public_Transportation  Walking  \\\n",
       "344  0.0        0.0                   1.0      0.0   \n",
       "\n",
       "     family_history_with_overweight_encoded FAVC_encoded SMOKE_encoded  \\\n",
       "344                                       1            1             0   \n",
       "\n",
       "    SCC_encoded  \n",
       "344           0  \n",
       "\n",
       "[1 rows x 33 columns]"
      ]
     },
     "execution_count": 81,
     "metadata": {},
     "output_type": "execute_result"
    }
   ],
   "source": [
    "# Create a filter and retrieve the outliers\n",
    "weight_outliers = obs_df[(obs_df[\"weight\"] < lower_bound) | (obs_df[\"weight\"] > upper_bound)]\n",
    "weight_outliers"
   ]
  },
  {
   "cell_type": "markdown",
   "metadata": {},
   "source": [
    "You can use the same method to find out outliers in the other columns. But there's a easier way to find out all in once using the `for` loop:"
   ]
  },
  {
   "cell_type": "code",
   "execution_count": 82,
   "metadata": {},
   "outputs": [
    {
     "data": {
      "text/plain": [
       "'age outlier(s):'"
      ]
     },
     "metadata": {},
     "output_type": "display_data"
    },
    {
     "data": {
      "text/html": [
       "<div>\n",
       "<style scoped>\n",
       "    .dataframe tbody tr th:only-of-type {\n",
       "        vertical-align: middle;\n",
       "    }\n",
       "\n",
       "    .dataframe tbody tr th {\n",
       "        vertical-align: top;\n",
       "    }\n",
       "\n",
       "    .dataframe thead th {\n",
       "        text-align: right;\n",
       "    }\n",
       "</style>\n",
       "<table border=\"1\" class=\"dataframe\">\n",
       "  <thead>\n",
       "    <tr style=\"text-align: right;\">\n",
       "      <th></th>\n",
       "      <th>year</th>\n",
       "      <th>month</th>\n",
       "      <th>day</th>\n",
       "      <th>gender</th>\n",
       "      <th>age</th>\n",
       "      <th>height</th>\n",
       "      <th>weight</th>\n",
       "      <th>family_history_with_overweight</th>\n",
       "      <th>FAVC</th>\n",
       "      <th>FCVC</th>\n",
       "      <th>...</th>\n",
       "      <th>CALC_encoded</th>\n",
       "      <th>Automobile</th>\n",
       "      <th>Bike</th>\n",
       "      <th>Motorbike</th>\n",
       "      <th>Public_Transportation</th>\n",
       "      <th>Walking</th>\n",
       "      <th>family_history_with_overweight_encoded</th>\n",
       "      <th>FAVC_encoded</th>\n",
       "      <th>SMOKE_encoded</th>\n",
       "      <th>SCC_encoded</th>\n",
       "    </tr>\n",
       "  </thead>\n",
       "  <tbody>\n",
       "    <tr>\n",
       "      <th>21</th>\n",
       "      <td>2015</td>\n",
       "      <td>12</td>\n",
       "      <td>10</td>\n",
       "      <td>Female</td>\n",
       "      <td>52.000000</td>\n",
       "      <td>1.690000</td>\n",
       "      <td>87.000000</td>\n",
       "      <td>yes</td>\n",
       "      <td>yes</td>\n",
       "      <td>3.000000</td>\n",
       "      <td>...</td>\n",
       "      <td>0</td>\n",
       "      <td>1.0</td>\n",
       "      <td>0.0</td>\n",
       "      <td>0.0</td>\n",
       "      <td>0.0</td>\n",
       "      <td>0.0</td>\n",
       "      <td>1</td>\n",
       "      <td>1</td>\n",
       "      <td>1</td>\n",
       "      <td>0</td>\n",
       "    </tr>\n",
       "    <tr>\n",
       "      <th>92</th>\n",
       "      <td>2015</td>\n",
       "      <td>7</td>\n",
       "      <td>14</td>\n",
       "      <td>Male</td>\n",
       "      <td>55.000000</td>\n",
       "      <td>1.780000</td>\n",
       "      <td>84.000000</td>\n",
       "      <td>yes</td>\n",
       "      <td>no</td>\n",
       "      <td>3.000000</td>\n",
       "      <td>...</td>\n",
       "      <td>2</td>\n",
       "      <td>0.0</td>\n",
       "      <td>0.0</td>\n",
       "      <td>0.0</td>\n",
       "      <td>0.0</td>\n",
       "      <td>1.0</td>\n",
       "      <td>1</td>\n",
       "      <td>0</td>\n",
       "      <td>0</td>\n",
       "      <td>1</td>\n",
       "    </tr>\n",
       "    <tr>\n",
       "      <th>133</th>\n",
       "      <td>2015</td>\n",
       "      <td>6</td>\n",
       "      <td>13</td>\n",
       "      <td>Female</td>\n",
       "      <td>61.000000</td>\n",
       "      <td>1.650000</td>\n",
       "      <td>66.000000</td>\n",
       "      <td>no</td>\n",
       "      <td>yes</td>\n",
       "      <td>3.000000</td>\n",
       "      <td>...</td>\n",
       "      <td>2</td>\n",
       "      <td>0.0</td>\n",
       "      <td>0.0</td>\n",
       "      <td>0.0</td>\n",
       "      <td>1.0</td>\n",
       "      <td>0.0</td>\n",
       "      <td>0</td>\n",
       "      <td>1</td>\n",
       "      <td>0</td>\n",
       "      <td>0</td>\n",
       "    </tr>\n",
       "    <tr>\n",
       "      <th>137</th>\n",
       "      <td>2016</td>\n",
       "      <td>4</td>\n",
       "      <td>20</td>\n",
       "      <td>Male</td>\n",
       "      <td>44.000000</td>\n",
       "      <td>1.600000</td>\n",
       "      <td>80.000000</td>\n",
       "      <td>yes</td>\n",
       "      <td>no</td>\n",
       "      <td>2.000000</td>\n",
       "      <td>...</td>\n",
       "      <td>0</td>\n",
       "      <td>0.0</td>\n",
       "      <td>0.0</td>\n",
       "      <td>1.0</td>\n",
       "      <td>0.0</td>\n",
       "      <td>0.0</td>\n",
       "      <td>1</td>\n",
       "      <td>0</td>\n",
       "      <td>1</td>\n",
       "      <td>0</td>\n",
       "    </tr>\n",
       "    <tr>\n",
       "      <th>161</th>\n",
       "      <td>2016</td>\n",
       "      <td>10</td>\n",
       "      <td>23</td>\n",
       "      <td>Male</td>\n",
       "      <td>55.000000</td>\n",
       "      <td>1.650000</td>\n",
       "      <td>80.000000</td>\n",
       "      <td>no</td>\n",
       "      <td>yes</td>\n",
       "      <td>2.000000</td>\n",
       "      <td>...</td>\n",
       "      <td>0</td>\n",
       "      <td>1.0</td>\n",
       "      <td>0.0</td>\n",
       "      <td>0.0</td>\n",
       "      <td>0.0</td>\n",
       "      <td>0.0</td>\n",
       "      <td>0</td>\n",
       "      <td>1</td>\n",
       "      <td>0</td>\n",
       "      <td>0</td>\n",
       "    </tr>\n",
       "    <tr>\n",
       "      <th>169</th>\n",
       "      <td>2015</td>\n",
       "      <td>12</td>\n",
       "      <td>22</td>\n",
       "      <td>Female</td>\n",
       "      <td>45.000000</td>\n",
       "      <td>1.630000</td>\n",
       "      <td>77.000000</td>\n",
       "      <td>yes</td>\n",
       "      <td>yes</td>\n",
       "      <td>2.000000</td>\n",
       "      <td>...</td>\n",
       "      <td>0</td>\n",
       "      <td>1.0</td>\n",
       "      <td>0.0</td>\n",
       "      <td>0.0</td>\n",
       "      <td>0.0</td>\n",
       "      <td>0.0</td>\n",
       "      <td>1</td>\n",
       "      <td>1</td>\n",
       "      <td>0</td>\n",
       "      <td>0</td>\n",
       "    </tr>\n",
       "    <tr>\n",
       "      <th>232</th>\n",
       "      <td>2015</td>\n",
       "      <td>1</td>\n",
       "      <td>25</td>\n",
       "      <td>Female</td>\n",
       "      <td>51.000000</td>\n",
       "      <td>1.590000</td>\n",
       "      <td>50.000000</td>\n",
       "      <td>yes</td>\n",
       "      <td>no</td>\n",
       "      <td>3.000000</td>\n",
       "      <td>...</td>\n",
       "      <td>0</td>\n",
       "      <td>0.0</td>\n",
       "      <td>0.0</td>\n",
       "      <td>0.0</td>\n",
       "      <td>1.0</td>\n",
       "      <td>0.0</td>\n",
       "      <td>1</td>\n",
       "      <td>0</td>\n",
       "      <td>1</td>\n",
       "      <td>1</td>\n",
       "    </tr>\n",
       "    <tr>\n",
       "      <th>252</th>\n",
       "      <td>2016</td>\n",
       "      <td>2</td>\n",
       "      <td>6</td>\n",
       "      <td>Male</td>\n",
       "      <td>56.000000</td>\n",
       "      <td>1.790000</td>\n",
       "      <td>90.000000</td>\n",
       "      <td>yes</td>\n",
       "      <td>no</td>\n",
       "      <td>2.000000</td>\n",
       "      <td>...</td>\n",
       "      <td>2</td>\n",
       "      <td>1.0</td>\n",
       "      <td>0.0</td>\n",
       "      <td>0.0</td>\n",
       "      <td>0.0</td>\n",
       "      <td>0.0</td>\n",
       "      <td>1</td>\n",
       "      <td>0</td>\n",
       "      <td>1</td>\n",
       "      <td>0</td>\n",
       "    </tr>\n",
       "    <tr>\n",
       "      <th>492</th>\n",
       "      <td>2016</td>\n",
       "      <td>3</td>\n",
       "      <td>24</td>\n",
       "      <td>Male</td>\n",
       "      <td>45.000000</td>\n",
       "      <td>1.700000</td>\n",
       "      <td>86.000000</td>\n",
       "      <td>no</td>\n",
       "      <td>yes</td>\n",
       "      <td>3.000000</td>\n",
       "      <td>...</td>\n",
       "      <td>0</td>\n",
       "      <td>1.0</td>\n",
       "      <td>0.0</td>\n",
       "      <td>0.0</td>\n",
       "      <td>0.0</td>\n",
       "      <td>0.0</td>\n",
       "      <td>0</td>\n",
       "      <td>1</td>\n",
       "      <td>0</td>\n",
       "      <td>0</td>\n",
       "    </tr>\n",
       "    <tr>\n",
       "      <th>1013</th>\n",
       "      <td>2016</td>\n",
       "      <td>2</td>\n",
       "      <td>6</td>\n",
       "      <td>Male</td>\n",
       "      <td>55.246250</td>\n",
       "      <td>1.769269</td>\n",
       "      <td>80.491339</td>\n",
       "      <td>no</td>\n",
       "      <td>yes</td>\n",
       "      <td>2.000000</td>\n",
       "      <td>...</td>\n",
       "      <td>0</td>\n",
       "      <td>1.0</td>\n",
       "      <td>0.0</td>\n",
       "      <td>0.0</td>\n",
       "      <td>0.0</td>\n",
       "      <td>0.0</td>\n",
       "      <td>0</td>\n",
       "      <td>1</td>\n",
       "      <td>0</td>\n",
       "      <td>0</td>\n",
       "    </tr>\n",
       "    <tr>\n",
       "      <th>1034</th>\n",
       "      <td>2016</td>\n",
       "      <td>8</td>\n",
       "      <td>13</td>\n",
       "      <td>Male</td>\n",
       "      <td>50.832559</td>\n",
       "      <td>1.745528</td>\n",
       "      <td>82.130728</td>\n",
       "      <td>yes</td>\n",
       "      <td>yes</td>\n",
       "      <td>2.000000</td>\n",
       "      <td>...</td>\n",
       "      <td>0</td>\n",
       "      <td>1.0</td>\n",
       "      <td>0.0</td>\n",
       "      <td>0.0</td>\n",
       "      <td>0.0</td>\n",
       "      <td>0.0</td>\n",
       "      <td>1</td>\n",
       "      <td>1</td>\n",
       "      <td>0</td>\n",
       "      <td>0</td>\n",
       "    </tr>\n",
       "    <tr>\n",
       "      <th>1063</th>\n",
       "      <td>2015</td>\n",
       "      <td>3</td>\n",
       "      <td>2</td>\n",
       "      <td>Female</td>\n",
       "      <td>45.000000</td>\n",
       "      <td>1.675953</td>\n",
       "      <td>79.668320</td>\n",
       "      <td>yes</td>\n",
       "      <td>yes</td>\n",
       "      <td>2.598051</td>\n",
       "      <td>...</td>\n",
       "      <td>0</td>\n",
       "      <td>1.0</td>\n",
       "      <td>0.0</td>\n",
       "      <td>0.0</td>\n",
       "      <td>0.0</td>\n",
       "      <td>0.0</td>\n",
       "      <td>1</td>\n",
       "      <td>1</td>\n",
       "      <td>0</td>\n",
       "      <td>0</td>\n",
       "    </tr>\n",
       "    <tr>\n",
       "      <th>1088</th>\n",
       "      <td>2016</td>\n",
       "      <td>4</td>\n",
       "      <td>5</td>\n",
       "      <td>Male</td>\n",
       "      <td>55.137881</td>\n",
       "      <td>1.657221</td>\n",
       "      <td>80.993213</td>\n",
       "      <td>yes</td>\n",
       "      <td>yes</td>\n",
       "      <td>2.000000</td>\n",
       "      <td>...</td>\n",
       "      <td>0</td>\n",
       "      <td>1.0</td>\n",
       "      <td>0.0</td>\n",
       "      <td>0.0</td>\n",
       "      <td>0.0</td>\n",
       "      <td>0.0</td>\n",
       "      <td>1</td>\n",
       "      <td>1</td>\n",
       "      <td>0</td>\n",
       "      <td>0</td>\n",
       "    </tr>\n",
       "    <tr>\n",
       "      <th>1101</th>\n",
       "      <td>2016</td>\n",
       "      <td>4</td>\n",
       "      <td>3</td>\n",
       "      <td>Male</td>\n",
       "      <td>46.491859</td>\n",
       "      <td>1.718097</td>\n",
       "      <td>88.600878</td>\n",
       "      <td>yes</td>\n",
       "      <td>yes</td>\n",
       "      <td>2.129969</td>\n",
       "      <td>...</td>\n",
       "      <td>0</td>\n",
       "      <td>1.0</td>\n",
       "      <td>0.0</td>\n",
       "      <td>0.0</td>\n",
       "      <td>0.0</td>\n",
       "      <td>0.0</td>\n",
       "      <td>1</td>\n",
       "      <td>1</td>\n",
       "      <td>0</td>\n",
       "      <td>0</td>\n",
       "    </tr>\n",
       "    <tr>\n",
       "      <th>1158</th>\n",
       "      <td>2016</td>\n",
       "      <td>7</td>\n",
       "      <td>6</td>\n",
       "      <td>Male</td>\n",
       "      <td>55.022494</td>\n",
       "      <td>1.673394</td>\n",
       "      <td>80.400306</td>\n",
       "      <td>yes</td>\n",
       "      <td>yes</td>\n",
       "      <td>2.000000</td>\n",
       "      <td>...</td>\n",
       "      <td>0</td>\n",
       "      <td>1.0</td>\n",
       "      <td>0.0</td>\n",
       "      <td>0.0</td>\n",
       "      <td>0.0</td>\n",
       "      <td>0.0</td>\n",
       "      <td>1</td>\n",
       "      <td>1</td>\n",
       "      <td>0</td>\n",
       "      <td>0</td>\n",
       "    </tr>\n",
       "    <tr>\n",
       "      <th>1179</th>\n",
       "      <td>2015</td>\n",
       "      <td>3</td>\n",
       "      <td>14</td>\n",
       "      <td>Male</td>\n",
       "      <td>47.706100</td>\n",
       "      <td>1.743935</td>\n",
       "      <td>84.729197</td>\n",
       "      <td>yes</td>\n",
       "      <td>yes</td>\n",
       "      <td>2.535315</td>\n",
       "      <td>...</td>\n",
       "      <td>0</td>\n",
       "      <td>1.0</td>\n",
       "      <td>0.0</td>\n",
       "      <td>0.0</td>\n",
       "      <td>0.0</td>\n",
       "      <td>0.0</td>\n",
       "      <td>1</td>\n",
       "      <td>1</td>\n",
       "      <td>0</td>\n",
       "      <td>0</td>\n",
       "    </tr>\n",
       "    <tr>\n",
       "      <th>1208</th>\n",
       "      <td>2015</td>\n",
       "      <td>11</td>\n",
       "      <td>2</td>\n",
       "      <td>Female</td>\n",
       "      <td>45.821267</td>\n",
       "      <td>1.687326</td>\n",
       "      <td>80.413997</td>\n",
       "      <td>yes</td>\n",
       "      <td>yes</td>\n",
       "      <td>2.076689</td>\n",
       "      <td>...</td>\n",
       "      <td>0</td>\n",
       "      <td>1.0</td>\n",
       "      <td>0.0</td>\n",
       "      <td>0.0</td>\n",
       "      <td>0.0</td>\n",
       "      <td>0.0</td>\n",
       "      <td>1</td>\n",
       "      <td>1</td>\n",
       "      <td>0</td>\n",
       "      <td>0</td>\n",
       "    </tr>\n",
       "    <tr>\n",
       "      <th>1215</th>\n",
       "      <td>2015</td>\n",
       "      <td>4</td>\n",
       "      <td>14</td>\n",
       "      <td>Female</td>\n",
       "      <td>43.604901</td>\n",
       "      <td>1.569234</td>\n",
       "      <td>81.827288</td>\n",
       "      <td>yes</td>\n",
       "      <td>yes</td>\n",
       "      <td>2.909853</td>\n",
       "      <td>...</td>\n",
       "      <td>0</td>\n",
       "      <td>1.0</td>\n",
       "      <td>0.0</td>\n",
       "      <td>0.0</td>\n",
       "      <td>0.0</td>\n",
       "      <td>0.0</td>\n",
       "      <td>1</td>\n",
       "      <td>1</td>\n",
       "      <td>0</td>\n",
       "      <td>0</td>\n",
       "    </tr>\n",
       "    <tr>\n",
       "      <th>1267</th>\n",
       "      <td>2016</td>\n",
       "      <td>10</td>\n",
       "      <td>17</td>\n",
       "      <td>Female</td>\n",
       "      <td>43.510672</td>\n",
       "      <td>1.587546</td>\n",
       "      <td>76.126112</td>\n",
       "      <td>yes</td>\n",
       "      <td>yes</td>\n",
       "      <td>2.000000</td>\n",
       "      <td>...</td>\n",
       "      <td>1</td>\n",
       "      <td>1.0</td>\n",
       "      <td>0.0</td>\n",
       "      <td>0.0</td>\n",
       "      <td>0.0</td>\n",
       "      <td>0.0</td>\n",
       "      <td>1</td>\n",
       "      <td>1</td>\n",
       "      <td>0</td>\n",
       "      <td>0</td>\n",
       "    </tr>\n",
       "    <tr>\n",
       "      <th>1286</th>\n",
       "      <td>2015</td>\n",
       "      <td>12</td>\n",
       "      <td>17</td>\n",
       "      <td>Female</td>\n",
       "      <td>47.283374</td>\n",
       "      <td>1.643786</td>\n",
       "      <td>81.978743</td>\n",
       "      <td>yes</td>\n",
       "      <td>yes</td>\n",
       "      <td>2.037585</td>\n",
       "      <td>...</td>\n",
       "      <td>0</td>\n",
       "      <td>1.0</td>\n",
       "      <td>0.0</td>\n",
       "      <td>0.0</td>\n",
       "      <td>0.0</td>\n",
       "      <td>0.0</td>\n",
       "      <td>1</td>\n",
       "      <td>1</td>\n",
       "      <td>0</td>\n",
       "      <td>0</td>\n",
       "    </tr>\n",
       "    <tr>\n",
       "      <th>1305</th>\n",
       "      <td>2015</td>\n",
       "      <td>11</td>\n",
       "      <td>18</td>\n",
       "      <td>Female</td>\n",
       "      <td>43.591999</td>\n",
       "      <td>1.595165</td>\n",
       "      <td>77.354744</td>\n",
       "      <td>yes</td>\n",
       "      <td>yes</td>\n",
       "      <td>2.000000</td>\n",
       "      <td>...</td>\n",
       "      <td>0</td>\n",
       "      <td>1.0</td>\n",
       "      <td>0.0</td>\n",
       "      <td>0.0</td>\n",
       "      <td>0.0</td>\n",
       "      <td>0.0</td>\n",
       "      <td>1</td>\n",
       "      <td>1</td>\n",
       "      <td>0</td>\n",
       "      <td>0</td>\n",
       "    </tr>\n",
       "    <tr>\n",
       "      <th>1386</th>\n",
       "      <td>2015</td>\n",
       "      <td>11</td>\n",
       "      <td>23</td>\n",
       "      <td>Female</td>\n",
       "      <td>43.719395</td>\n",
       "      <td>1.584322</td>\n",
       "      <td>80.986496</td>\n",
       "      <td>yes</td>\n",
       "      <td>yes</td>\n",
       "      <td>2.186322</td>\n",
       "      <td>...</td>\n",
       "      <td>0</td>\n",
       "      <td>1.0</td>\n",
       "      <td>0.0</td>\n",
       "      <td>0.0</td>\n",
       "      <td>0.0</td>\n",
       "      <td>0.0</td>\n",
       "      <td>1</td>\n",
       "      <td>1</td>\n",
       "      <td>0</td>\n",
       "      <td>0</td>\n",
       "    </tr>\n",
       "    <tr>\n",
       "      <th>1387</th>\n",
       "      <td>2016</td>\n",
       "      <td>10</td>\n",
       "      <td>13</td>\n",
       "      <td>Female</td>\n",
       "      <td>43.376340</td>\n",
       "      <td>1.582523</td>\n",
       "      <td>81.919454</td>\n",
       "      <td>yes</td>\n",
       "      <td>yes</td>\n",
       "      <td>2.766320</td>\n",
       "      <td>...</td>\n",
       "      <td>0</td>\n",
       "      <td>1.0</td>\n",
       "      <td>0.0</td>\n",
       "      <td>0.0</td>\n",
       "      <td>0.0</td>\n",
       "      <td>0.0</td>\n",
       "      <td>1</td>\n",
       "      <td>1</td>\n",
       "      <td>0</td>\n",
       "      <td>0</td>\n",
       "    </tr>\n",
       "    <tr>\n",
       "      <th>1490</th>\n",
       "      <td>2016</td>\n",
       "      <td>9</td>\n",
       "      <td>8</td>\n",
       "      <td>Female</td>\n",
       "      <td>43.726081</td>\n",
       "      <td>1.592316</td>\n",
       "      <td>77.001030</td>\n",
       "      <td>yes</td>\n",
       "      <td>yes</td>\n",
       "      <td>2.000000</td>\n",
       "      <td>...</td>\n",
       "      <td>1</td>\n",
       "      <td>1.0</td>\n",
       "      <td>0.0</td>\n",
       "      <td>0.0</td>\n",
       "      <td>0.0</td>\n",
       "      <td>0.0</td>\n",
       "      <td>1</td>\n",
       "      <td>1</td>\n",
       "      <td>0</td>\n",
       "      <td>0</td>\n",
       "    </tr>\n",
       "  </tbody>\n",
       "</table>\n",
       "<p>24 rows × 33 columns</p>\n",
       "</div>"
      ],
      "text/plain": [
       "      year  month  day  gender        age    height     weight  \\\n",
       "21    2015     12   10  Female  52.000000  1.690000  87.000000   \n",
       "92    2015      7   14    Male  55.000000  1.780000  84.000000   \n",
       "133   2015      6   13  Female  61.000000  1.650000  66.000000   \n",
       "137   2016      4   20    Male  44.000000  1.600000  80.000000   \n",
       "161   2016     10   23    Male  55.000000  1.650000  80.000000   \n",
       "169   2015     12   22  Female  45.000000  1.630000  77.000000   \n",
       "232   2015      1   25  Female  51.000000  1.590000  50.000000   \n",
       "252   2016      2    6    Male  56.000000  1.790000  90.000000   \n",
       "492   2016      3   24    Male  45.000000  1.700000  86.000000   \n",
       "1013  2016      2    6    Male  55.246250  1.769269  80.491339   \n",
       "1034  2016      8   13    Male  50.832559  1.745528  82.130728   \n",
       "1063  2015      3    2  Female  45.000000  1.675953  79.668320   \n",
       "1088  2016      4    5    Male  55.137881  1.657221  80.993213   \n",
       "1101  2016      4    3    Male  46.491859  1.718097  88.600878   \n",
       "1158  2016      7    6    Male  55.022494  1.673394  80.400306   \n",
       "1179  2015      3   14    Male  47.706100  1.743935  84.729197   \n",
       "1208  2015     11    2  Female  45.821267  1.687326  80.413997   \n",
       "1215  2015      4   14  Female  43.604901  1.569234  81.827288   \n",
       "1267  2016     10   17  Female  43.510672  1.587546  76.126112   \n",
       "1286  2015     12   17  Female  47.283374  1.643786  81.978743   \n",
       "1305  2015     11   18  Female  43.591999  1.595165  77.354744   \n",
       "1386  2015     11   23  Female  43.719395  1.584322  80.986496   \n",
       "1387  2016     10   13  Female  43.376340  1.582523  81.919454   \n",
       "1490  2016      9    8  Female  43.726081  1.592316  77.001030   \n",
       "\n",
       "     family_history_with_overweight FAVC      FCVC  ...  CALC_encoded  \\\n",
       "21                              yes  yes  3.000000  ...             0   \n",
       "92                              yes   no  3.000000  ...             2   \n",
       "133                              no  yes  3.000000  ...             2   \n",
       "137                             yes   no  2.000000  ...             0   \n",
       "161                              no  yes  2.000000  ...             0   \n",
       "169                             yes  yes  2.000000  ...             0   \n",
       "232                             yes   no  3.000000  ...             0   \n",
       "252                             yes   no  2.000000  ...             2   \n",
       "492                              no  yes  3.000000  ...             0   \n",
       "1013                             no  yes  2.000000  ...             0   \n",
       "1034                            yes  yes  2.000000  ...             0   \n",
       "1063                            yes  yes  2.598051  ...             0   \n",
       "1088                            yes  yes  2.000000  ...             0   \n",
       "1101                            yes  yes  2.129969  ...             0   \n",
       "1158                            yes  yes  2.000000  ...             0   \n",
       "1179                            yes  yes  2.535315  ...             0   \n",
       "1208                            yes  yes  2.076689  ...             0   \n",
       "1215                            yes  yes  2.909853  ...             0   \n",
       "1267                            yes  yes  2.000000  ...             1   \n",
       "1286                            yes  yes  2.037585  ...             0   \n",
       "1305                            yes  yes  2.000000  ...             0   \n",
       "1386                            yes  yes  2.186322  ...             0   \n",
       "1387                            yes  yes  2.766320  ...             0   \n",
       "1490                            yes  yes  2.000000  ...             1   \n",
       "\n",
       "     Automobile Bike  Motorbike Public_Transportation  Walking  \\\n",
       "21          1.0  0.0        0.0                   0.0      0.0   \n",
       "92          0.0  0.0        0.0                   0.0      1.0   \n",
       "133         0.0  0.0        0.0                   1.0      0.0   \n",
       "137         0.0  0.0        1.0                   0.0      0.0   \n",
       "161         1.0  0.0        0.0                   0.0      0.0   \n",
       "169         1.0  0.0        0.0                   0.0      0.0   \n",
       "232         0.0  0.0        0.0                   1.0      0.0   \n",
       "252         1.0  0.0        0.0                   0.0      0.0   \n",
       "492         1.0  0.0        0.0                   0.0      0.0   \n",
       "1013        1.0  0.0        0.0                   0.0      0.0   \n",
       "1034        1.0  0.0        0.0                   0.0      0.0   \n",
       "1063        1.0  0.0        0.0                   0.0      0.0   \n",
       "1088        1.0  0.0        0.0                   0.0      0.0   \n",
       "1101        1.0  0.0        0.0                   0.0      0.0   \n",
       "1158        1.0  0.0        0.0                   0.0      0.0   \n",
       "1179        1.0  0.0        0.0                   0.0      0.0   \n",
       "1208        1.0  0.0        0.0                   0.0      0.0   \n",
       "1215        1.0  0.0        0.0                   0.0      0.0   \n",
       "1267        1.0  0.0        0.0                   0.0      0.0   \n",
       "1286        1.0  0.0        0.0                   0.0      0.0   \n",
       "1305        1.0  0.0        0.0                   0.0      0.0   \n",
       "1386        1.0  0.0        0.0                   0.0      0.0   \n",
       "1387        1.0  0.0        0.0                   0.0      0.0   \n",
       "1490        1.0  0.0        0.0                   0.0      0.0   \n",
       "\n",
       "      family_history_with_overweight_encoded FAVC_encoded SMOKE_encoded  \\\n",
       "21                                         1            1             1   \n",
       "92                                         1            0             0   \n",
       "133                                        0            1             0   \n",
       "137                                        1            0             1   \n",
       "161                                        0            1             0   \n",
       "169                                        1            1             0   \n",
       "232                                        1            0             1   \n",
       "252                                        1            0             1   \n",
       "492                                        0            1             0   \n",
       "1013                                       0            1             0   \n",
       "1034                                       1            1             0   \n",
       "1063                                       1            1             0   \n",
       "1088                                       1            1             0   \n",
       "1101                                       1            1             0   \n",
       "1158                                       1            1             0   \n",
       "1179                                       1            1             0   \n",
       "1208                                       1            1             0   \n",
       "1215                                       1            1             0   \n",
       "1267                                       1            1             0   \n",
       "1286                                       1            1             0   \n",
       "1305                                       1            1             0   \n",
       "1386                                       1            1             0   \n",
       "1387                                       1            1             0   \n",
       "1490                                       1            1             0   \n",
       "\n",
       "     SCC_encoded  \n",
       "21             0  \n",
       "92             1  \n",
       "133            0  \n",
       "137            0  \n",
       "161            0  \n",
       "169            0  \n",
       "232            1  \n",
       "252            0  \n",
       "492            0  \n",
       "1013           0  \n",
       "1034           0  \n",
       "1063           0  \n",
       "1088           0  \n",
       "1101           0  \n",
       "1158           0  \n",
       "1179           0  \n",
       "1208           0  \n",
       "1215           0  \n",
       "1267           0  \n",
       "1286           0  \n",
       "1305           0  \n",
       "1386           0  \n",
       "1387           0  \n",
       "1490           0  \n",
       "\n",
       "[24 rows x 33 columns]"
      ]
     },
     "metadata": {},
     "output_type": "display_data"
    },
    {
     "data": {
      "text/plain": [
       "'height outlier(s):'"
      ]
     },
     "metadata": {},
     "output_type": "display_data"
    },
    {
     "data": {
      "text/html": [
       "<div>\n",
       "<style scoped>\n",
       "    .dataframe tbody tr th:only-of-type {\n",
       "        vertical-align: middle;\n",
       "    }\n",
       "\n",
       "    .dataframe tbody tr th {\n",
       "        vertical-align: top;\n",
       "    }\n",
       "\n",
       "    .dataframe thead th {\n",
       "        text-align: right;\n",
       "    }\n",
       "</style>\n",
       "<table border=\"1\" class=\"dataframe\">\n",
       "  <thead>\n",
       "    <tr style=\"text-align: right;\">\n",
       "      <th></th>\n",
       "      <th>year</th>\n",
       "      <th>month</th>\n",
       "      <th>day</th>\n",
       "      <th>gender</th>\n",
       "      <th>age</th>\n",
       "      <th>height</th>\n",
       "      <th>weight</th>\n",
       "      <th>family_history_with_overweight</th>\n",
       "      <th>FAVC</th>\n",
       "      <th>FCVC</th>\n",
       "      <th>...</th>\n",
       "      <th>CALC_encoded</th>\n",
       "      <th>Automobile</th>\n",
       "      <th>Bike</th>\n",
       "      <th>Motorbike</th>\n",
       "      <th>Public_Transportation</th>\n",
       "      <th>Walking</th>\n",
       "      <th>family_history_with_overweight_encoded</th>\n",
       "      <th>FAVC_encoded</th>\n",
       "      <th>SMOKE_encoded</th>\n",
       "      <th>SCC_encoded</th>\n",
       "    </tr>\n",
       "  </thead>\n",
       "  <tbody>\n",
       "  </tbody>\n",
       "</table>\n",
       "<p>0 rows × 33 columns</p>\n",
       "</div>"
      ],
      "text/plain": [
       "Empty DataFrame\n",
       "Columns: [year, month, day, gender, age, height, weight, family_history_with_overweight, FAVC, FCVC, NCP, CAEC, SMOKE, CH2O, SCC, FAF, TUE, CALC, MTRANS, NObeyesdad, date, NObesity_encoded, CAEC_encoded, CALC_encoded, Automobile, Bike, Motorbike, Public_Transportation, Walking, family_history_with_overweight_encoded, FAVC_encoded, SMOKE_encoded, SCC_encoded]\n",
       "Index: []\n",
       "\n",
       "[0 rows x 33 columns]"
      ]
     },
     "metadata": {},
     "output_type": "display_data"
    },
    {
     "data": {
      "text/plain": [
       "'weight outlier(s):'"
      ]
     },
     "metadata": {},
     "output_type": "display_data"
    },
    {
     "data": {
      "text/html": [
       "<div>\n",
       "<style scoped>\n",
       "    .dataframe tbody tr th:only-of-type {\n",
       "        vertical-align: middle;\n",
       "    }\n",
       "\n",
       "    .dataframe tbody tr th {\n",
       "        vertical-align: top;\n",
       "    }\n",
       "\n",
       "    .dataframe thead th {\n",
       "        text-align: right;\n",
       "    }\n",
       "</style>\n",
       "<table border=\"1\" class=\"dataframe\">\n",
       "  <thead>\n",
       "    <tr style=\"text-align: right;\">\n",
       "      <th></th>\n",
       "      <th>year</th>\n",
       "      <th>month</th>\n",
       "      <th>day</th>\n",
       "      <th>gender</th>\n",
       "      <th>age</th>\n",
       "      <th>height</th>\n",
       "      <th>weight</th>\n",
       "      <th>family_history_with_overweight</th>\n",
       "      <th>FAVC</th>\n",
       "      <th>FCVC</th>\n",
       "      <th>...</th>\n",
       "      <th>CALC_encoded</th>\n",
       "      <th>Automobile</th>\n",
       "      <th>Bike</th>\n",
       "      <th>Motorbike</th>\n",
       "      <th>Public_Transportation</th>\n",
       "      <th>Walking</th>\n",
       "      <th>family_history_with_overweight_encoded</th>\n",
       "      <th>FAVC_encoded</th>\n",
       "      <th>SMOKE_encoded</th>\n",
       "      <th>SCC_encoded</th>\n",
       "    </tr>\n",
       "  </thead>\n",
       "  <tbody>\n",
       "    <tr>\n",
       "      <th>344</th>\n",
       "      <td>2016</td>\n",
       "      <td>1</td>\n",
       "      <td>5</td>\n",
       "      <td>Male</td>\n",
       "      <td>18.0</td>\n",
       "      <td>1.87</td>\n",
       "      <td>173.0</td>\n",
       "      <td>yes</td>\n",
       "      <td>yes</td>\n",
       "      <td>3.0</td>\n",
       "      <td>...</td>\n",
       "      <td>1</td>\n",
       "      <td>0.0</td>\n",
       "      <td>0.0</td>\n",
       "      <td>0.0</td>\n",
       "      <td>1.0</td>\n",
       "      <td>0.0</td>\n",
       "      <td>1</td>\n",
       "      <td>1</td>\n",
       "      <td>0</td>\n",
       "      <td>0</td>\n",
       "    </tr>\n",
       "  </tbody>\n",
       "</table>\n",
       "<p>1 rows × 33 columns</p>\n",
       "</div>"
      ],
      "text/plain": [
       "     year  month  day gender   age  height  weight  \\\n",
       "344  2016      1    5   Male  18.0    1.87   173.0   \n",
       "\n",
       "    family_history_with_overweight FAVC  FCVC  ...  CALC_encoded Automobile  \\\n",
       "344                            yes  yes   3.0  ...             1        0.0   \n",
       "\n",
       "    Bike  Motorbike Public_Transportation  Walking  \\\n",
       "344  0.0        0.0                   1.0      0.0   \n",
       "\n",
       "     family_history_with_overweight_encoded FAVC_encoded SMOKE_encoded  \\\n",
       "344                                       1            1             0   \n",
       "\n",
       "    SCC_encoded  \n",
       "344           0  \n",
       "\n",
       "[1 rows x 33 columns]"
      ]
     },
     "metadata": {},
     "output_type": "display_data"
    }
   ],
   "source": [
    "outlier_cols = [\"age\", \"height\", \"weight\"]\n",
    "for col in outlier_cols:\n",
    "    lower = obs_df[col].mean() - 3*obs_df[col].std()\n",
    "    upper = obs_df[col].mean() + 3*obs_df[col].std()\n",
    "\n",
    "    col_outlier = obs_df[(obs_df[col] < lower) | (obs_df[col] > upper)]\n",
    "    display(f'{col} outlier(s):')\n",
    "    display(col_outlier)\n",
    "    "
   ]
  },
  {
   "cell_type": "markdown",
   "metadata": {},
   "source": [
    ">__Task 15__\n",
    ">\n",
    ">Split the data set into 80% train set and 20% test set\n",
    ">\n",
    ">- The target variable is __NObesity_encoded__\n",
    ">- The feature columns are __age__, __height__, __weight__, __FCVC__, __NCP__, __CH2O__, __CAEC_encoded__, __CALC_encoded__, __Automobile__, __Bike__, __Motorbike__, __Public_Transportation__, __Walking__, __family_history_with_overweight_encoded__, __FAVC_encoded__, __SMOKE_encoded__, __SCC_encoded__\n",
    ">\n",
    ">Remember our target variable has multiple categories? Do you need to consider stratified splitting?"
   ]
  },
  {
   "cell_type": "code",
   "execution_count": 83,
   "metadata": {},
   "outputs": [
    {
     "data": {
      "text/plain": [
       "'X train shape (1688, 17)'"
      ]
     },
     "metadata": {},
     "output_type": "display_data"
    },
    {
     "data": {
      "text/plain": [
       "'y train shape (1688,)'"
      ]
     },
     "metadata": {},
     "output_type": "display_data"
    },
    {
     "data": {
      "text/plain": [
       "'X test shape (423, 17)'"
      ]
     },
     "metadata": {},
     "output_type": "display_data"
    },
    {
     "data": {
      "text/plain": [
       "'y test shape (423,)'"
      ]
     },
     "metadata": {},
     "output_type": "display_data"
    }
   ],
   "source": [
    "from sklearn.model_selection import train_test_split\n",
    "target_var = 'NObesity_encoded'\n",
    "feature_var = ['age', 'height', 'weight', 'FCVC', 'NCP', 'CH2O', 'CAEC_encoded', 'CALC_encoded',\n",
    "               'Automobile', 'Bike', 'Motorbike', 'Public_Transportation', 'Walking',\n",
    "               'family_history_with_overweight_encoded', 'FAVC_encoded', 'SMOKE_encoded', 'SCC_encoded']\n",
    "\n",
    "X = obs_df[feature_var]\n",
    "y = obs_df[target_var]\n",
    "\n",
    "'''\n",
    "It is important to stratify this data based on the target variable because we want the training data to include all of the \n",
    "possible categories of NObesity_encoded - ex isn't all trained on normal weight people\n",
    "'''\n",
    "X_train, X_test, y_train, y_test = train_test_split(X, y, test_size = 0.2, stratify = y)\n",
    "\n",
    "display(f'X train shape {X_train.shape}')\n",
    "display(f'y train shape {y_train.shape}')\n",
    "display(f'X test shape {X_test.shape}')\n",
    "display(f'y test shape {y_test.shape}')"
   ]
  },
  {
   "cell_type": "code",
   "execution_count": 84,
   "metadata": {},
   "outputs": [
    {
     "name": "stdout",
     "output_type": "stream",
     "text": [
      "NObesity_encoded\n",
      " 5    281\n",
      " 3    259\n",
      " 4    237\n",
      " 2    232\n",
      " 1    232\n",
      " 0    229\n",
      "-1    218\n",
      "Name: count, dtype: int64 NObesity_encoded\n",
      " 5    70\n",
      " 3    65\n",
      " 4    60\n",
      " 1    58\n",
      " 2    58\n",
      " 0    58\n",
      "-1    54\n",
      "Name: count, dtype: int64\n"
     ]
    }
   ],
   "source": [
    "# Check the target var distribution in train set vs test set\n",
    "print(y_train.value_counts(), y_test.value_counts())"
   ]
  },
  {
   "cell_type": "markdown",
   "metadata": {},
   "source": [
    ">__Task 16__\n",
    ">\n",
    ">- Apply `MinMaxScaler` to scale columns __age__, __height__, __weight__, __FCVC__, __NCP__, __CH2O__ between 0 and 1. Do you need to scale the encoded categorical variables?\n",
    ">- Implement the scaler to both train and test sets from the above task. Hint: you can assign the scaled value to `X_train[cols]` and `X_test[cols]`."
   ]
  },
  {
   "cell_type": "code",
   "execution_count": 85,
   "metadata": {},
   "outputs": [
    {
     "data": {
      "text/html": [
       "<div>\n",
       "<style scoped>\n",
       "    .dataframe tbody tr th:only-of-type {\n",
       "        vertical-align: middle;\n",
       "    }\n",
       "\n",
       "    .dataframe tbody tr th {\n",
       "        vertical-align: top;\n",
       "    }\n",
       "\n",
       "    .dataframe thead th {\n",
       "        text-align: right;\n",
       "    }\n",
       "</style>\n",
       "<table border=\"1\" class=\"dataframe\">\n",
       "  <thead>\n",
       "    <tr style=\"text-align: right;\">\n",
       "      <th></th>\n",
       "      <th>age</th>\n",
       "      <th>height</th>\n",
       "      <th>weight</th>\n",
       "      <th>FCVC</th>\n",
       "      <th>NCP</th>\n",
       "      <th>CH2O</th>\n",
       "      <th>CAEC_encoded</th>\n",
       "      <th>CALC_encoded</th>\n",
       "      <th>Automobile</th>\n",
       "      <th>Bike</th>\n",
       "      <th>Motorbike</th>\n",
       "      <th>Public_Transportation</th>\n",
       "      <th>Walking</th>\n",
       "      <th>family_history_with_overweight_encoded</th>\n",
       "      <th>FAVC_encoded</th>\n",
       "      <th>SMOKE_encoded</th>\n",
       "      <th>SCC_encoded</th>\n",
       "    </tr>\n",
       "  </thead>\n",
       "  <tbody>\n",
       "    <tr>\n",
       "      <th>1837</th>\n",
       "      <td>20.941943</td>\n",
       "      <td>1.812963</td>\n",
       "      <td>138.730619</td>\n",
       "      <td>3.000000</td>\n",
       "      <td>3.00000</td>\n",
       "      <td>2.641489</td>\n",
       "      <td>1</td>\n",
       "      <td>1</td>\n",
       "      <td>0.0</td>\n",
       "      <td>0.0</td>\n",
       "      <td>0.0</td>\n",
       "      <td>1.0</td>\n",
       "      <td>0.0</td>\n",
       "      <td>1</td>\n",
       "      <td>1</td>\n",
       "      <td>0</td>\n",
       "      <td>0</td>\n",
       "    </tr>\n",
       "    <tr>\n",
       "      <th>110</th>\n",
       "      <td>21.000000</td>\n",
       "      <td>1.750000</td>\n",
       "      <td>75.000000</td>\n",
       "      <td>3.000000</td>\n",
       "      <td>3.00000</td>\n",
       "      <td>2.000000</td>\n",
       "      <td>1</td>\n",
       "      <td>1</td>\n",
       "      <td>0.0</td>\n",
       "      <td>0.0</td>\n",
       "      <td>0.0</td>\n",
       "      <td>1.0</td>\n",
       "      <td>0.0</td>\n",
       "      <td>1</td>\n",
       "      <td>1</td>\n",
       "      <td>0</td>\n",
       "      <td>0</td>\n",
       "    </tr>\n",
       "    <tr>\n",
       "      <th>857</th>\n",
       "      <td>28.825223</td>\n",
       "      <td>1.765874</td>\n",
       "      <td>82.045045</td>\n",
       "      <td>1.064162</td>\n",
       "      <td>3.98955</td>\n",
       "      <td>2.028426</td>\n",
       "      <td>1</td>\n",
       "      <td>1</td>\n",
       "      <td>0.0</td>\n",
       "      <td>0.0</td>\n",
       "      <td>0.0</td>\n",
       "      <td>1.0</td>\n",
       "      <td>0.0</td>\n",
       "      <td>1</td>\n",
       "      <td>1</td>\n",
       "      <td>0</td>\n",
       "      <td>0</td>\n",
       "    </tr>\n",
       "    <tr>\n",
       "      <th>202</th>\n",
       "      <td>26.000000</td>\n",
       "      <td>1.560000</td>\n",
       "      <td>102.000000</td>\n",
       "      <td>3.000000</td>\n",
       "      <td>3.00000</td>\n",
       "      <td>1.000000</td>\n",
       "      <td>1</td>\n",
       "      <td>1</td>\n",
       "      <td>0.0</td>\n",
       "      <td>0.0</td>\n",
       "      <td>0.0</td>\n",
       "      <td>1.0</td>\n",
       "      <td>0.0</td>\n",
       "      <td>1</td>\n",
       "      <td>1</td>\n",
       "      <td>1</td>\n",
       "      <td>0</td>\n",
       "    </tr>\n",
       "    <tr>\n",
       "      <th>319</th>\n",
       "      <td>27.000000</td>\n",
       "      <td>1.550000</td>\n",
       "      <td>63.000000</td>\n",
       "      <td>2.000000</td>\n",
       "      <td>3.00000</td>\n",
       "      <td>1.000000</td>\n",
       "      <td>1</td>\n",
       "      <td>1</td>\n",
       "      <td>1.0</td>\n",
       "      <td>0.0</td>\n",
       "      <td>0.0</td>\n",
       "      <td>0.0</td>\n",
       "      <td>0.0</td>\n",
       "      <td>0</td>\n",
       "      <td>1</td>\n",
       "      <td>0</td>\n",
       "      <td>0</td>\n",
       "    </tr>\n",
       "  </tbody>\n",
       "</table>\n",
       "</div>"
      ],
      "text/plain": [
       "            age    height      weight      FCVC      NCP      CH2O  \\\n",
       "1837  20.941943  1.812963  138.730619  3.000000  3.00000  2.641489   \n",
       "110   21.000000  1.750000   75.000000  3.000000  3.00000  2.000000   \n",
       "857   28.825223  1.765874   82.045045  1.064162  3.98955  2.028426   \n",
       "202   26.000000  1.560000  102.000000  3.000000  3.00000  1.000000   \n",
       "319   27.000000  1.550000   63.000000  2.000000  3.00000  1.000000   \n",
       "\n",
       "      CAEC_encoded  CALC_encoded  Automobile  Bike  Motorbike  \\\n",
       "1837             1             1         0.0   0.0        0.0   \n",
       "110              1             1         0.0   0.0        0.0   \n",
       "857              1             1         0.0   0.0        0.0   \n",
       "202              1             1         0.0   0.0        0.0   \n",
       "319              1             1         1.0   0.0        0.0   \n",
       "\n",
       "      Public_Transportation  Walking  family_history_with_overweight_encoded  \\\n",
       "1837                    1.0      0.0                                       1   \n",
       "110                     1.0      0.0                                       1   \n",
       "857                     1.0      0.0                                       1   \n",
       "202                     1.0      0.0                                       1   \n",
       "319                     0.0      0.0                                       0   \n",
       "\n",
       "      FAVC_encoded  SMOKE_encoded  SCC_encoded  \n",
       "1837             1              0            0  \n",
       "110              1              0            0  \n",
       "857              1              0            0  \n",
       "202              1              1            0  \n",
       "319              1              0            0  "
      ]
     },
     "execution_count": 85,
     "metadata": {},
     "output_type": "execute_result"
    }
   ],
   "source": [
    "X_train.head()"
   ]
  },
  {
   "cell_type": "code",
   "execution_count": 86,
   "metadata": {},
   "outputs": [
    {
     "data": {
      "text/plain": [
       "'X train'"
      ]
     },
     "metadata": {},
     "output_type": "display_data"
    },
    {
     "data": {
      "text/html": [
       "<div>\n",
       "<style scoped>\n",
       "    .dataframe tbody tr th:only-of-type {\n",
       "        vertical-align: middle;\n",
       "    }\n",
       "\n",
       "    .dataframe tbody tr th {\n",
       "        vertical-align: top;\n",
       "    }\n",
       "\n",
       "    .dataframe thead th {\n",
       "        text-align: right;\n",
       "    }\n",
       "</style>\n",
       "<table border=\"1\" class=\"dataframe\">\n",
       "  <thead>\n",
       "    <tr style=\"text-align: right;\">\n",
       "      <th></th>\n",
       "      <th>age</th>\n",
       "      <th>height</th>\n",
       "      <th>weight</th>\n",
       "      <th>FCVC</th>\n",
       "      <th>NCP</th>\n",
       "      <th>CH2O</th>\n",
       "      <th>CAEC_encoded</th>\n",
       "      <th>CALC_encoded</th>\n",
       "      <th>Automobile</th>\n",
       "      <th>Bike</th>\n",
       "      <th>Motorbike</th>\n",
       "      <th>Public_Transportation</th>\n",
       "      <th>Walking</th>\n",
       "      <th>family_history_with_overweight_encoded</th>\n",
       "      <th>FAVC_encoded</th>\n",
       "      <th>SMOKE_encoded</th>\n",
       "      <th>SCC_encoded</th>\n",
       "    </tr>\n",
       "  </thead>\n",
       "  <tbody>\n",
       "    <tr>\n",
       "      <th>1837</th>\n",
       "      <td>0.147701</td>\n",
       "      <td>0.684836</td>\n",
       "      <td>0.744258</td>\n",
       "      <td>1.000000</td>\n",
       "      <td>0.666667</td>\n",
       "      <td>0.820744</td>\n",
       "      <td>1</td>\n",
       "      <td>1</td>\n",
       "      <td>0.0</td>\n",
       "      <td>0.0</td>\n",
       "      <td>0.0</td>\n",
       "      <td>1.0</td>\n",
       "      <td>0.0</td>\n",
       "      <td>1</td>\n",
       "      <td>1</td>\n",
       "      <td>0</td>\n",
       "      <td>0</td>\n",
       "    </tr>\n",
       "    <tr>\n",
       "      <th>110</th>\n",
       "      <td>0.148936</td>\n",
       "      <td>0.566038</td>\n",
       "      <td>0.268657</td>\n",
       "      <td>1.000000</td>\n",
       "      <td>0.666667</td>\n",
       "      <td>0.500000</td>\n",
       "      <td>1</td>\n",
       "      <td>1</td>\n",
       "      <td>0.0</td>\n",
       "      <td>0.0</td>\n",
       "      <td>0.0</td>\n",
       "      <td>1.0</td>\n",
       "      <td>0.0</td>\n",
       "      <td>1</td>\n",
       "      <td>1</td>\n",
       "      <td>0</td>\n",
       "      <td>0</td>\n",
       "    </tr>\n",
       "    <tr>\n",
       "      <th>857</th>\n",
       "      <td>0.315430</td>\n",
       "      <td>0.595989</td>\n",
       "      <td>0.321232</td>\n",
       "      <td>0.032081</td>\n",
       "      <td>0.996517</td>\n",
       "      <td>0.514213</td>\n",
       "      <td>1</td>\n",
       "      <td>1</td>\n",
       "      <td>0.0</td>\n",
       "      <td>0.0</td>\n",
       "      <td>0.0</td>\n",
       "      <td>1.0</td>\n",
       "      <td>0.0</td>\n",
       "      <td>1</td>\n",
       "      <td>1</td>\n",
       "      <td>0</td>\n",
       "      <td>0</td>\n",
       "    </tr>\n",
       "    <tr>\n",
       "      <th>202</th>\n",
       "      <td>0.255319</td>\n",
       "      <td>0.207547</td>\n",
       "      <td>0.470149</td>\n",
       "      <td>1.000000</td>\n",
       "      <td>0.666667</td>\n",
       "      <td>0.000000</td>\n",
       "      <td>1</td>\n",
       "      <td>1</td>\n",
       "      <td>0.0</td>\n",
       "      <td>0.0</td>\n",
       "      <td>0.0</td>\n",
       "      <td>1.0</td>\n",
       "      <td>0.0</td>\n",
       "      <td>1</td>\n",
       "      <td>1</td>\n",
       "      <td>1</td>\n",
       "      <td>0</td>\n",
       "    </tr>\n",
       "    <tr>\n",
       "      <th>319</th>\n",
       "      <td>0.276596</td>\n",
       "      <td>0.188679</td>\n",
       "      <td>0.179104</td>\n",
       "      <td>0.500000</td>\n",
       "      <td>0.666667</td>\n",
       "      <td>0.000000</td>\n",
       "      <td>1</td>\n",
       "      <td>1</td>\n",
       "      <td>1.0</td>\n",
       "      <td>0.0</td>\n",
       "      <td>0.0</td>\n",
       "      <td>0.0</td>\n",
       "      <td>0.0</td>\n",
       "      <td>0</td>\n",
       "      <td>1</td>\n",
       "      <td>0</td>\n",
       "      <td>0</td>\n",
       "    </tr>\n",
       "  </tbody>\n",
       "</table>\n",
       "</div>"
      ],
      "text/plain": [
       "           age    height    weight      FCVC       NCP      CH2O  \\\n",
       "1837  0.147701  0.684836  0.744258  1.000000  0.666667  0.820744   \n",
       "110   0.148936  0.566038  0.268657  1.000000  0.666667  0.500000   \n",
       "857   0.315430  0.595989  0.321232  0.032081  0.996517  0.514213   \n",
       "202   0.255319  0.207547  0.470149  1.000000  0.666667  0.000000   \n",
       "319   0.276596  0.188679  0.179104  0.500000  0.666667  0.000000   \n",
       "\n",
       "      CAEC_encoded  CALC_encoded  Automobile  Bike  Motorbike  \\\n",
       "1837             1             1         0.0   0.0        0.0   \n",
       "110              1             1         0.0   0.0        0.0   \n",
       "857              1             1         0.0   0.0        0.0   \n",
       "202              1             1         0.0   0.0        0.0   \n",
       "319              1             1         1.0   0.0        0.0   \n",
       "\n",
       "      Public_Transportation  Walking  family_history_with_overweight_encoded  \\\n",
       "1837                    1.0      0.0                                       1   \n",
       "110                     1.0      0.0                                       1   \n",
       "857                     1.0      0.0                                       1   \n",
       "202                     1.0      0.0                                       1   \n",
       "319                     0.0      0.0                                       0   \n",
       "\n",
       "      FAVC_encoded  SMOKE_encoded  SCC_encoded  \n",
       "1837             1              0            0  \n",
       "110              1              0            0  \n",
       "857              1              0            0  \n",
       "202              1              1            0  \n",
       "319              1              0            0  "
      ]
     },
     "metadata": {},
     "output_type": "display_data"
    },
    {
     "data": {
      "text/plain": [
       "'X test'"
      ]
     },
     "metadata": {},
     "output_type": "display_data"
    },
    {
     "data": {
      "text/html": [
       "<div>\n",
       "<style scoped>\n",
       "    .dataframe tbody tr th:only-of-type {\n",
       "        vertical-align: middle;\n",
       "    }\n",
       "\n",
       "    .dataframe tbody tr th {\n",
       "        vertical-align: top;\n",
       "    }\n",
       "\n",
       "    .dataframe thead th {\n",
       "        text-align: right;\n",
       "    }\n",
       "</style>\n",
       "<table border=\"1\" class=\"dataframe\">\n",
       "  <thead>\n",
       "    <tr style=\"text-align: right;\">\n",
       "      <th></th>\n",
       "      <th>age</th>\n",
       "      <th>height</th>\n",
       "      <th>weight</th>\n",
       "      <th>FCVC</th>\n",
       "      <th>NCP</th>\n",
       "      <th>CH2O</th>\n",
       "      <th>CAEC_encoded</th>\n",
       "      <th>CALC_encoded</th>\n",
       "      <th>Automobile</th>\n",
       "      <th>Bike</th>\n",
       "      <th>Motorbike</th>\n",
       "      <th>Public_Transportation</th>\n",
       "      <th>Walking</th>\n",
       "      <th>family_history_with_overweight_encoded</th>\n",
       "      <th>FAVC_encoded</th>\n",
       "      <th>SMOKE_encoded</th>\n",
       "      <th>SCC_encoded</th>\n",
       "    </tr>\n",
       "  </thead>\n",
       "  <tbody>\n",
       "    <tr>\n",
       "      <th>1119</th>\n",
       "      <td>0.456518</td>\n",
       "      <td>0.380777</td>\n",
       "      <td>0.301776</td>\n",
       "      <td>0.578032</td>\n",
       "      <td>0.636372</td>\n",
       "      <td>0.110641</td>\n",
       "      <td>1</td>\n",
       "      <td>0</td>\n",
       "      <td>1.0</td>\n",
       "      <td>0.0</td>\n",
       "      <td>0.0</td>\n",
       "      <td>0.0</td>\n",
       "      <td>0.0</td>\n",
       "      <td>1</td>\n",
       "      <td>1</td>\n",
       "      <td>0</td>\n",
       "      <td>0</td>\n",
       "    </tr>\n",
       "    <tr>\n",
       "      <th>1779</th>\n",
       "      <td>0.230328</td>\n",
       "      <td>0.289625</td>\n",
       "      <td>0.462972</td>\n",
       "      <td>0.998093</td>\n",
       "      <td>0.044681</td>\n",
       "      <td>0.135083</td>\n",
       "      <td>1</td>\n",
       "      <td>0</td>\n",
       "      <td>0.0</td>\n",
       "      <td>0.0</td>\n",
       "      <td>0.0</td>\n",
       "      <td>1.0</td>\n",
       "      <td>0.0</td>\n",
       "      <td>1</td>\n",
       "      <td>1</td>\n",
       "      <td>0</td>\n",
       "      <td>0</td>\n",
       "    </tr>\n",
       "    <tr>\n",
       "      <th>1445</th>\n",
       "      <td>0.142066</td>\n",
       "      <td>0.625002</td>\n",
       "      <td>0.477246</td>\n",
       "      <td>0.500000</td>\n",
       "      <td>0.666667</td>\n",
       "      <td>0.309095</td>\n",
       "      <td>1</td>\n",
       "      <td>0</td>\n",
       "      <td>0.0</td>\n",
       "      <td>0.0</td>\n",
       "      <td>0.0</td>\n",
       "      <td>1.0</td>\n",
       "      <td>0.0</td>\n",
       "      <td>1</td>\n",
       "      <td>1</td>\n",
       "      <td>0</td>\n",
       "      <td>0</td>\n",
       "    </tr>\n",
       "    <tr>\n",
       "      <th>2004</th>\n",
       "      <td>0.255319</td>\n",
       "      <td>0.347066</td>\n",
       "      <td>0.544259</td>\n",
       "      <td>1.000000</td>\n",
       "      <td>0.666667</td>\n",
       "      <td>0.841402</td>\n",
       "      <td>1</td>\n",
       "      <td>1</td>\n",
       "      <td>0.0</td>\n",
       "      <td>0.0</td>\n",
       "      <td>0.0</td>\n",
       "      <td>1.0</td>\n",
       "      <td>0.0</td>\n",
       "      <td>1</td>\n",
       "      <td>1</td>\n",
       "      <td>0</td>\n",
       "      <td>0</td>\n",
       "    </tr>\n",
       "    <tr>\n",
       "      <th>1234</th>\n",
       "      <td>0.559953</td>\n",
       "      <td>0.634562</td>\n",
       "      <td>0.443637</td>\n",
       "      <td>0.500000</td>\n",
       "      <td>0.666667</td>\n",
       "      <td>0.840146</td>\n",
       "      <td>1</td>\n",
       "      <td>1</td>\n",
       "      <td>1.0</td>\n",
       "      <td>0.0</td>\n",
       "      <td>0.0</td>\n",
       "      <td>0.0</td>\n",
       "      <td>0.0</td>\n",
       "      <td>1</td>\n",
       "      <td>1</td>\n",
       "      <td>0</td>\n",
       "      <td>0</td>\n",
       "    </tr>\n",
       "  </tbody>\n",
       "</table>\n",
       "</div>"
      ],
      "text/plain": [
       "           age    height    weight      FCVC       NCP      CH2O  \\\n",
       "1119  0.456518  0.380777  0.301776  0.578032  0.636372  0.110641   \n",
       "1779  0.230328  0.289625  0.462972  0.998093  0.044681  0.135083   \n",
       "1445  0.142066  0.625002  0.477246  0.500000  0.666667  0.309095   \n",
       "2004  0.255319  0.347066  0.544259  1.000000  0.666667  0.841402   \n",
       "1234  0.559953  0.634562  0.443637  0.500000  0.666667  0.840146   \n",
       "\n",
       "      CAEC_encoded  CALC_encoded  Automobile  Bike  Motorbike  \\\n",
       "1119             1             0         1.0   0.0        0.0   \n",
       "1779             1             0         0.0   0.0        0.0   \n",
       "1445             1             0         0.0   0.0        0.0   \n",
       "2004             1             1         0.0   0.0        0.0   \n",
       "1234             1             1         1.0   0.0        0.0   \n",
       "\n",
       "      Public_Transportation  Walking  family_history_with_overweight_encoded  \\\n",
       "1119                    0.0      0.0                                       1   \n",
       "1779                    1.0      0.0                                       1   \n",
       "1445                    1.0      0.0                                       1   \n",
       "2004                    1.0      0.0                                       1   \n",
       "1234                    0.0      0.0                                       1   \n",
       "\n",
       "      FAVC_encoded  SMOKE_encoded  SCC_encoded  \n",
       "1119             1              0            0  \n",
       "1779             1              0            0  \n",
       "1445             1              0            0  \n",
       "2004             1              0            0  \n",
       "1234             1              0            0  "
      ]
     },
     "metadata": {},
     "output_type": "display_data"
    }
   ],
   "source": [
    "# Note that the scaler will need to fit to train set\n",
    "from sklearn.preprocessing import MinMaxScaler\n",
    "\n",
    "scale_cols = ['age', 'height', 'weight', 'FCVC', 'NCP', 'CH2O']\n",
    "\n",
    "min_max = MinMaxScaler()\n",
    "\n",
    "# Transform both train and test sets\n",
    "X_train[scale_cols] = min_max.fit_transform(X_train[scale_cols])\n",
    "X_test[scale_cols]  = min_max.transform(X_test[scale_cols])\n",
    "\n",
    "display(\"X train\", X_train.head())\n",
    "display(\"X test\", X_test.head())"
   ]
  },
  {
   "cell_type": "markdown",
   "metadata": {},
   "source": [
    "# Regression "
   ]
  },
  {
   "cell_type": "code",
   "execution_count": 87,
   "metadata": {},
   "outputs": [],
   "source": [
    "from ISLP import load_data\n",
    "from ISLP.models import (ModelSpec as MS,summarize , poly)\n",
    "\n",
    "import pandas as pd\n",
    "import seaborn as sns\n",
    "import matplotlib.pyplot as plt\n"
   ]
  },
  {
   "cell_type": "code",
   "execution_count": 88,
   "metadata": {},
   "outputs": [
    {
     "data": {
      "text/plain": [
       "Index(['crim', 'zn', 'indus', 'chas', 'nox', 'rm', 'age', 'dis', 'rad', 'tax',\n",
       "       'ptratio', 'lstat', 'medv'],\n",
       "      dtype='object')"
      ]
     },
     "execution_count": 88,
     "metadata": {},
     "output_type": "execute_result"
    }
   ],
   "source": [
    "## Load Boston Data\n",
    "boston = load_data(\"Boston\") \n",
    "boston.columns"
   ]
  },
  {
   "cell_type": "markdown",
   "metadata": {},
   "source": [
    "According to the [Kaggle page](https://www.kaggle.com/datasets/avish5787/boston-data-set), below you can find the details:"
   ]
  },
  {
   "cell_type": "markdown",
   "metadata": {},
   "source": [
    "- CRIM - per capita crime rate by town\n",
    "- ZN - proportion of residential land zoned for lots over 25,000 sq.ft.\n",
    "- INDUS - proportion of non-retail business acres per town.\n",
    "- CHAS - Charles River dummy variable (1 if tract bounds river; 0 otherwise)\n",
    "- NOX - nitric oxides concentration (parts per 10 million)\n",
    "- RM - average number of rooms per dwelling\n",
    "- AGE - proportion of owner-occupied units built prior to 1940\n",
    "- DIS - weighted distances to five Boston employment centres\n",
    "- RAD - index of accessibility to radial highways\n",
    "- TAX - full-value property-tax rate per \\$10,000\n",
    "- PTRATIO - pupil-teacher ratio by town\n",
    "- B - 1000(Bk - 0.63)^2 where Bk is the proportion of blacks by town\n",
    "- LSTAT - \\% lower status of the population\n",
    "- MEDV - Median value of owner-occupied homes in \\$1000's"
   ]
  },
  {
   "cell_type": "markdown",
   "metadata": {},
   "source": [
    ">__Task 17__\n",
    ">\n",
    "> Give a first look at your data. Print how many row/columns in the data, print the first 5 rows and use .info to learn more about it."
   ]
  },
  {
   "cell_type": "code",
   "execution_count": 89,
   "metadata": {},
   "outputs": [
    {
     "data": {
      "text/plain": [
       "'# rows: 506'"
      ]
     },
     "metadata": {},
     "output_type": "display_data"
    },
    {
     "data": {
      "text/plain": [
       "'# cols: 13'"
      ]
     },
     "metadata": {},
     "output_type": "display_data"
    }
   ],
   "source": [
    "# row/column counts\n",
    "display(f'# rows: {boston.shape[0]}')\n",
    "display(f'# cols: {boston.shape[1]}')"
   ]
  },
  {
   "cell_type": "code",
   "execution_count": 90,
   "metadata": {},
   "outputs": [
    {
     "data": {
      "text/html": [
       "<div>\n",
       "<style scoped>\n",
       "    .dataframe tbody tr th:only-of-type {\n",
       "        vertical-align: middle;\n",
       "    }\n",
       "\n",
       "    .dataframe tbody tr th {\n",
       "        vertical-align: top;\n",
       "    }\n",
       "\n",
       "    .dataframe thead th {\n",
       "        text-align: right;\n",
       "    }\n",
       "</style>\n",
       "<table border=\"1\" class=\"dataframe\">\n",
       "  <thead>\n",
       "    <tr style=\"text-align: right;\">\n",
       "      <th></th>\n",
       "      <th>crim</th>\n",
       "      <th>zn</th>\n",
       "      <th>indus</th>\n",
       "      <th>chas</th>\n",
       "      <th>nox</th>\n",
       "      <th>rm</th>\n",
       "      <th>age</th>\n",
       "      <th>dis</th>\n",
       "      <th>rad</th>\n",
       "      <th>tax</th>\n",
       "      <th>ptratio</th>\n",
       "      <th>lstat</th>\n",
       "      <th>medv</th>\n",
       "    </tr>\n",
       "  </thead>\n",
       "  <tbody>\n",
       "    <tr>\n",
       "      <th>0</th>\n",
       "      <td>0.00632</td>\n",
       "      <td>18.0</td>\n",
       "      <td>2.31</td>\n",
       "      <td>0</td>\n",
       "      <td>0.538</td>\n",
       "      <td>6.575</td>\n",
       "      <td>65.2</td>\n",
       "      <td>4.0900</td>\n",
       "      <td>1</td>\n",
       "      <td>296</td>\n",
       "      <td>15.3</td>\n",
       "      <td>4.98</td>\n",
       "      <td>24.0</td>\n",
       "    </tr>\n",
       "    <tr>\n",
       "      <th>1</th>\n",
       "      <td>0.02731</td>\n",
       "      <td>0.0</td>\n",
       "      <td>7.07</td>\n",
       "      <td>0</td>\n",
       "      <td>0.469</td>\n",
       "      <td>6.421</td>\n",
       "      <td>78.9</td>\n",
       "      <td>4.9671</td>\n",
       "      <td>2</td>\n",
       "      <td>242</td>\n",
       "      <td>17.8</td>\n",
       "      <td>9.14</td>\n",
       "      <td>21.6</td>\n",
       "    </tr>\n",
       "    <tr>\n",
       "      <th>2</th>\n",
       "      <td>0.02729</td>\n",
       "      <td>0.0</td>\n",
       "      <td>7.07</td>\n",
       "      <td>0</td>\n",
       "      <td>0.469</td>\n",
       "      <td>7.185</td>\n",
       "      <td>61.1</td>\n",
       "      <td>4.9671</td>\n",
       "      <td>2</td>\n",
       "      <td>242</td>\n",
       "      <td>17.8</td>\n",
       "      <td>4.03</td>\n",
       "      <td>34.7</td>\n",
       "    </tr>\n",
       "    <tr>\n",
       "      <th>3</th>\n",
       "      <td>0.03237</td>\n",
       "      <td>0.0</td>\n",
       "      <td>2.18</td>\n",
       "      <td>0</td>\n",
       "      <td>0.458</td>\n",
       "      <td>6.998</td>\n",
       "      <td>45.8</td>\n",
       "      <td>6.0622</td>\n",
       "      <td>3</td>\n",
       "      <td>222</td>\n",
       "      <td>18.7</td>\n",
       "      <td>2.94</td>\n",
       "      <td>33.4</td>\n",
       "    </tr>\n",
       "    <tr>\n",
       "      <th>4</th>\n",
       "      <td>0.06905</td>\n",
       "      <td>0.0</td>\n",
       "      <td>2.18</td>\n",
       "      <td>0</td>\n",
       "      <td>0.458</td>\n",
       "      <td>7.147</td>\n",
       "      <td>54.2</td>\n",
       "      <td>6.0622</td>\n",
       "      <td>3</td>\n",
       "      <td>222</td>\n",
       "      <td>18.7</td>\n",
       "      <td>5.33</td>\n",
       "      <td>36.2</td>\n",
       "    </tr>\n",
       "  </tbody>\n",
       "</table>\n",
       "</div>"
      ],
      "text/plain": [
       "      crim    zn  indus  chas    nox     rm   age     dis  rad  tax  ptratio  \\\n",
       "0  0.00632  18.0   2.31     0  0.538  6.575  65.2  4.0900    1  296     15.3   \n",
       "1  0.02731   0.0   7.07     0  0.469  6.421  78.9  4.9671    2  242     17.8   \n",
       "2  0.02729   0.0   7.07     0  0.469  7.185  61.1  4.9671    2  242     17.8   \n",
       "3  0.03237   0.0   2.18     0  0.458  6.998  45.8  6.0622    3  222     18.7   \n",
       "4  0.06905   0.0   2.18     0  0.458  7.147  54.2  6.0622    3  222     18.7   \n",
       "\n",
       "   lstat  medv  \n",
       "0   4.98  24.0  \n",
       "1   9.14  21.6  \n",
       "2   4.03  34.7  \n",
       "3   2.94  33.4  \n",
       "4   5.33  36.2  "
      ]
     },
     "execution_count": 90,
     "metadata": {},
     "output_type": "execute_result"
    }
   ],
   "source": [
    "# first 5 row\n",
    "boston.head()"
   ]
  },
  {
   "cell_type": "code",
   "execution_count": 91,
   "metadata": {},
   "outputs": [
    {
     "name": "stdout",
     "output_type": "stream",
     "text": [
      "<class 'pandas.core.frame.DataFrame'>\n",
      "RangeIndex: 506 entries, 0 to 505\n",
      "Data columns (total 13 columns):\n",
      " #   Column   Non-Null Count  Dtype  \n",
      "---  ------   --------------  -----  \n",
      " 0   crim     506 non-null    float64\n",
      " 1   zn       506 non-null    float64\n",
      " 2   indus    506 non-null    float64\n",
      " 3   chas     506 non-null    int64  \n",
      " 4   nox      506 non-null    float64\n",
      " 5   rm       506 non-null    float64\n",
      " 6   age      506 non-null    float64\n",
      " 7   dis      506 non-null    float64\n",
      " 8   rad      506 non-null    int64  \n",
      " 9   tax      506 non-null    int64  \n",
      " 10  ptratio  506 non-null    float64\n",
      " 11  lstat    506 non-null    float64\n",
      " 12  medv     506 non-null    float64\n",
      "dtypes: float64(10), int64(3)\n",
      "memory usage: 51.5 KB\n"
     ]
    }
   ],
   "source": [
    "# info\n",
    "boston.info()"
   ]
  },
  {
   "cell_type": "markdown",
   "metadata": {},
   "source": [
    ">__Task 18__\n",
    ">\n",
    "> Using seaborn package, plot the scatterplot of the data. On map `lstat` on x axis and `medv` on y axis. Use `hue` option to map `indus` to colour and `style` option to map `chas` to style "
   ]
  },
  {
   "cell_type": "code",
   "execution_count": 92,
   "metadata": {},
   "outputs": [
    {
     "data": {
      "image/png": "[encoded data removed]",
      "text/plain": [
       "<Figure size 640x480 with 1 Axes>"
      ]
     },
     "metadata": {},
     "output_type": "display_data"
    }
   ],
   "source": [
    "sns.scatterplot(\n",
    "    data = boston,\n",
    "    x = \"lstat\",\n",
    "    y = \"medv\",\n",
    "    hue = \"indus\",\n",
    "    style = \"chas\",\n",
    ")\n",
    "\n",
    "plt.title(\"Scatterplot of LSTAT vs MEDV\")\n",
    "plt.xlabel(\"% Lower Status of the Population (LSTAT)\")\n",
    "plt.ylabel(\"Median Value of Homes in $1000's (MEDV)\")\n",
    "\n",
    "plt.tight_layout()\n",
    "plt.show()"
   ]
  },
  {
   "cell_type": "markdown",
   "metadata": {},
   "source": [
    "It looks there is negative correlation between the median value of houses \\% of lower status of the population. Also as colours suggest, as the proportion of industrial residences increase price reduces."
   ]
  },
  {
   "cell_type": "markdown",
   "metadata": {},
   "source": [
    ">__Task 19__\n",
    ">\n",
    "> - Apply train test split to the data. Use 'medv' as output (y) values and everything else as input variables.\n",
    "> - The test size must be 20% of the data.\n",
    "> - Set randomm state to 156."
   ]
  },
  {
   "cell_type": "code",
   "execution_count": 93,
   "metadata": {},
   "outputs": [
    {
     "data": {
      "text/plain": [
       "'X train shape (404, 12)'"
      ]
     },
     "metadata": {},
     "output_type": "display_data"
    },
    {
     "data": {
      "text/plain": [
       "'y train shape (404,)'"
      ]
     },
     "metadata": {},
     "output_type": "display_data"
    },
    {
     "data": {
      "text/plain": [
       "'X test shape (102, 12)'"
      ]
     },
     "metadata": {},
     "output_type": "display_data"
    },
    {
     "data": {
      "text/plain": [
       "'y test shape (102,)'"
      ]
     },
     "metadata": {},
     "output_type": "display_data"
    }
   ],
   "source": [
    "from sklearn.model_selection import train_test_split\n",
    "\n",
    "y = boston['medv']\n",
    "X = boston.drop(['medv'], axis=1)\n",
    "\n",
    "X_train, X_test, y_train, y_test = train_test_split(X, y, test_size = 0.2, random_state = 156)\n",
    "\n",
    "display(f'X train shape {X_train.shape}')\n",
    "display(f'y train shape {y_train.shape}')\n",
    "display(f'X test shape {X_test.shape}')\n",
    "display(f'y test shape {y_test.shape}')"
   ]
  },
  {
   "cell_type": "markdown",
   "metadata": {},
   "source": [
    "### Fit Linear Model"
   ]
  },
  {
   "cell_type": "markdown",
   "metadata": {},
   "source": [
    "Below code fits a simple linear regression to model the relationship between `lstat` and `medv` and plots the model.\n",
    "- First we initiate the model\n",
    "- Then fit the model on train set\n",
    "- And finally calculate the test set (MAE and MSE) performance"
   ]
  },
  {
   "cell_type": "code",
   "execution_count": 94,
   "metadata": {},
   "outputs": [],
   "source": [
    "from sklearn.linear_model import LinearRegression\n",
    "# Initiate the model\n",
    "lm = LinearRegression()\n",
    "\n",
    "# Fit \n",
    "lm = lm.fit(X_train[['lstat']], y_train)"
   ]
  },
  {
   "cell_type": "markdown",
   "metadata": {},
   "source": [
    "The estimated coefficients are"
   ]
  },
  {
   "cell_type": "code",
   "execution_count": 95,
   "metadata": {},
   "outputs": [
    {
     "name": "stdout",
     "output_type": "stream",
     "text": [
      "34.517017608995346\n",
      "[-0.93555899]\n"
     ]
    }
   ],
   "source": [
    "print(lm.intercept_)\n",
    "print(lm.coef_)"
   ]
  },
  {
   "cell_type": "markdown",
   "metadata": {},
   "source": [
    "Now, lets plot the model"
   ]
  },
  {
   "cell_type": "code",
   "execution_count": 96,
   "metadata": {},
   "outputs": [
    {
     "data": {
      "image/png": "[encoded data removed]",
      "text/plain": [
       "<Figure size 640x480 with 1 Axes>"
      ]
     },
     "metadata": {},
     "output_type": "display_data"
    }
   ],
   "source": [
    "# Plot the scatterplot\n",
    "sns.scatterplot(data=boston, x=\"lstat\", y=\"medv\")\n",
    "\n",
    "# Add predictions\n",
    "preds = lm.predict(X[['lstat']])\n",
    "\n",
    "plt.plot(X[['lstat']],preds,c='black')\n",
    "plt.show()"
   ]
  },
  {
   "cell_type": "code",
   "execution_count": 97,
   "metadata": {},
   "outputs": [
    {
     "name": "stdout",
     "output_type": "stream",
     "text": [
      "MAE (test):  4.0284465458996985\n",
      "MSE (test):  32.112016040730275\n"
     ]
    }
   ],
   "source": [
    "from sklearn import metrics \n",
    "\n",
    "# Calculate the predictions on test set\n",
    "preds = lm.predict(X_test[['lstat']])\n",
    "\n",
    "print('MAE (test): ',metrics.mean_absolute_error(y_test,preds))\n",
    "print('MSE (test): ',metrics.mean_squared_error(y_test,preds))"
   ]
  },
  {
   "cell_type": "markdown",
   "metadata": {},
   "source": [
    ">__Task 20__\n",
    ">\n",
    "> - Fit a multi-linear regression. Use `['lstat','rm', 'nox']` as independent (input) variables and `medv` as dependent (output)\n",
    "> - Fit the model on train set\n",
    "> - Print the model coefficients\n",
    "> - Calculate the predictions on test set\n",
    "> - Print the test set MAE and MSE.\n",
    "> - Does the mean absolute and mean squarred errors reduce?"
   ]
  },
  {
   "cell_type": "code",
   "execution_count": 98,
   "metadata": {},
   "outputs": [
    {
     "name": "stdout",
     "output_type": "stream",
     "text": [
      "MAE (test):  3.6461922548779206\n",
      "MSE (test):  23.608132106949178\n"
     ]
    }
   ],
   "source": [
    "# Initiate and fit a Linear Regression model\n",
    "lm_multi = LinearRegression()\n",
    "\n",
    "inputs = ['lstat', 'rm', 'nox']\n",
    "lm_multi.fit(X_train[inputs], y_train)\n",
    "\n",
    "# Predict on test set\n",
    "preds_multi = lm_multi.predict(X_test[inputs])\n",
    "\n",
    "# Calculate performance\n",
    "print('MAE (test): ', metrics.mean_absolute_error(y_test,preds_multi))\n",
    "print('MSE (test): ', metrics.mean_squared_error(y_test,preds_multi))"
   ]
  },
  {
   "cell_type": "markdown",
   "metadata": {},
   "source": [
    "### Polynomial regression\n",
    "\n",
    "Polynomian regressions are nonlinear models that are trained using the same way that linear models are trained. Only difference is, instead of just inputting the features (independent variables) themselves, we also calculate their powers (square, cube, 4th degree etc) and input the model.\n",
    "\n",
    "Let's train a 4th-degree polynomial regression using only `lstat` as input. "
   ]
  },
  {
   "cell_type": "code",
   "execution_count": 99,
   "metadata": {},
   "outputs": [
    {
     "data": {
      "image/png": "[encoded data removed]",
      "text/plain": [
       "<Figure size 640x480 with 1 Axes>"
      ]
     },
     "metadata": {},
     "output_type": "display_data"
    }
   ],
   "source": [
    "from sklearn.preprocessing import PolynomialFeatures\n",
    "\n",
    "poly    = PolynomialFeatures (degree=4, include_bias=False)\n",
    "x_trn   = poly.fit_transform(X_train['lstat'].to_numpy().reshape(-1,1))\n",
    "\n",
    "lm = LinearRegression()\n",
    "lm = lm.fit(x_trn, y_train)\n",
    "\n",
    "x     = poly.transform(X['lstat'].to_numpy().reshape(-1,1))\n",
    "preds = lm.predict(x)\n",
    "\n",
    "# Plot the scatterplot\n",
    "sns.scatterplot(data=boston, x=\"lstat\", y=\"medv\")\n",
    "\n",
    "# Add predictions\n",
    "plt.scatter(X[['lstat']],preds,c='black')\n",
    "plt.show()"
   ]
  },
  {
   "cell_type": "markdown",
   "metadata": {},
   "source": [
    "As seen above the predictions are not linear but can be 4th degree polynomial function"
   ]
  },
  {
   "cell_type": "markdown",
   "metadata": {},
   "source": [
    "### Overfitting"
   ]
  },
  {
   "cell_type": "markdown",
   "metadata": {},
   "source": [
    ">__Task 21__\n",
    ">\n",
    "> - Complete the below code that fits polynomial regression with degree = 1,2,...,12 iteratively on train set and calculate the test set performance. Remember that in Python range(a,b) generates the series [a,a+1,...,b-1].\n",
    "> - The test MSE calculations are collected in a list, `MSEs`\n",
    "> - Plot the MSE against the degree of the polynomial regression.\n",
    "> - Which polynomial degree minimizes the test loss?\n"
   ]
  },
  {
   "cell_type": "code",
   "execution_count": 100,
   "metadata": {},
   "outputs": [
    {
     "name": "stdout",
     "output_type": "stream",
     "text": [
      "MSE (test):  32.112016040730275\n",
      "MSE (test):  28.427942440252203\n",
      "MSE (test):  27.05706529861536\n",
      "MSE (test):  26.704807249936245\n",
      "MSE (test):  26.0634194143409\n",
      "MSE (test):  26.30923542477949\n",
      "MSE (test):  26.300433328971625\n",
      "MSE (test):  27.18519595743746\n",
      "MSE (test):  26.869796096255122\n",
      "MSE (test):  27.29531373658939\n",
      "MSE (test):  27.592185917328873\n",
      "MSE (test):  31.08541469327315\n"
     ]
    }
   ],
   "source": [
    "from sklearn.preprocessing import PolynomialFeatures\n",
    "\n",
    "MSEs = []\n",
    "# Fit model and collect performance iteratively\n",
    "for i in range(1, 13):\n",
    "    # Fit a Linear Regression model\n",
    "    poly = PolynomialFeatures(degree=i, include_bias=False)\n",
    "    x_trn = poly.fit_transform(X_train['lstat'].to_numpy().reshape(-1,1))\n",
    "    \n",
    "    lm = LinearRegression()\n",
    "    lm = lm.fit(x_trn, y_train)\n",
    "    \n",
    "    # Predict on test set\n",
    "    x = poly.transform(X_test['lstat'].to_numpy().reshape(-1,1))\n",
    "    preds = lm.predict(x)\n",
    "    \n",
    "    # Calculate performance\n",
    "    mse = metrics.mean_squared_error(y_test,preds)\n",
    "    MSEs.append(mse)\n",
    "    print('MSE (test): ', mse)\n",
    "    "
   ]
  },
  {
   "cell_type": "markdown",
   "metadata": {},
   "source": [
    "Plot the MSE against the degree of the polynomial regression"
   ]
  },
  {
   "cell_type": "code",
   "execution_count": 101,
   "metadata": {},
   "outputs": [
    {
     "data": {
      "image/png": "[encoded data removed]",
      "text/plain": [
       "<Figure size 640x480 with 1 Axes>"
      ]
     },
     "metadata": {},
     "output_type": "display_data"
    }
   ],
   "source": [
    "plt.plot(range(1, 13), MSEs)\n",
    "plt.title(\"MSE vs Degree of Polynomial Fit\")\n",
    "plt.xlabel(\"Degree\")\n",
    "plt.ylabel(\"Mean Squared Error\")\n",
    "plt.show()"
   ]
  },
  {
   "cell_type": "code",
   "execution_count": null,
   "metadata": {},
   "outputs": [],
   "source": []
  }
 ],
 "metadata": {
  "kernelspec": {
   "display_name": "Python 3 (ipykernel)",
   "language": "python",
   "name": "python3"
  },
  "language_info": {
   "codemirror_mode": {
    "name": "ipython",
    "version": 3
   },
   "file_extension": ".py",
   "mimetype": "text/x-python",
   "name": "python",
   "nbconvert_exporter": "python",
   "pygments_lexer": "ipython3",
   "version": "3.12.8"
  }
 },
 "nbformat": 4,
 "nbformat_minor": 4
}
