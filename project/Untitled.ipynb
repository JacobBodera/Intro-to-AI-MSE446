{
 "cells": [
  {
   "cell_type": "code",
   "execution_count": 1,
   "id": "0bd19ca3-7cf1-4e7c-840c-05e296859f56",
   "metadata": {},
   "outputs": [],
   "source": [
    "import pandas as pd\n",
    "import numpy as np"
   ]
  },
  {
   "cell_type": "code",
   "execution_count": 8,
   "id": "26de29db-f6c8-4c62-a93c-2f9b450b73df",
   "metadata": {},
   "outputs": [],
   "source": [
    "data = pd.read_fwf(\"global_tech_salary.txt\", sep=',')"
   ]
  },
  {
   "cell_type": "code",
   "execution_count": 9,
   "id": "78ad2a72-24ae-4deb-a9fa-f5865141d166",
   "metadata": {},
   "outputs": [
    {
     "data": {
      "text/html": [
       "<div>\n",
       "<style scoped>\n",
       "    .dataframe tbody tr th:only-of-type {\n",
       "        vertical-align: middle;\n",
       "    }\n",
       "\n",
       "    .dataframe tbody tr th {\n",
       "        vertical-align: top;\n",
       "    }\n",
       "\n",
       "    .dataframe thead th {\n",
       "        text-align: right;\n",
       "    }\n",
       "</style>\n",
       "<table border=\"1\" class=\"dataframe\">\n",
       "  <thead>\n",
       "    <tr style=\"text-align: right;\">\n",
       "      <th></th>\n",
       "      <th>\"work_year\",\"experience_level\",\"employment_type\",\"job_title\",\"salary\",\"salary_currency\",\"salary_in_usd\",\"employee_residence\",\"remote_ratio\",\"company_location\",\"company_size\"</th>\n",
       "    </tr>\n",
       "  </thead>\n",
       "  <tbody>\n",
       "    <tr>\n",
       "      <th>0</th>\n",
       "      <td>2023,\"MI\",\"FT\",\"Data Analyst\",165000,\"USD\",165...</td>\n",
       "    </tr>\n",
       "    <tr>\n",
       "      <th>1</th>\n",
       "      <td>2023,\"MI\",\"FT\",\"Data Analyst\",70000,\"USD\",7000...</td>\n",
       "    </tr>\n",
       "    <tr>\n",
       "      <th>2</th>\n",
       "      <td>2024,\"MI\",\"FT\",\"Machine Learning Engineer\",850...</td>\n",
       "    </tr>\n",
       "    <tr>\n",
       "      <th>3</th>\n",
       "      <td>2024,\"SE\",\"FT\",\"Data Scientist\",92700,\"USD\",92...</td>\n",
       "    </tr>\n",
       "    <tr>\n",
       "      <th>4</th>\n",
       "      <td>2023,\"MI\",\"FT\",\"Research Engineer\",150000,\"USD...</td>\n",
       "    </tr>\n",
       "  </tbody>\n",
       "</table>\n",
       "</div>"
      ],
      "text/plain": [
       "  \"work_year\",\"experience_level\",\"employment_type\",\"job_title\",\"salary\",\"salary_currency\",\"salary_in_usd\",\"employee_residence\",\"remote_ratio\",\"company_location\",\"company_size\"\n",
       "0  2023,\"MI\",\"FT\",\"Data Analyst\",165000,\"USD\",165...                                                                                                                           \n",
       "1  2023,\"MI\",\"FT\",\"Data Analyst\",70000,\"USD\",7000...                                                                                                                           \n",
       "2  2024,\"MI\",\"FT\",\"Machine Learning Engineer\",850...                                                                                                                           \n",
       "3  2024,\"SE\",\"FT\",\"Data Scientist\",92700,\"USD\",92...                                                                                                                           \n",
       "4  2023,\"MI\",\"FT\",\"Research Engineer\",150000,\"USD...                                                                                                                           "
      ]
     },
     "execution_count": 9,
     "metadata": {},
     "output_type": "execute_result"
    }
   ],
   "source": [
    "data.head()"
   ]
  }
 ],
 "metadata": {
  "kernelspec": {
   "display_name": "Python 3 (ipykernel)",
   "language": "python",
   "name": "python3"
  },
  "language_info": {
   "codemirror_mode": {
    "name": "ipython",
    "version": 3
   },
   "file_extension": ".py",
   "mimetype": "text/x-python",
   "name": "python",
   "nbconvert_exporter": "python",
   "pygments_lexer": "ipython3",
   "version": "3.12.8"
  }
 },
 "nbformat": 4,
 "nbformat_minor": 5
}
